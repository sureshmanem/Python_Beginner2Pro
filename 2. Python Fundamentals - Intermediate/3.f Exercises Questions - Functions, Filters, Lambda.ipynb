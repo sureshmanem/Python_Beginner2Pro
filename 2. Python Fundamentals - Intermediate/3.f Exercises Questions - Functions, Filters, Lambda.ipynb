{
 "cells": [
  {
   "cell_type": "markdown",
   "metadata": {},
   "source": [
    "# <font color='red'> *INTERMEDIATE LEVEL* </font> \n",
    "## <font color='red'> FUNCTIONS, FILTERS AND LAMBDA EXPRESSIONS  </font> "
   ]
  },
  {
   "cell_type": "markdown",
   "metadata": {},
   "source": [
    "# <font color='blue'> 1. WRITE A FUNCTION THAT TAKES A VARIABLE AND SQUARE IT, THEN TEST THE FUNCTION BY TAKING AN INPUT FROM A USER"
   ]
  },
  {
   "cell_type": "code",
   "execution_count": 1,
   "metadata": {},
   "outputs": [],
   "source": [
    "def squared(x):\n",
    "    return x**2"
   ]
  },
  {
   "cell_type": "code",
   "execution_count": 4,
   "metadata": {},
   "outputs": [
    {
     "name": "stdout",
     "output_type": "stream",
     "text": [
      "Enter the number: 3\n",
      "The square of 3 is 9\n"
     ]
    }
   ],
   "source": [
    "x = int(input(\"Enter the number: \"))\n",
    "print(\"The square of {} is {}\".format(x, squared(x)))"
   ]
  },
  {
   "cell_type": "code",
   "execution_count": null,
   "metadata": {},
   "outputs": [],
   "source": []
  },
  {
   "cell_type": "markdown",
   "metadata": {},
   "source": [
    "# <font color='blue'> 2. WRITE A FUNCTION THAT TAKES 2 VARIABLE AND OBTAIN THE SUMMATION AND MULTIPLICATION, THEN TEST THE FUNCTION BY TAKING AN INPUT FROM A USER (REPEAT USING LAMBDA EXPRESSIONS)"
   ]
  },
  {
   "cell_type": "code",
   "execution_count": 6,
   "metadata": {},
   "outputs": [],
   "source": [
    "def sum_multi(x,y):\n",
    "    summation = x + y\n",
    "    multiply = x * y\n",
    "    return(summation,multiply)"
   ]
  },
  {
   "cell_type": "code",
   "execution_count": 7,
   "metadata": {},
   "outputs": [
    {
     "name": "stdout",
     "output_type": "stream",
     "text": [
      "Enter 1st value: 4\n",
      "Enter 2nd value: 5\n",
      "The summation is 9 and multiply is 20\n"
     ]
    }
   ],
   "source": [
    "x = int(input('Enter 1st value: '))\n",
    "y = int(input('Enter 2nd value: '))\n",
    "\n",
    "result_sum,result_multi = sum_multi(x,y)\n",
    "\n",
    "print('The summation is {} and multiply is {}'.format(result_sum,result_multi))"
   ]
  },
  {
   "cell_type": "markdown",
   "metadata": {},
   "source": [
    "# LAMBDA"
   ]
  },
  {
   "cell_type": "code",
   "execution_count": 13,
   "metadata": {},
   "outputs": [
    {
     "name": "stdout",
     "output_type": "stream",
     "text": [
      "Enter 1st value: 4\n",
      "Enter 2nd value: 5\n",
      "The summation is 9 and multiply is 20\n"
     ]
    }
   ],
   "source": [
    "x = int(input('Enter 1st value: '))\n",
    "y = int(input('Enter 2nd value: '))\n",
    "\n",
    "result_sum = lambda x,y:x+y\n",
    "result_multi = lambda x,y:x*y\n",
    "\n",
    "print('The summation is {} and multiply is {}'.format(result_sum(x,y),result_multi(x,y)))"
   ]
  },
  {
   "cell_type": "markdown",
   "metadata": {},
   "source": [
    "#  <font color='blue'>3. WRITE A FUNCTION THAT TAKES A VARIABLE AND RETURNS ITS FACTORIAL </font> "
   ]
  },
  {
   "cell_type": "code",
   "execution_count": 15,
   "metadata": {},
   "outputs": [
    {
     "name": "stdout",
     "output_type": "stream",
     "text": [
      "Enter a number: 5\n",
      "The factorial of 5 is 120\n"
     ]
    }
   ],
   "source": [
    "def factorial(x):\n",
    "    if x == 0:\n",
    "        return 1\n",
    "    return x * factorial(x-1)\n",
    "\n",
    "a = int(input(\"Enter a number: \"))\n",
    "print(\"The factorial of {} is {}\".format(a, factorial(a)))"
   ]
  },
  {
   "cell_type": "code",
   "execution_count": null,
   "metadata": {},
   "outputs": [],
   "source": []
  },
  {
   "cell_type": "code",
   "execution_count": null,
   "metadata": {},
   "outputs": [],
   "source": []
  },
  {
   "cell_type": "markdown",
   "metadata": {},
   "source": [
    "# <font color='blue'> 4. DEVELOP A SCRIPT WHOSE ITEMS ARE SQUARES OF THE ORIGINAL LIST </font> "
   ]
  },
  {
   "cell_type": "code",
   "execution_count": 16,
   "metadata": {},
   "outputs": [
    {
     "data": {
      "text/plain": [
       "[1, 4, 25, 36, 64, 100]"
      ]
     },
     "execution_count": 16,
     "metadata": {},
     "output_type": "execute_result"
    }
   ],
   "source": [
    "my_list = [1,2,5,6,8,10]\n",
    "out_list = [x**2 for x in my_list]\n",
    "out_list"
   ]
  },
  {
   "cell_type": "markdown",
   "metadata": {},
   "source": [
    "# <font color='blue'> 5. WRITE A FUNCTION THAT SQUARES A VARIABLE AND THEN TEST THE FUNCTION USING A LIST OF INTEGER NUMBERS RANGING FROM -20 to 20"
   ]
  },
  {
   "cell_type": "code",
   "execution_count": 17,
   "metadata": {},
   "outputs": [],
   "source": [
    "def squared(x):\n",
    "    return x**2"
   ]
  },
  {
   "cell_type": "code",
   "execution_count": 23,
   "metadata": {},
   "outputs": [
    {
     "name": "stdout",
     "output_type": "stream",
     "text": [
      "[400, 361, 324, 289, 256, 225, 196, 169, 144, 121, 100, 81, 64, 49, 36, 25, 16, 9, 4, 1, 0, 1, 4, 9, 16, 25, 36, 49, 64, 81, 100, 121, 144, 169, 196, 225, 256, 289, 324, 361]\n"
     ]
    }
   ],
   "source": [
    "numbers = range(-20,20)\n",
    "\n",
    "out_list = list(map(lambda x:squared(x),numbers))\n",
    "print(out_list)"
   ]
  },
  {
   "cell_type": "code",
   "execution_count": null,
   "metadata": {},
   "outputs": [],
   "source": []
  },
  {
   "cell_type": "code",
   "execution_count": null,
   "metadata": {},
   "outputs": [],
   "source": []
  },
  {
   "cell_type": "markdown",
   "metadata": {},
   "source": [
    "# <font color='blue'> 6. WRITE 3 FUNCTIONS THAT TAKE THE RADIUS OF A CIRCLE AND RETURN THE DIAMETER, AREA AND CIRCUMFERENCE, TEST THE FUNCTION USING AN INPUT FROM A USER "
   ]
  },
  {
   "cell_type": "code",
   "execution_count": 24,
   "metadata": {},
   "outputs": [],
   "source": [
    "import math\n",
    "\n",
    "def diameter(r):\n",
    "    return 2*r\n",
    "\n",
    "def area(r):\n",
    "    return math.pi*(r**2)\n",
    "\n",
    "def circumference(r):\n",
    "    return 2*math.pi*r"
   ]
  },
  {
   "cell_type": "code",
   "execution_count": 25,
   "metadata": {},
   "outputs": [
    {
     "name": "stdout",
     "output_type": "stream",
     "text": [
      "Enter a radius of a circle3\n",
      "circle diameter: 6\n",
      "circle area: 28.274333882308138\n",
      "circle circumference: 18.84955592153876\n"
     ]
    }
   ],
   "source": [
    "r = int(input(\"Enter a radius of a circle\"))\n",
    "print('circle diameter:', diameter(r))\n",
    "print('circle area:', area(r))\n",
    "print('circle circumference:', circumference(r))\n"
   ]
  },
  {
   "cell_type": "code",
   "execution_count": 26,
   "metadata": {},
   "outputs": [
    {
     "name": "stdout",
     "output_type": "stream",
     "text": [
      "Enter a radius of a circle3\n",
      "circle diameter: 6\n",
      "circle area: 28.274333882308138\n",
      "circle circumference: 18.84955592153876\n"
     ]
    }
   ],
   "source": [
    "import math\n",
    "r = int(input(\"Enter a radius of a circle\"))\n",
    "\n",
    "diameter = lambda r:2*r\n",
    "area = lambda r:math.pi*(r**2)\n",
    "circumference = lambda r:2*math.pi*r\n",
    "\n",
    "print('circle diameter:', diameter(r))\n",
    "print('circle area:', area(r))\n",
    "print('circle circumference:', circumference(r))\n"
   ]
  },
  {
   "cell_type": "markdown",
   "metadata": {},
   "source": [
    "# <font color='blue'> 7. WRITE A CODE THAT TAKES A RANGE FROM A USER (UPPER AND LOWER BOUND) AND RETURNS A LIST OF POSITIVE AND EVEN NUMBERS ONLY"
   ]
  },
  {
   "cell_type": "code",
   "execution_count": 30,
   "metadata": {},
   "outputs": [
    {
     "name": "stdout",
     "output_type": "stream",
     "text": [
      "Enter the lower bound: -10\n",
      "Enter the upper bound: 20\n",
      "[2, 4, 6, 8, 10, 12, 14, 16, 18]\n"
     ]
    }
   ],
   "source": [
    "low = int(input('Enter the lower bound: '))\n",
    "up = int(input('Enter the upper bound: '))\n",
    "\n",
    "myRange = range(low,up)\n",
    "out_list = list(filter(lambda x:(x>0 and x%2==0),myRange))\n",
    "\n",
    "print(out_list)"
   ]
  },
  {
   "cell_type": "markdown",
   "metadata": {},
   "source": [
    "# <font color='blue'> 8. USING FILTER AND LAMBDA EXPRESSION, WRITE A CODE THAT TAKES A LIST OF NUMBERS BELOW AND RETURNS EVEN NUMBERS ONLY"
   ]
  },
  {
   "cell_type": "code",
   "execution_count": 31,
   "metadata": {},
   "outputs": [
    {
     "name": "stdout",
     "output_type": "stream",
     "text": [
      "[10, 12, 14, 16]\n"
     ]
    }
   ],
   "source": [
    "low = [10,11,12,13,14,15,16]\n",
    "\n",
    "out_list = list(filter(lambda x:x%2==0,low))\n",
    "\n",
    "print(out_list)"
   ]
  },
  {
   "cell_type": "markdown",
   "metadata": {},
   "source": [
    "# <font color='blue'> 9. WRITE A FUNCTION THAT TAKES TWO NUMPY MATRICES AND RETURN THE ADDITION, SUBTRACTION, TRANSPOSE, PRODUCT, DOT PRODUCT"
   ]
  },
  {
   "cell_type": "code",
   "execution_count": null,
   "metadata": {},
   "outputs": [],
   "source": [
    "\n",
    "    "
   ]
  },
  {
   "cell_type": "code",
   "execution_count": null,
   "metadata": {},
   "outputs": [],
   "source": []
  },
  {
   "cell_type": "markdown",
   "metadata": {},
   "source": [
    "# <font color='blue'> 10. WRITE A FUNCTION THAT TAKES TWO VALUES FROM A USER AND SUM THEM UP. IF NO VALUES ARE PROVIDED, ASSUME DEFAULT VALUES OF 3 AND 5"
   ]
  },
  {
   "cell_type": "code",
   "execution_count": 36,
   "metadata": {},
   "outputs": [
    {
     "name": "stdout",
     "output_type": "stream",
     "text": [
      "15\n",
      "8\n"
     ]
    }
   ],
   "source": [
    "def myfn(x=3,y=5):\n",
    "    return x+y\n",
    "\n",
    "print(myfn(10,5))\n",
    "print(myfn())"
   ]
  },
  {
   "cell_type": "code",
   "execution_count": 37,
   "metadata": {},
   "outputs": [
    {
     "data": {
      "text/plain": [
       "<function __main__.<lambda>(x, y)>"
      ]
     },
     "execution_count": 37,
     "metadata": {},
     "output_type": "execute_result"
    }
   ],
   "source": []
  },
  {
   "cell_type": "markdown",
   "metadata": {},
   "source": [
    "# <font color='blue'> 11. WRITE A SCRIPT THAT WILL PROMPT A USER FOR A RANGE (MIN/MAX VALUE) AND RETURNS NUMBERS THAT ARE DIVISIBLE BY 4 BUT ARE NOT MULTIPLES OF 3 "
   ]
  },
  {
   "cell_type": "code",
   "execution_count": 38,
   "metadata": {},
   "outputs": [
    {
     "name": "stdout",
     "output_type": "stream",
     "text": [
      "Enter min range (window of numbers to look for!): 20\n",
      "Enter max range: 40\n",
      "['20', '28', '32']\n"
     ]
    }
   ],
   "source": [
    "min = int(input(\"Enter min range (window of numbers to look for!): \"))\n",
    "max = int(input(\"Enter max range: \"))\n",
    "\n",
    "my_numbers =[]\n",
    "for i in range(min, max):\n",
    "    if (i%4==0) and (i%3!=0):\n",
    "        my_numbers.append(str(i))\n",
    "print(my_numbers)"
   ]
  },
  {
   "cell_type": "code",
   "execution_count": 39,
   "metadata": {},
   "outputs": [
    {
     "name": "stdout",
     "output_type": "stream",
     "text": [
      "Enter min range (window of numbers to look for!): 10\n",
      "Enter max range: 40\n",
      "[16, 20, 28, 32]\n"
     ]
    }
   ],
   "source": [
    "\n",
    "min = int(input(\"Enter min range (window of numbers to look for!): \"))\n",
    "max = int(input(\"Enter max range: \"))\n",
    "\n",
    "myRange = range(min,max)\n",
    "\n",
    "my_numbers = list(filter(lambda x:(x%4==0 and x%3!=0),myRange))\n",
    "print(my_numbers)"
   ]
  },
  {
   "cell_type": "markdown",
   "metadata": {},
   "source": [
    "# <font color='blue'> 12. DEFINE AN ENGLISH TO FRENCH TRANSLATOR FUNCTION THAT TAKES AN INPUT FROM A USER AND RETURNS THE TRANSLATION, USE ANY 5 KNOWN WORDS"
   ]
  },
  {
   "cell_type": "code",
   "execution_count": 40,
   "metadata": {},
   "outputs": [],
   "source": [
    "eng_french = {'happy': 'heureux', \n",
    "             'success': 'Succès', \n",
    "             'studying': 'en train d\\'étudier',\n",
    "             'traveling': 'en voyageant',\n",
    "             'love': 'amour'}\n",
    "\n",
    "def dictionary_English2Frensh(word):\n",
    "    try:\n",
    "        return eng_french[word]\n",
    "    except KeyError:\n",
    "        return \"Dictionary does not contain this word\""
   ]
  },
  {
   "cell_type": "code",
   "execution_count": 41,
   "metadata": {},
   "outputs": [
    {
     "name": "stdout",
     "output_type": "stream",
     "text": [
      "Enter a word in english: HAPPY\n",
      "heureux\n"
     ]
    }
   ],
   "source": [
    "word = input(\"Enter a word in english: \").lower()\n",
    "print(dictionary_English2Frensh(word))"
   ]
  },
  {
   "cell_type": "markdown",
   "metadata": {},
   "source": [
    "# NOW YOU SHOULD BE FAMILIAR WITH FUNCTIONS, GREAT JOB!"
   ]
  }
 ],
 "metadata": {
  "kernelspec": {
   "display_name": "Python 3",
   "language": "python",
   "name": "python3"
  },
  "language_info": {
   "codemirror_mode": {
    "name": "ipython",
    "version": 3
   },
   "file_extension": ".py",
   "mimetype": "text/x-python",
   "name": "python",
   "nbconvert_exporter": "python",
   "pygments_lexer": "ipython3",
   "version": "3.7.6"
  }
 },
 "nbformat": 4,
 "nbformat_minor": 2
}
