{
 "cells": [
  {
   "cell_type": "markdown",
   "metadata": {},
   "source": [
    "# <font color='red'> *ABSOLUTE BEGINNER LEVEL* </font> \n",
    "## <font color='red'> COMPARISON AND LOGICAL OPERATORS AND IF STATEMENTS  </font> "
   ]
  },
  {
   "cell_type": "markdown",
   "metadata": {},
   "source": [
    "#  <font color='blue'>1. WHAT WILL THIS CODE GENERATE? PLEASE DO NOT RUN THE CODE! </font> "
   ]
  },
  {
   "cell_type": "code",
   "execution_count": 1,
   "metadata": {},
   "outputs": [
    {
     "name": "stdout",
     "output_type": "stream",
     "text": [
      "False\n",
      "True\n",
      "False\n",
      "True\n"
     ]
    }
   ],
   "source": [
    "print('Python' == 'PYTHON')\n",
    "print('PYTHON' == 'PYTHON')\n",
    "print('PYTHON' != 'PYTHON')\n",
    "print(15!=10)"
   ]
  },
  {
   "cell_type": "markdown",
   "metadata": {},
   "source": [
    "#  <font color='blue'>2. WHAT WILL THIS CODE GENERATE? PLEASE DO NOT RUN THE CODE! </font> \n"
   ]
  },
  {
   "cell_type": "code",
   "execution_count": 2,
   "metadata": {},
   "outputs": [
    {
     "name": "stdout",
     "output_type": "stream",
     "text": [
      "True\n"
     ]
    }
   ],
   "source": [
    "print( 'Hello'!='HELLO' and (6 > 2) and (5 == 5)) "
   ]
  },
  {
   "cell_type": "code",
   "execution_count": 3,
   "metadata": {},
   "outputs": [
    {
     "name": "stdout",
     "output_type": "stream",
     "text": [
      "True\n"
     ]
    }
   ],
   "source": [
    "print( 'Hello'!='HELLO' or (6 > 2) or (5 == 5)) "
   ]
  },
  {
   "cell_type": "markdown",
   "metadata": {},
   "source": [
    "#  <font color='blue'> 3. WHAT WILL THIS CODE GENERATE? </font> "
   ]
  },
  {
   "cell_type": "code",
   "execution_count": 4,
   "metadata": {},
   "outputs": [
    {
     "name": "stdout",
     "output_type": "stream",
     "text": [
      "False\n",
      "True\n",
      "False\n",
      "True\n",
      "True\n",
      "False\n"
     ]
    }
   ],
   "source": [
    "x = 20\n",
    "y = 30\n",
    "\n",
    "print(x == y) \n",
    "print(x != y) \n",
    "print(x > y)\n",
    "print(x < y) \n",
    "print(x == y or x!=y) \n",
    "print(x == y and x!=y) \n"
   ]
  },
  {
   "cell_type": "markdown",
   "metadata": {},
   "source": [
    "# <font color='blue'> 4. GIVEN THE DICTIONARY BELOW, WRITE TO CODE TO SELECT DICTIONARY ELEMENTS THAT ARE GREATER THAN OR EQUAL 30 AND PLACE THE VALUES IN A LIST </font> "
   ]
  },
  {
   "cell_type": "markdown",
   "metadata": {},
   "source": [
    "Please note that we did not cover loops yet so the answer below is pretty basic!"
   ]
  },
  {
   "cell_type": "code",
   "execution_count": 5,
   "metadata": {},
   "outputs": [
    {
     "name": "stdout",
     "output_type": "stream",
     "text": [
      "[30, 50]\n"
     ]
    }
   ],
   "source": [
    "input_dictionary = {\"Key 1\": 20, \"Key 2\": 30, \"Key 3\": 50}\n",
    "\n",
    "out_dictionary = []\n",
    "\n",
    "if input_dictionary['Key 1'] >= 30:\n",
    "    out_dictionary.append(input_dictionary['Key 1'])\n",
    "\n",
    "if input_dictionary['Key 2'] >= 30:\n",
    "    out_dictionary.append(input_dictionary['Key 2'])\n",
    "\n",
    "if input_dictionary['Key 3'] >= 30:\n",
    "    out_dictionary.append(input_dictionary['Key 3'])\n",
    "    \n",
    "print(out_dictionary)\n",
    "    "
   ]
  },
  {
   "cell_type": "markdown",
   "metadata": {},
   "source": [
    "# <font color='blue'> 5. WRITE A CODE THAT TAKES A NUMBER FROM A USER AND COMPARE IT TO A RANDOMLY GENERATRED NUMBER AND STATES WHICH ONE IS LARGER/SMALLER </font> "
   ]
  },
  {
   "cell_type": "code",
   "execution_count": 8,
   "metadata": {},
   "outputs": [
    {
     "name": "stdout",
     "output_type": "stream",
     "text": [
      "Enter the number: 70\n",
      "user number 70 is greater than comp 38\n"
     ]
    }
   ],
   "source": [
    "import random\n",
    "comp = random.randint(1,100)\n",
    "user = int(input('Enter the number: '))\n",
    "\n",
    "if user > comp:\n",
    "    print('user number {} is greater than comp {}'.format(user,comp))\n",
    "elif user < comp:\n",
    "    print('user number {} is less than comp {}'.format(user,comp))\n",
    "else:\n",
    "    print('user number {} is equal to comp {}'.format(user,comp))"
   ]
  },
  {
   "cell_type": "markdown",
   "metadata": {},
   "source": [
    "# <font color='blue'> 6. WRITE A CODE THAT TAKES A NUMBER AND INDICATES IF IT IS POSITIVE, NEGATIVE OR ZERO </font> "
   ]
  },
  {
   "cell_type": "code",
   "execution_count": 9,
   "metadata": {},
   "outputs": [
    {
     "name": "stdout",
     "output_type": "stream",
     "text": [
      "Enter the number: 0\n",
      "user number 0 is equal to 0\n"
     ]
    }
   ],
   "source": [
    "user = int(input('Enter the number: '))\n",
    "\n",
    "if user > 0:\n",
    "    print('user number {} is greater than 0'.format(user))\n",
    "elif user < 0:\n",
    "    print('user number {} is less than 0'.format(user))\n",
    "else:\n",
    "    print('user number {} is equal to 0'.format(user))"
   ]
  },
  {
   "cell_type": "markdown",
   "metadata": {},
   "source": [
    "# <font color='blue'> 7. WRITE A SCRIPT THAT WILL PROMPT A USER FOR AN INPUT AND CHECKS IF THE NUMBER IS DIVISIBLE BY 5 BUT  NOT A MULTIPLE OF 7 "
   ]
  },
  {
   "cell_type": "code",
   "execution_count": 11,
   "metadata": {},
   "outputs": [
    {
     "name": "stdout",
     "output_type": "stream",
     "text": [
      "Enter the number: 30\n",
      "The number 30 divides by 5, but not by 7\n"
     ]
    }
   ],
   "source": [
    "user = int(input('Enter the number: '))\n",
    "\n",
    "if (user % 5 == 0) and (user % 7 != 0):\n",
    "    print('The number {} divides by 5, but not by 7'.format(user))\n",
    "else:\n",
    "    print('The requirement not satisfied')"
   ]
  },
  {
   "cell_type": "markdown",
   "metadata": {},
   "source": [
    "# <font color='blue'> 8. WRITE A CODE THAT TAKES AN INPUT FROM THE USER AND INDICATES ITS NUMBER OF DIGITS"
   ]
  },
  {
   "cell_type": "code",
   "execution_count": 12,
   "metadata": {},
   "outputs": [
    {
     "name": "stdout",
     "output_type": "stream",
     "text": [
      "Enter the number: 102\n",
      "Number is triple digit\n"
     ]
    }
   ],
   "source": [
    "x = int(input('Enter the number: '))\n",
    "\n",
    "if 0 <= x <= 9:\n",
    "    print('Number is single digit')\n",
    "elif 10 <= x <= 99:\n",
    "    print('Number is double digit')\n",
    "elif 100 <= x <= 999:\n",
    "    print('Number is triple digit')\n",
    "else:\n",
    "    print('Number is four digit')"
   ]
  },
  {
   "cell_type": "markdown",
   "metadata": {},
   "source": [
    "# <font color='blue'> 9. WRITE A CODE THAT TAKES AN INPUT FROM THE USER AND INDICATES IF IT IS EVEN OR ODD"
   ]
  },
  {
   "cell_type": "code",
   "execution_count": 13,
   "metadata": {},
   "outputs": [
    {
     "name": "stdout",
     "output_type": "stream",
     "text": [
      "Please enter an integer from 1 to 1000: 670\n",
      "Number is Even\n"
     ]
    }
   ],
   "source": [
    "x = int(input(\"Please enter an integer from 1 to 1000: \"))\n",
    "\n",
    "if x % 2==0:\n",
    "    print('Number is Even')\n",
    "else:\n",
    "    print('Number is odd')"
   ]
  },
  {
   "cell_type": "markdown",
   "metadata": {},
   "source": [
    "# <font color='blue'> 10. WRITE A CODE THAT TAKES THE VALUES OF THE DICTIONARY BELOW AND OUTPUT VALUES MORE THAN 25 IN AN OUTPUT LIST"
   ]
  },
  {
   "cell_type": "code",
   "execution_count": 14,
   "metadata": {},
   "outputs": [
    {
     "name": "stdout",
     "output_type": "stream",
     "text": [
      "[30, 50]\n"
     ]
    }
   ],
   "source": [
    "my_dict = {\"sally\": 23, \"dina\": 30, \"holy\": 50}\n",
    "\n",
    "out = []\n",
    "\n",
    "x = list(my_dict.values())\n",
    "\n",
    "if x[0]>25:\n",
    "    out.append(x[0])\n",
    "    \n",
    "if x[1]>25:\n",
    "    out.append(x[1])\n",
    "    \n",
    "if x[2]>25:\n",
    "    out.append(x[2])\n",
    "    \n",
    "print(out)"
   ]
  },
  {
   "cell_type": "markdown",
   "metadata": {},
   "source": [
    "# NOW YOU SHOULD BE FAMILIAR WITH LOGICAL OPERATORS, COMPARISON OPERATORS, AND IF STATMENTS, GREAT JOB!"
   ]
  }
 ],
 "metadata": {
  "kernelspec": {
   "display_name": "Python 3",
   "language": "python",
   "name": "python3"
  },
  "language_info": {
   "codemirror_mode": {
    "name": "ipython",
    "version": 3
   },
   "file_extension": ".py",
   "mimetype": "text/x-python",
   "name": "python",
   "nbconvert_exporter": "python",
   "pygments_lexer": "ipython3",
   "version": "3.7.6"
  }
 },
 "nbformat": 4,
 "nbformat_minor": 2
}
