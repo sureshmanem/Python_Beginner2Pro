{
 "cells": [
  {
   "cell_type": "markdown",
   "metadata": {},
   "source": [
    "# <font color='red'> *INTERMEDIATE LEVEL* </font> \n",
    "## <font color='red'> FOR AND WHILE LOOPS </font> "
   ]
  },
  {
   "cell_type": "markdown",
   "metadata": {},
   "source": [
    "# <font color='blue'> 1. WHAT WILL THIS CODE GENERATE?"
   ]
  },
  {
   "cell_type": "code",
   "execution_count": 1,
   "metadata": {},
   "outputs": [
    {
     "name": "stdout",
     "output_type": "stream",
     "text": [
      "iphone\n",
      "blackberry\n",
      "google\n"
     ]
    }
   ],
   "source": [
    "my_phones = [\"iphone\", \"blackberry\", \"samsung\", \"google\"]\n",
    "\n",
    "i = 0\n",
    "while i < len(my_phones):\n",
    "    phone = my_phones[i]\n",
    "    i += 1\n",
    "\n",
    "    if phone == \"samsung\":\n",
    "        continue\n",
    "\n",
    "    print(phone)"
   ]
  },
  {
   "cell_type": "markdown",
   "metadata": {},
   "source": [
    "# <font color='blue'> 2. WRITE A CODE THAT DISPLAYS ALL NUMBERS FROM 1 TO 20 USING WHILE AND FOR LOOPS"
   ]
  },
  {
   "cell_type": "code",
   "execution_count": 2,
   "metadata": {},
   "outputs": [
    {
     "name": "stdout",
     "output_type": "stream",
     "text": [
      "1\n",
      "2\n",
      "3\n",
      "4\n",
      "5\n",
      "6\n",
      "7\n",
      "8\n",
      "9\n",
      "10\n",
      "11\n",
      "12\n",
      "13\n",
      "14\n",
      "15\n",
      "16\n",
      "17\n",
      "18\n",
      "19\n"
     ]
    }
   ],
   "source": [
    "for i in range(1,20):\n",
    "    print(i)"
   ]
  },
  {
   "cell_type": "code",
   "execution_count": 3,
   "metadata": {},
   "outputs": [
    {
     "name": "stdout",
     "output_type": "stream",
     "text": [
      "1\n",
      "2\n",
      "3\n",
      "4\n",
      "5\n",
      "6\n",
      "7\n",
      "8\n",
      "9\n",
      "10\n",
      "11\n",
      "12\n",
      "13\n",
      "14\n",
      "15\n",
      "16\n",
      "17\n",
      "18\n",
      "19\n"
     ]
    }
   ],
   "source": [
    "i=1\n",
    "while i<20:\n",
    "    print(i)\n",
    "    i += 1"
   ]
  },
  {
   "cell_type": "markdown",
   "metadata": {},
   "source": [
    "# <font color='blue'> 3. WRITE A CODE THAT GENERATES THE FOLLOWING TABLE\n",
    "- 1   1    1\n",
    "- 2   4    8\n",
    "- 3   9   27\n",
    "- 4  16   64\n",
    "- 5  25  125\n",
    "- 6  36  216\n",
    "- 7  49  343\n",
    "- 8  64  512\n",
    "- 9  81  729\n",
    "- 10 100 1000"
   ]
  },
  {
   "cell_type": "code",
   "execution_count": 6,
   "metadata": {},
   "outputs": [
    {
     "name": "stdout",
     "output_type": "stream",
     "text": [
      "1 1 1\n",
      "2 4 8\n",
      "3 9 27\n",
      "4 16 64\n",
      "5 25 125\n",
      "6 36 216\n",
      "7 49 343\n",
      "8 64 512\n",
      "9 81 729\n",
      "10 100 1000\n"
     ]
    }
   ],
   "source": [
    "for i in range(1,11):\n",
    "    print(i,i**2,i**3)"
   ]
  },
  {
   "cell_type": "markdown",
   "metadata": {},
   "source": [
    "# <font color='blue'> 4. CREATE A ROLLING DICE GAME, THE GAME SHOULD ASSUME TWO DICE (#1, and #2) ARE BEING THROWN AND A RANDOM NUMBER IS GENERATED EVERYTIME. THE GAME SHOULD PROMPT THE USER TO ASK IF HE/SHE WOULD LIKE TO KEEP PLAYING OR NOT </font> \n"
   ]
  },
  {
   "cell_type": "code",
   "execution_count": 9,
   "metadata": {},
   "outputs": [
    {
     "name": "stdout",
     "output_type": "stream",
     "text": [
      "Rolling the dices, please wait!...\n",
      "Rolling results for Dice #1: 3\n",
      "Rolling results for Dice #2: 3\n",
      "Do you want to roll again?y\n",
      "Rolling the dices, please wait!...\n",
      "Rolling results for Dice #1: 4\n",
      "Rolling results for Dice #2: 4\n",
      "Do you want to roll again?y\n",
      "Rolling the dices, please wait!...\n",
      "Rolling results for Dice #1: 4\n",
      "Rolling results for Dice #2: 3\n",
      "Do you want to roll again?y\n",
      "Rolling the dices, please wait!...\n",
      "Rolling results for Dice #1: 4\n",
      "Rolling results for Dice #2: 6\n",
      "Do you want to roll again?y\n",
      "Rolling the dices, please wait!...\n",
      "Rolling results for Dice #1: 3\n",
      "Rolling results for Dice #2: 5\n",
      "Do you want to roll again?n\n"
     ]
    }
   ],
   "source": [
    "import random\n",
    "\n",
    "keep_rolling = 'y'\n",
    "while keep_rolling == 'y':\n",
    "    print(\"Rolling the dices, please wait!...\")\n",
    "    print(\"Rolling results for Dice #1:\", random.randint(1, 6))\n",
    "    print(\"Rolling results for Dice #2:\", random.randint(1, 6))\n",
    "\n",
    "    keep_rolling = input(\"Do you want to roll again?\")"
   ]
  },
  {
   "cell_type": "markdown",
   "metadata": {},
   "source": [
    "# <font color='blue'> 5. DEVELOP A CODE THAT PRINT OUT THE MULTIPLICATION TABLE. THE CODE SHOULD PROMPT THE USER TO ENTER THE MAXIMUM NUMBER TO BE PRINTED (FROM 1 TO 9) "
   ]
  },
  {
   "cell_type": "code",
   "execution_count": 7,
   "metadata": {},
   "outputs": [
    {
     "name": "stdout",
     "output_type": "stream",
     "text": [
      "Enter a number between 1 and 9:8\n",
      "8 x 1 = 8\n",
      "8 x 2 = 16\n",
      "8 x 3 = 24\n",
      "8 x 4 = 32\n",
      "8 x 5 = 40\n",
      "8 x 6 = 48\n",
      "8 x 7 = 56\n",
      "8 x 8 = 64\n",
      "8 x 9 = 72\n",
      "8 x 10 = 80\n"
     ]
    }
   ],
   "source": [
    "x = int(input('Enter a number between 1 and 9:'))\n",
    "for i in range(1,11):\n",
    "    print('{} x {} = {}'.format(x,i,x*i))"
   ]
  },
  {
   "cell_type": "markdown",
   "metadata": {},
   "source": [
    "#  <font color='blue'> 6. WRITE A CODE THAT TAKES MAXIMUM AND MIMUMUM LIMITS FROM A USER AND PRINT OUT THE EVEN NUMBERS ONLY BETWEEN THE PROVIDED RANGE"
   ]
  },
  {
   "cell_type": "code",
   "execution_count": 10,
   "metadata": {},
   "outputs": [
    {
     "name": "stdout",
     "output_type": "stream",
     "text": [
      "Enter a number (lower bound):10\n",
      "Enter a number (upper bound):20\n",
      "10\n",
      "12\n",
      "14\n",
      "16\n",
      "18\n"
     ]
    }
   ],
   "source": [
    "x = int(input('Enter a number (lower bound):'))\n",
    "y = int(input('Enter a number (upper bound):'))\n",
    "for i in range(x,y):\n",
    "    if i % 2 == 0:\n",
    "        print(i)"
   ]
  },
  {
   "cell_type": "markdown",
   "metadata": {},
   "source": [
    "# <font color='blue'> 7. WHAT DOES THIS CODE GENERATE?"
   ]
  },
  {
   "cell_type": "code",
   "execution_count": 11,
   "metadata": {},
   "outputs": [
    {
     "name": "stdout",
     "output_type": "stream",
     "text": [
      "H\n",
      "e\n",
      "l\n",
      "l\n",
      " \n",
      "w\n",
      "r\n",
      "l\n",
      "d\n"
     ]
    }
   ],
   "source": [
    "for letter in 'Hello world':\n",
    "  if letter == 'o':\n",
    "    continue\n",
    "  print (letter)"
   ]
  },
  {
   "cell_type": "markdown",
   "metadata": {},
   "source": [
    "#  <font color='blue'> 8. WRITE A CODE THAT TAKES A LIST OF TEMPERATURES FROM A USER AND CONVERT THEM FROM CELCIUS TO FEHRENHEIT"
   ]
  },
  {
   "cell_type": "code",
   "execution_count": 14,
   "metadata": {},
   "outputs": [
    {
     "name": "stdout",
     "output_type": "stream",
     "text": [
      "Enter a list of temperatures in degC separated by a space:\n",
      "10 20 30\n"
     ]
    }
   ],
   "source": [
    "print('Enter a list of temperatures in degC separated by a space:')\n",
    "Temp_C = [int(x) for x in input().split()]"
   ]
  },
  {
   "cell_type": "code",
   "execution_count": 16,
   "metadata": {},
   "outputs": [
    {
     "name": "stdout",
     "output_type": "stream",
     "text": [
      "Temperatures are degC Vs. Fehrenheit:\n",
      " [10, 20, 30] [50.0, 68.0, 86.0]\n"
     ]
    }
   ],
   "source": [
    "Temp_F = [((9/5 * j) + 32) for j in Temp_C ]\n",
    "print('Temperatures are degC Vs. Fehrenheit:\\n',Temp_C,Temp_F)"
   ]
  },
  {
   "cell_type": "markdown",
   "metadata": {},
   "source": [
    "# <font color='blue'> 9. CREATE A PASSWORD GENERATOR THAT TAKES THE REQUIRED PASSWORD LENGTH FROM THE USER AND GENERATE A PASSWORD. THE PASSWORD SHOULD BE A MIX OF CHARACTERS, NUMBERS AND SPECIAL CHARACTERS"
   ]
  },
  {
   "cell_type": "code",
   "execution_count": 25,
   "metadata": {},
   "outputs": [
    {
     "name": "stdout",
     "output_type": "stream",
     "text": [
      "Enter the length of the password: 10\n",
      "G&ns<Ap`l*\n"
     ]
    }
   ],
   "source": [
    "import string\n",
    "import random\n",
    "\n",
    "characters = string.ascii_letters + string.punctuation + string.digits\n",
    "length = int(input('Enter the length of the password: '))\n",
    "password = ''\n",
    "\n",
    "for i in range(0,length):\n",
    "    password += random.choice(characters)\n",
    "    \n",
    "print(password)"
   ]
  },
  {
   "cell_type": "markdown",
   "metadata": {},
   "source": [
    "# <font color='blue'> 10. WRITE A CODE THAT TAKES STRING FROM A USER AND SORT THE WORDS AND PRINT ALL WORDS"
   ]
  },
  {
   "cell_type": "code",
   "execution_count": 26,
   "metadata": {},
   "outputs": [
    {
     "name": "stdout",
     "output_type": "stream",
     "text": [
      "Enter a sentence explaining how do you feel today?!: I Love You Jaanu\n",
      "Words are sorted as follows:\n",
      "I\n",
      "Jaanu\n",
      "Love\n",
      "You\n"
     ]
    }
   ],
   "source": [
    "string = input(\"Enter a sentence explaining how do you feel today?!: \")\n",
    "\n",
    "words = string.split()\n",
    "words.sort()\n",
    "\n",
    "print(\"Words are sorted as follows:\")\n",
    "for word in words:\n",
    "   print(word)"
   ]
  },
  {
   "cell_type": "markdown",
   "metadata": {},
   "source": [
    "# <font color='blue'> 11. PRINT THE CORRESPONDING ELEMENTS IN BOTH LISTS BELOW USING TWO DIFFERENT METHODS"
   ]
  },
  {
   "cell_type": "code",
   "execution_count": 27,
   "metadata": {},
   "outputs": [
    {
     "name": "stdout",
     "output_type": "stream",
     "text": [
      "black iphone\n",
      "black Samsung\n",
      "black BlackBerry\n",
      "white iphone\n",
      "white Samsung\n",
      "white BlackBerry\n",
      "gold iphone\n",
      "gold Samsung\n",
      "gold BlackBerry\n"
     ]
    }
   ],
   "source": [
    "# Nested loops using comprehensions\n",
    "color_list = [ \"black\", \"white\", \"gold\"]\n",
    "phone_list = [ \"iphone\", \"Samsung\", \"BlackBerry\" ]\n",
    "\n",
    "for i in color_list:\n",
    "    for j in phone_list:\n",
    "        print(i,j)"
   ]
  },
  {
   "cell_type": "code",
   "execution_count": 28,
   "metadata": {},
   "outputs": [
    {
     "name": "stdout",
     "output_type": "stream",
     "text": [
      "[('black', 'iphone'), ('black', 'Samsung'), ('black', 'BlackBerry'), ('white', 'iphone'), ('white', 'Samsung'), ('white', 'BlackBerry'), ('gold', 'iphone'), ('gold', 'Samsung'), ('gold', 'BlackBerry')]\n"
     ]
    }
   ],
   "source": [
    "final_list = [(i,j) for i in color_list for j in phone_list]\n",
    "print(final_list)"
   ]
  },
  {
   "cell_type": "markdown",
   "metadata": {},
   "source": [
    "# <font color='blue'> 12. WRITE A CODE THAT TAKES A STRING AND CALCULATES THE NUMBER OF UPPER AND LOWER CASE CHARACTERS IN IT"
   ]
  },
  {
   "cell_type": "code",
   "execution_count": 29,
   "metadata": {},
   "outputs": [
    {
     "name": "stdout",
     "output_type": "stream",
     "text": [
      "Hello How Are You?\n",
      "Number of Upper Case Characters =  4\n",
      "Number of Lower Case Characters =  10\n"
     ]
    }
   ],
   "source": [
    "strString = input()\n",
    "upper = 0\n",
    "lower = 0\n",
    "\n",
    "for char in strString:\n",
    "    if char.isupper():\n",
    "        upper += 1\n",
    "    if char.islower():\n",
    "        lower += 1\n",
    "    else:\n",
    "        pass\n",
    "\n",
    "print('Number of Upper Case Characters = ',upper)\n",
    "print('Number of Lower Case Characters = ',lower)"
   ]
  },
  {
   "cell_type": "markdown",
   "metadata": {},
   "source": [
    "# <font color='blue'> 13. WRITE A CODE THAT TAKES A RANGE FROM 100 AND 900 AND ONLY PRINTS NUMBERS WHERE ALL DIGITS ARE EVEN "
   ]
  },
  {
   "cell_type": "code",
   "execution_count": 32,
   "metadata": {},
   "outputs": [
    {
     "name": "stdout",
     "output_type": "stream",
     "text": [
      "Enter a number(lower bound):100\n",
      "Enter a number(upper bound):900\n",
      "['200', '202', '204', '206', '208', '220', '222', '224', '226', '228', '240', '242', '244', '246', '248', '260', '262', '264', '266', '268', '280', '282', '284', '286', '288', '400', '402', '404', '406', '408', '420', '422', '424', '426', '428', '440', '442', '444', '446', '448', '460', '462', '464', '466', '468', '480', '482', '484', '486', '488', '600', '602', '604', '606', '608', '620', '622', '624', '626', '628', '640', '642', '644', '646', '648', '660', '662', '664', '666', '668', '680', '682', '684', '686', '688', '800', '802', '804', '806', '808', '820', '822', '824', '826', '828', '840', '842', '844', '846', '848', '860', '862', '864', '866', '868', '880', '882', '884', '886', '888']\n"
     ]
    }
   ],
   "source": [
    "x = int(input('Enter a number(lower bound):'))\n",
    "y = int(input('Enter a number(upper bound):'))\n",
    "\n",
    "numbers = []\n",
    "\n",
    "for z in range(x,y):\n",
    "    a = str(z)\n",
    "    if (int(a[0])%2==0) and (int(a[1])%2==0) and (int(a[2])%2==0):\n",
    "        numbers.append(a)\n",
    "\n",
    "print(numbers)"
   ]
  },
  {
   "cell_type": "markdown",
   "metadata": {},
   "source": [
    "# <font color='blue'> 14. WRITE A CODE THAT PRINTS I LOVE YOU FOLLOWED BY YOUR SIGNIFICANT OTHER NAME EVERY 3 SECONDS (EXTERNAL RESEARCH)\n",
    "- please research: time.sleep()"
   ]
  },
  {
   "cell_type": "code",
   "execution_count": 34,
   "metadata": {},
   "outputs": [
    {
     "name": "stdout",
     "output_type": "stream",
     "text": [
      "What your signifant other name?Mom\n",
      "I Love You  Mom\n",
      "I Love You  Mom\n",
      "I Love You  Mom\n",
      "I Love You  Mom\n",
      "I Love You  Mom\n",
      "I Love You  Mom\n"
     ]
    },
    {
     "ename": "KeyboardInterrupt",
     "evalue": "",
     "output_type": "error",
     "traceback": [
      "\u001b[0;31m---------------------------------------------------------------------------\u001b[0m",
      "\u001b[0;31mKeyboardInterrupt\u001b[0m                         Traceback (most recent call last)",
      "\u001b[0;32m<ipython-input-34-6f96ba417647>\u001b[0m in \u001b[0;36m<module>\u001b[0;34m\u001b[0m\n\u001b[1;32m      3\u001b[0m \u001b[0;32mwhile\u001b[0m \u001b[0;32mTrue\u001b[0m\u001b[0;34m:\u001b[0m\u001b[0;34m\u001b[0m\u001b[0;34m\u001b[0m\u001b[0m\n\u001b[1;32m      4\u001b[0m     \u001b[0mprint\u001b[0m\u001b[0;34m(\u001b[0m\u001b[0;34m'I Love You '\u001b[0m\u001b[0;34m,\u001b[0m\u001b[0mstrName\u001b[0m\u001b[0;34m)\u001b[0m\u001b[0;34m\u001b[0m\u001b[0;34m\u001b[0m\u001b[0m\n\u001b[0;32m----> 5\u001b[0;31m     \u001b[0mtime\u001b[0m\u001b[0;34m.\u001b[0m\u001b[0msleep\u001b[0m\u001b[0;34m(\u001b[0m\u001b[0;36m3\u001b[0m\u001b[0;34m)\u001b[0m\u001b[0;34m\u001b[0m\u001b[0;34m\u001b[0m\u001b[0m\n\u001b[0m",
      "\u001b[0;31mKeyboardInterrupt\u001b[0m: "
     ]
    }
   ],
   "source": [
    "import time\n",
    "strName = input('What your signifant other name?')\n",
    "while True:\n",
    "    print('I Love You ',strName)\n",
    "    time.sleep(3)"
   ]
  },
  {
   "cell_type": "markdown",
   "metadata": {},
   "source": [
    "# <font color='blue'> 15. WRITE A CODE THAT ASKS A USER TO ENTER A PASSWORD AND ENSURES THAT THE PASSWORD SATISIFIES THE FOLLOWING CONDITIONS: (A) AT LEAST 10 CHARACTERS, (B) CONTAINS AT LEAST ONE UPPER CASE, (C) AT LEAST ONE NUMBER"
   ]
  },
  {
   "cell_type": "code",
   "execution_count": 42,
   "metadata": {},
   "outputs": [
    {
     "name": "stdout",
     "output_type": "stream",
     "text": [
      "It is time to change your password, Select a new password:Hello1World\n",
      "New Password Saved Successfully\n"
     ]
    }
   ],
   "source": [
    "while True:\n",
    "    strPassword = input('It is time to change your password, Select a new password:')\n",
    "\n",
    "    if (len(strPassword) >= 10) and any(char.isupper() for char in strPassword) and any(char.isdigit() for char in strPassword):\n",
    "        print(\"New Password Saved Successfully\")\n",
    "        break\n",
    "    else:\n",
    "        print(\"Passowrd Does Not Satisfy the Requirements \")\n",
    "    "
   ]
  },
  {
   "cell_type": "markdown",
   "metadata": {},
   "source": [
    "# <font color='blue'> 16. WRITE A CODE THAT CONTINOUSLY GETS DATA FROM THE USER AND CALCULATES THE AVERAGE AND PRINT IT OUT ON THE SCREEN"
   ]
  },
  {
   "cell_type": "code",
   "execution_count": 43,
   "metadata": {},
   "outputs": [
    {
     "name": "stdout",
     "output_type": "stream",
     "text": [
      "Keep entering numbers and I will display the average to you!\n",
      "Enter a number: 10\n",
      "The current average is  10.0\n",
      "Enter a number: 15\n",
      "The current average is  12.5\n",
      "Enter a number: 20\n",
      "The current average is  15.0\n",
      "Enter a number: 25\n",
      "The current average is  17.5\n",
      "Enter a number: 30\n",
      "The current average is  20.0\n",
      "Enter a number: 30\n",
      "The current average is  21.666666666666668\n",
      "Enter a number: 30\n",
      "The current average is  22.857142857142858\n",
      "Enter a number: 30\n",
      "The current average is  23.75\n"
     ]
    },
    {
     "ename": "KeyboardInterrupt",
     "evalue": "",
     "output_type": "error",
     "traceback": [
      "\u001b[0;31m---------------------------------------------------------------------------\u001b[0m",
      "\u001b[0;31mKeyboardInterrupt\u001b[0m                         Traceback (most recent call last)",
      "\u001b[0;32m~/opt/anaconda3/lib/python3.7/site-packages/ipykernel/kernelbase.py\u001b[0m in \u001b[0;36m_input_request\u001b[0;34m(self, prompt, ident, parent, password)\u001b[0m\n\u001b[1;32m    883\u001b[0m             \u001b[0;32mtry\u001b[0m\u001b[0;34m:\u001b[0m\u001b[0;34m\u001b[0m\u001b[0;34m\u001b[0m\u001b[0m\n\u001b[0;32m--> 884\u001b[0;31m                 \u001b[0mident\u001b[0m\u001b[0;34m,\u001b[0m \u001b[0mreply\u001b[0m \u001b[0;34m=\u001b[0m \u001b[0mself\u001b[0m\u001b[0;34m.\u001b[0m\u001b[0msession\u001b[0m\u001b[0;34m.\u001b[0m\u001b[0mrecv\u001b[0m\u001b[0;34m(\u001b[0m\u001b[0mself\u001b[0m\u001b[0;34m.\u001b[0m\u001b[0mstdin_socket\u001b[0m\u001b[0;34m,\u001b[0m \u001b[0;36m0\u001b[0m\u001b[0;34m)\u001b[0m\u001b[0;34m\u001b[0m\u001b[0;34m\u001b[0m\u001b[0m\n\u001b[0m\u001b[1;32m    885\u001b[0m             \u001b[0;32mexcept\u001b[0m \u001b[0mException\u001b[0m\u001b[0;34m:\u001b[0m\u001b[0;34m\u001b[0m\u001b[0;34m\u001b[0m\u001b[0m\n",
      "\u001b[0;32m~/opt/anaconda3/lib/python3.7/site-packages/jupyter_client/session.py\u001b[0m in \u001b[0;36mrecv\u001b[0;34m(self, socket, mode, content, copy)\u001b[0m\n\u001b[1;32m    802\u001b[0m         \u001b[0;32mtry\u001b[0m\u001b[0;34m:\u001b[0m\u001b[0;34m\u001b[0m\u001b[0;34m\u001b[0m\u001b[0m\n\u001b[0;32m--> 803\u001b[0;31m             \u001b[0mmsg_list\u001b[0m \u001b[0;34m=\u001b[0m \u001b[0msocket\u001b[0m\u001b[0;34m.\u001b[0m\u001b[0mrecv_multipart\u001b[0m\u001b[0;34m(\u001b[0m\u001b[0mmode\u001b[0m\u001b[0;34m,\u001b[0m \u001b[0mcopy\u001b[0m\u001b[0;34m=\u001b[0m\u001b[0mcopy\u001b[0m\u001b[0;34m)\u001b[0m\u001b[0;34m\u001b[0m\u001b[0;34m\u001b[0m\u001b[0m\n\u001b[0m\u001b[1;32m    804\u001b[0m         \u001b[0;32mexcept\u001b[0m \u001b[0mzmq\u001b[0m\u001b[0;34m.\u001b[0m\u001b[0mZMQError\u001b[0m \u001b[0;32mas\u001b[0m \u001b[0me\u001b[0m\u001b[0;34m:\u001b[0m\u001b[0;34m\u001b[0m\u001b[0;34m\u001b[0m\u001b[0m\n",
      "\u001b[0;32m~/opt/anaconda3/lib/python3.7/site-packages/zmq/sugar/socket.py\u001b[0m in \u001b[0;36mrecv_multipart\u001b[0;34m(self, flags, copy, track)\u001b[0m\n\u001b[1;32m    474\u001b[0m         \"\"\"\n\u001b[0;32m--> 475\u001b[0;31m         \u001b[0mparts\u001b[0m \u001b[0;34m=\u001b[0m \u001b[0;34m[\u001b[0m\u001b[0mself\u001b[0m\u001b[0;34m.\u001b[0m\u001b[0mrecv\u001b[0m\u001b[0;34m(\u001b[0m\u001b[0mflags\u001b[0m\u001b[0;34m,\u001b[0m \u001b[0mcopy\u001b[0m\u001b[0;34m=\u001b[0m\u001b[0mcopy\u001b[0m\u001b[0;34m,\u001b[0m \u001b[0mtrack\u001b[0m\u001b[0;34m=\u001b[0m\u001b[0mtrack\u001b[0m\u001b[0;34m)\u001b[0m\u001b[0;34m]\u001b[0m\u001b[0;34m\u001b[0m\u001b[0;34m\u001b[0m\u001b[0m\n\u001b[0m\u001b[1;32m    476\u001b[0m         \u001b[0;31m# have first part already, only loop while more to receive\u001b[0m\u001b[0;34m\u001b[0m\u001b[0;34m\u001b[0m\u001b[0;34m\u001b[0m\u001b[0m\n",
      "\u001b[0;32mzmq/backend/cython/socket.pyx\u001b[0m in \u001b[0;36mzmq.backend.cython.socket.Socket.recv\u001b[0;34m()\u001b[0m\n",
      "\u001b[0;32mzmq/backend/cython/socket.pyx\u001b[0m in \u001b[0;36mzmq.backend.cython.socket.Socket.recv\u001b[0;34m()\u001b[0m\n",
      "\u001b[0;32mzmq/backend/cython/socket.pyx\u001b[0m in \u001b[0;36mzmq.backend.cython.socket._recv_copy\u001b[0;34m()\u001b[0m\n",
      "\u001b[0;32m~/opt/anaconda3/lib/python3.7/site-packages/zmq/backend/cython/checkrc.pxd\u001b[0m in \u001b[0;36mzmq.backend.cython.checkrc._check_rc\u001b[0;34m()\u001b[0m\n",
      "\u001b[0;31mKeyboardInterrupt\u001b[0m: ",
      "\nDuring handling of the above exception, another exception occurred:\n",
      "\u001b[0;31mKeyboardInterrupt\u001b[0m                         Traceback (most recent call last)",
      "\u001b[0;32m<ipython-input-43-d9f670b1f8da>\u001b[0m in \u001b[0;36m<module>\u001b[0;34m\u001b[0m\n\u001b[1;32m      4\u001b[0m \u001b[0;34m\u001b[0m\u001b[0m\n\u001b[1;32m      5\u001b[0m \u001b[0;32mwhile\u001b[0m \u001b[0;32mTrue\u001b[0m\u001b[0;34m:\u001b[0m\u001b[0;34m\u001b[0m\u001b[0;34m\u001b[0m\u001b[0m\n\u001b[0;32m----> 6\u001b[0;31m     \u001b[0mx\u001b[0m \u001b[0;34m=\u001b[0m \u001b[0mint\u001b[0m\u001b[0;34m(\u001b[0m\u001b[0minput\u001b[0m\u001b[0;34m(\u001b[0m\u001b[0;34m\"Enter a number: \"\u001b[0m\u001b[0;34m)\u001b[0m\u001b[0;34m)\u001b[0m\u001b[0;34m\u001b[0m\u001b[0;34m\u001b[0m\u001b[0m\n\u001b[0m\u001b[1;32m      7\u001b[0m     \u001b[0mn\u001b[0m \u001b[0;34m=\u001b[0m \u001b[0mn\u001b[0m \u001b[0;34m+\u001b[0m \u001b[0;36m1\u001b[0m\u001b[0;34m\u001b[0m\u001b[0;34m\u001b[0m\u001b[0m\n\u001b[1;32m      8\u001b[0m     \u001b[0mavg\u001b[0m \u001b[0;34m=\u001b[0m   \u001b[0;34m(\u001b[0m\u001b[0;34m(\u001b[0m\u001b[0mavg\u001b[0m \u001b[0;34m*\u001b[0m \u001b[0;34m(\u001b[0m\u001b[0mn\u001b[0m \u001b[0;34m-\u001b[0m \u001b[0;36m1\u001b[0m\u001b[0;34m)\u001b[0m \u001b[0;34m)\u001b[0m \u001b[0;34m+\u001b[0m \u001b[0mx\u001b[0m\u001b[0;34m)\u001b[0m \u001b[0;34m/\u001b[0m \u001b[0mn\u001b[0m\u001b[0;34m\u001b[0m\u001b[0;34m\u001b[0m\u001b[0m\n",
      "\u001b[0;32m~/opt/anaconda3/lib/python3.7/site-packages/ipykernel/kernelbase.py\u001b[0m in \u001b[0;36mraw_input\u001b[0;34m(self, prompt)\u001b[0m\n\u001b[1;32m    857\u001b[0m             \u001b[0mself\u001b[0m\u001b[0;34m.\u001b[0m\u001b[0m_parent_ident\u001b[0m\u001b[0;34m,\u001b[0m\u001b[0;34m\u001b[0m\u001b[0;34m\u001b[0m\u001b[0m\n\u001b[1;32m    858\u001b[0m             \u001b[0mself\u001b[0m\u001b[0;34m.\u001b[0m\u001b[0m_parent_header\u001b[0m\u001b[0;34m,\u001b[0m\u001b[0;34m\u001b[0m\u001b[0;34m\u001b[0m\u001b[0m\n\u001b[0;32m--> 859\u001b[0;31m             \u001b[0mpassword\u001b[0m\u001b[0;34m=\u001b[0m\u001b[0;32mFalse\u001b[0m\u001b[0;34m,\u001b[0m\u001b[0;34m\u001b[0m\u001b[0;34m\u001b[0m\u001b[0m\n\u001b[0m\u001b[1;32m    860\u001b[0m         )\n\u001b[1;32m    861\u001b[0m \u001b[0;34m\u001b[0m\u001b[0m\n",
      "\u001b[0;32m~/opt/anaconda3/lib/python3.7/site-packages/ipykernel/kernelbase.py\u001b[0m in \u001b[0;36m_input_request\u001b[0;34m(self, prompt, ident, parent, password)\u001b[0m\n\u001b[1;32m    887\u001b[0m             \u001b[0;32mexcept\u001b[0m \u001b[0mKeyboardInterrupt\u001b[0m\u001b[0;34m:\u001b[0m\u001b[0;34m\u001b[0m\u001b[0;34m\u001b[0m\u001b[0m\n\u001b[1;32m    888\u001b[0m                 \u001b[0;31m# re-raise KeyboardInterrupt, to truncate traceback\u001b[0m\u001b[0;34m\u001b[0m\u001b[0;34m\u001b[0m\u001b[0;34m\u001b[0m\u001b[0m\n\u001b[0;32m--> 889\u001b[0;31m                 \u001b[0;32mraise\u001b[0m \u001b[0mKeyboardInterrupt\u001b[0m\u001b[0;34m\u001b[0m\u001b[0;34m\u001b[0m\u001b[0m\n\u001b[0m\u001b[1;32m    890\u001b[0m             \u001b[0;32melse\u001b[0m\u001b[0;34m:\u001b[0m\u001b[0;34m\u001b[0m\u001b[0;34m\u001b[0m\u001b[0m\n\u001b[1;32m    891\u001b[0m                 \u001b[0;32mbreak\u001b[0m\u001b[0;34m\u001b[0m\u001b[0;34m\u001b[0m\u001b[0m\n",
      "\u001b[0;31mKeyboardInterrupt\u001b[0m: "
     ]
    }
   ],
   "source": [
    "print(\"Keep entering numbers and I will display the average to you!\")\n",
    "avg = 0\n",
    "n = 0\n",
    "\n",
    "while True:\n",
    "    x = int(input(\"Enter a number: \"))\n",
    "    n = n + 1\n",
    "    avg =   ((avg * (n - 1) ) + x) / n\n",
    "    print (\"The current average is \", avg)"
   ]
  },
  {
   "cell_type": "markdown",
   "metadata": {},
   "source": [
    "# NOW YOU SHOULD BE FAMILIAR WITH FOR AND WHILE LOOPS, GREAT JOB!"
   ]
  }
 ],
 "metadata": {
  "kernelspec": {
   "display_name": "Python 3",
   "language": "python",
   "name": "python3"
  },
  "language_info": {
   "codemirror_mode": {
    "name": "ipython",
    "version": 3
   },
   "file_extension": ".py",
   "mimetype": "text/x-python",
   "name": "python",
   "nbconvert_exporter": "python",
   "pygments_lexer": "ipython3",
   "version": "3.7.6"
  }
 },
 "nbformat": 4,
 "nbformat_minor": 2
}
