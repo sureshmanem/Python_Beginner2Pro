{
 "cells": [
  {
   "cell_type": "markdown",
   "metadata": {},
   "source": [
    "## Create a Cartoon Image "
   ]
  },
  {
   "cell_type": "markdown",
   "metadata": {},
   "source": [
    "Stylization aims to produce digital imagery with a wide variety of effects not focused on photorealism. \n",
    "Stylization can abstract regions of low contrast while preserving, or enhancing, high-contrast features.\n",
    "\n",
    "Parameters\n",
    "- src\tInput 8-bit 3-channel image.\n",
    "- dst\tOutput image with the same size and type as src.\n",
    "- sigma_s\tRange between 0 to 200.\n",
    "- sigma_r\tRange between 0 to 1.\n",
    "\n",
    "Note \n",
    "- sigma_s controls how much the image is smoothed - the larger its value, the more smoothed the image gets, but it's also slower to compute.\n",
    "\n",
    "- sigma_r is important if you want to preserve edges while smoothing the image. Small sigma_r results in only very similar colors to be averaged (i.e. smoothed), while colors that differ much will stay intact."
   ]
  },
  {
   "cell_type": "code",
   "execution_count": 50,
   "metadata": {},
   "outputs": [],
   "source": [
    "import cv2\n",
    "import matplotlib.pyplot as plt\n",
    "\n",
    "color_image = cv2.imread(\"trudeau.jpg\")\n",
    "\n",
    "cartoon_image = cv2.stylization(color_image, sigma_s=200, sigma_r=0.3)\n",
    "#cartoon_image, cartoon_image2  = cv2.pencilSketch(color_image, sigma_s=60, sigma_r=0.1)\n"
   ]
  },
  {
   "cell_type": "code",
   "execution_count": 51,
   "metadata": {},
   "outputs": [],
   "source": [
    "cv2.imshow('cartoon', cartoon_image)\n",
    "cv2.waitKey()\n",
    "cv2.destroyAllWindows() "
   ]
  },
  {
   "cell_type": "code",
   "execution_count": null,
   "metadata": {},
   "outputs": [],
   "source": []
  }
 ],
 "metadata": {
  "kernelspec": {
   "display_name": "Python 3",
   "language": "python",
   "name": "python3"
  },
  "language_info": {
   "codemirror_mode": {
    "name": "ipython",
    "version": 3
   },
   "file_extension": ".py",
   "mimetype": "text/x-python",
   "name": "python",
   "nbconvert_exporter": "python",
   "pygments_lexer": "ipython3",
   "version": "3.6.5"
  }
 },
 "nbformat": 4,
 "nbformat_minor": 2
}
