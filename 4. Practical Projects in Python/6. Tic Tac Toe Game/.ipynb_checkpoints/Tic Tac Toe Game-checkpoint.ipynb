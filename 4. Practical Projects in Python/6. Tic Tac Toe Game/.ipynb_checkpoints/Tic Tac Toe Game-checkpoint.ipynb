{
 "cells": [
  {
   "cell_type": "markdown",
   "metadata": {},
   "source": [
    "## Tic Tac Toe Game"
   ]
  },
  {
   "cell_type": "code",
   "execution_count": 7,
   "metadata": {},
   "outputs": [],
   "source": [
    "import random"
   ]
  },
  {
   "cell_type": "code",
   "execution_count": 8,
   "metadata": {
    "scrolled": true
   },
   "outputs": [],
   "source": [
    "board = [0, 1, 2, \n",
    "         3, 4, 5, \n",
    "         6, 7, 8]\n",
    "   "
   ]
  },
  {
   "cell_type": "code",
   "execution_count": 9,
   "metadata": {},
   "outputs": [],
   "source": [
    "def TicTacToe_draw():\n",
    "    print(board[0], board[1], board[2])\n",
    "    print(board[3], board[4], board[5])\n",
    "    print(board[6], board[7], board[8])\n",
    "    print()\n"
   ]
  },
  {
   "cell_type": "code",
   "execution_count": 10,
   "metadata": {},
   "outputs": [
    {
     "name": "stdout",
     "output_type": "stream",
     "text": [
      "0 1 2\n",
      "3 4 5\n",
      "6 7 8\n",
      "\n"
     ]
    }
   ],
   "source": [
    "TicTacToe_draw()"
   ]
  },
  {
   "cell_type": "markdown",
   "metadata": {},
   "source": [
    "## Player #1 Input"
   ]
  },
  {
   "cell_type": "code",
   "execution_count": 11,
   "metadata": {},
   "outputs": [],
   "source": [
    "def Player_1():\n",
    "    print(\"Player#1, Enter your desired board location: \")\n",
    "    location = int(input())   \n",
    "    if board[location] != 'X' and board[location] != 'O':\n",
    "        board[location] = 'X'\n",
    "    else:\n",
    "        print('This spot is taken, please choose somewhere else')"
   ]
  },
  {
   "cell_type": "code",
   "execution_count": 12,
   "metadata": {},
   "outputs": [
    {
     "name": "stdout",
     "output_type": "stream",
     "text": [
      "0 1 2\n",
      "3 4 5\n",
      "6 7 8\n",
      "\n"
     ]
    }
   ],
   "source": [
    "TicTacToe_draw()"
   ]
  },
  {
   "cell_type": "code",
   "execution_count": null,
   "metadata": {},
   "outputs": [],
   "source": [
    "Player_1()\n",
    "TicTacToe_draw()"
   ]
  },
  {
   "cell_type": "markdown",
   "metadata": {},
   "source": [
    "## Computer (Player #2) Input"
   ]
  },
  {
   "cell_type": "code",
   "execution_count": 13,
   "metadata": {},
   "outputs": [],
   "source": [
    "def Player_2():\n",
    "    print(\"Player#2, Enter your desired board location: \")\n",
    "    location = int(input()) \n",
    "    if board[location] != 'X' and board[location] != 'O':\n",
    "        board[location] = 'O'\n",
    "    else:\n",
    "        print('This spot is taken, please choose somewhere else')"
   ]
  },
  {
   "cell_type": "code",
   "execution_count": null,
   "metadata": {},
   "outputs": [],
   "source": [
    "Player_2()\n",
    "TicTacToe_draw()"
   ]
  },
  {
   "cell_type": "markdown",
   "metadata": {},
   "source": [
    "## Check if any player wins!"
   ]
  },
  {
   "cell_type": "code",
   "execution_count": 14,
   "metadata": {},
   "outputs": [],
   "source": [
    "def Check_Winner(X_or_O):\n",
    "    if board[0] == X_or_O and board[1] == X_or_O and board[2] == X_or_O:\n",
    "        return True\n",
    "    if board[3] == X_or_O and board[4] == X_or_O and board[5] == X_or_O:\n",
    "        return True\n",
    "    if board[6] == X_or_O and board[7] == X_or_O and board[8] == X_or_O:\n",
    "        return True\n",
    "    if board[0] == X_or_O and board[3] == X_or_O and board[6] == X_or_O:\n",
    "        return True\n",
    "    if board[1] == X_or_O and board[4] == X_or_O and board[7] == X_or_O:\n",
    "        return True\n",
    "    if board[2] == X_or_O and board[5] == X_or_O and board[8] == X_or_O:\n",
    "        return True\n",
    "    \n",
    "    # Diagonal terms\n",
    "    if board[0] == X_or_O and board[4] == X_or_O and board[8] == X_or_O:\n",
    "        return True\n",
    "    if board[2] == X_or_O and board[4] == X_or_O and board[6] == X_or_O:\n",
    "        return True"
   ]
  },
  {
   "cell_type": "markdown",
   "metadata": {},
   "source": [
    "## Let's put it all together"
   ]
  },
  {
   "cell_type": "code",
   "execution_count": 15,
   "metadata": {},
   "outputs": [
    {
     "name": "stdout",
     "output_type": "stream",
     "text": [
      "Player#1, Enter your desired board location: \n",
      "1\n",
      "0 X 2\n",
      "3 4 5\n",
      "6 7 8\n",
      "\n",
      "Player#2, Enter your desired board location: \n",
      "2\n",
      "0 X O\n",
      "3 4 5\n",
      "6 7 8\n",
      "\n",
      "Player#1, Enter your desired board location: \n",
      "4\n",
      "0 X O\n",
      "3 X 5\n",
      "6 7 8\n",
      "\n",
      "Player#2, Enter your desired board location: \n",
      "5\n",
      "0 X O\n",
      "3 X O\n",
      "6 7 8\n",
      "\n",
      "Player#1, Enter your desired board location: \n",
      "7\n",
      "0 X O\n",
      "3 X O\n",
      "6 X 8\n",
      "\n",
      "Player #1 Wins\n"
     ]
    }
   ],
   "source": [
    "while True:\n",
    "    Player_1()\n",
    "    TicTacToe_draw()\n",
    "    if Check_Winner('X')==True:\n",
    "        print(\"Player #1 Wins\")\n",
    "        break;\n",
    "        \n",
    "    Player_2()\n",
    "    TicTacToe_draw()\n",
    "    if Check_Winner('O')==True:\n",
    "        print(\"Player #2 Wins\")\n",
    "        break;\n",
    "    "
   ]
  },
  {
   "cell_type": "code",
   "execution_count": null,
   "metadata": {},
   "outputs": [],
   "source": []
  }
 ],
 "metadata": {
  "kernelspec": {
   "display_name": "Python 3",
   "language": "python",
   "name": "python3"
  },
  "language_info": {
   "codemirror_mode": {
    "name": "ipython",
    "version": 3
   },
   "file_extension": ".py",
   "mimetype": "text/x-python",
   "name": "python",
   "nbconvert_exporter": "python",
   "pygments_lexer": "ipython3",
   "version": "3.6.5"
  }
 },
 "nbformat": 4,
 "nbformat_minor": 2
}
