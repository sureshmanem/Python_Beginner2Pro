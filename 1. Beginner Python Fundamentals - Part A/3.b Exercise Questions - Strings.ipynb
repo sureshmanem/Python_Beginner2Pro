{
 "cells": [
  {
   "cell_type": "markdown",
   "metadata": {},
   "source": [
    "# <font color='red'> *ABSOLUTE BEGINNER LEVEL* </font> \n",
    "# <font color='red'> STRINGS </font> "
   ]
  },
  {
   "cell_type": "markdown",
   "metadata": {},
   "source": [
    "#  <font color='blue'>1. WHAT WENT WRONG? FIX THE ISSUE AND INDICATE WHAT DOES THIS CODE DO?  </font> "
   ]
  },
  {
   "cell_type": "code",
   "execution_count": 2,
   "metadata": {},
   "outputs": [
    {
     "name": "stdout",
     "output_type": "stream",
     "text": [
      "Mitch 26 True\n"
     ]
    }
   ],
   "source": [
    "name = \"Mitch\"\n",
    "Age = 26\n",
    "Full_time_Employee = True\n",
    "\n",
    "print(name, Age, Full_time_Employee)\n"
   ]
  },
  {
   "cell_type": "markdown",
   "metadata": {},
   "source": [
    "# <font color='blue'> 2. WHAT WENT WRONG? FIX THE ERROR TO GET x-y </font> "
   ]
  },
  {
   "cell_type": "code",
   "execution_count": 3,
   "metadata": {},
   "outputs": [
    {
     "name": "stdout",
     "output_type": "stream",
     "text": [
      "16\n"
     ]
    }
   ],
   "source": [
    "x = \"20\"\n",
    "y = 4\n",
    "\n",
    "print(int(x) - y)\n"
   ]
  },
  {
   "cell_type": "markdown",
   "metadata": {},
   "source": [
    "# <font color='blue'> 3. WRITE A CODE THAT TAKES AN INPUT FROM A USER, SPLITS IT INTO WORDS AND PRINT THEM ON THE SCREEN </font> "
   ]
  },
  {
   "cell_type": "code",
   "execution_count": 6,
   "metadata": {},
   "outputs": [
    {
     "name": "stdout",
     "output_type": "stream",
     "text": [
      "How's your day going?Going good so far\n",
      "Here are the list of words you entered: ['Going', 'good', 'so', 'far']\n"
     ]
    }
   ],
   "source": [
    "my_string = str(input(\"How's your day going?\"))\n",
    "words = my_string.split(\" \")\n",
    "print(\"Here are the list of words you entered:\", words)"
   ]
  },
  {
   "cell_type": "code",
   "execution_count": 7,
   "metadata": {},
   "outputs": [
    {
     "data": {
      "text/plain": [
       "['Going', 'good', 'so', 'far']"
      ]
     },
     "execution_count": 7,
     "metadata": {},
     "output_type": "execute_result"
    }
   ],
   "source": [
    "words"
   ]
  },
  {
   "cell_type": "markdown",
   "metadata": {},
   "source": [
    "# <font color='blue'> 4. WRITE A CODE THAT TAKES AN INPUT FROM A USER, CONVERT IT TO UPPER CASE AND PRINT THEM ON THE SCREEN </font> "
   ]
  },
  {
   "cell_type": "code",
   "execution_count": 10,
   "metadata": {},
   "outputs": [
    {
     "name": "stdout",
     "output_type": "stream",
     "text": [
      "How Are You\n",
      "HOW ARE YOU\n"
     ]
    }
   ],
   "source": [
    "myText = str(input(''))\n",
    "print(myText.upper())"
   ]
  },
  {
   "cell_type": "markdown",
   "metadata": {},
   "source": [
    "# <font color='blue'> 5. WRITE A CODE THAT PROMPTS A USER REQUESTING HIS/HER E-MAIL AND THEN EXTRACTS THE USERNAME (NOTE THAT THE EMAIL IS IN FIRSTNAME.LASTNAME@GMAIL.COM </font> "
   ]
  },
  {
   "cell_type": "code",
   "execution_count": 11,
   "metadata": {},
   "outputs": [
    {
     "name": "stdout",
     "output_type": "stream",
     "text": [
      "Enter your email address: hello@gmail.com\n",
      "hello\n"
     ]
    }
   ],
   "source": [
    "myText = str(input('Enter your email address: '))\n",
    "splitWord = myText.split('@')\n",
    "print(splitWord[0])"
   ]
  },
  {
   "cell_type": "markdown",
   "metadata": {},
   "source": [
    "# <font color='blue'> 6. EXPAND ON THE PERVIOUS CODE TO PRINT \"HELLO FIRSTNAME LASTNAME\" </font> \n",
    "\n"
   ]
  },
  {
   "cell_type": "code",
   "execution_count": 13,
   "metadata": {},
   "outputs": [
    {
     "name": "stdout",
     "output_type": "stream",
     "text": [
      "Enter your email address: suresh@gmail.com\n",
      "Hello suresh\n"
     ]
    }
   ],
   "source": [
    "myText = str(input('Enter your email address: '))\n",
    "splitWord = myText.split('@')\n",
    "print('Hello {}'.format(splitWord[0]))"
   ]
  },
  {
   "cell_type": "code",
   "execution_count": 18,
   "metadata": {},
   "outputs": [
    {
     "name": "stdout",
     "output_type": "stream",
     "text": [
      "Enter your email address: suresh.manem@gmail.com\n"
     ]
    },
    {
     "data": {
      "text/plain": [
       "['suresh', 'manem']"
      ]
     },
     "execution_count": 18,
     "metadata": {},
     "output_type": "execute_result"
    }
   ],
   "source": [
    "myText = str(input('Enter your email address: '))\n",
    "splitWord = myText.split('@')\n",
    "secondSplit = splitWord[0].split('.')\n",
    "secondSplit"
   ]
  },
  {
   "cell_type": "markdown",
   "metadata": {},
   "source": [
    "# <font color='blue'> 7. WRITE A CODE THAT REQUESTS THE FIRST, LAST NAME, AND AGE AND PRINTS\n",
    "    - HELLO \"FIRST NAME\" \"LAST NAME\", YOU ARE NOW \"AGE\", FYI: AGE IS JUST A NUMBER, YOU ARE YOUNGER THAN EVER!  </font> \n",
    "\n"
   ]
  },
  {
   "cell_type": "code",
   "execution_count": 19,
   "metadata": {},
   "outputs": [
    {
     "name": "stdout",
     "output_type": "stream",
     "text": [
      "Enter your first name:Suresh\n",
      "Enter your last name:Manem\n",
      "Enter your age: 35\n",
      "Hello Suresh Manem, you are 35, FYI: Age is just a number, you are younger than ever!\n"
     ]
    }
   ],
   "source": [
    "fname = str(input('Enter your first name:'))\n",
    "lname = str(input('Enter your last name:'))\n",
    "age = int(input('Enter your age: '))\n",
    "print('Hello {0} {1}, you are {2}, FYI: Age is just a number, you are younger than ever!'.format(fname,lname,age))"
   ]
  },
  {
   "cell_type": "markdown",
   "metadata": {},
   "source": [
    "# <font color='blue'> # 8. REPEAT THE PREVIOUS EXERCISE BUT PRTNT THE NAME AND AGE IN A NEW LINE. (RESEARCH HOW TO PRINT IN A NEW LINE)\n",
    "- \\n is used for printing statements in a new line\n",
    "- please read: https://docs.python.org/2/tutorial/introduction.html\n"
   ]
  },
  {
   "cell_type": "code",
   "execution_count": 20,
   "metadata": {},
   "outputs": [
    {
     "name": "stdout",
     "output_type": "stream",
     "text": [
      "Enter your first name:Suresh\n",
      "Enter your last name:Manem\n",
      "Enter your age: 35\n",
      "Hello Suresh Manem\n",
      " you are 35\n",
      " FYI: Age is just a number, you are younger than ever!\n"
     ]
    }
   ],
   "source": [
    "fname = str(input('Enter your first name:'))\n",
    "lname = str(input('Enter your last name:'))\n",
    "age = int(input('Enter your age: '))\n",
    "print('Hello {0} {1}\\n you are {2}\\n FYI: Age is just a number, you are younger than ever!'.format(fname,lname,age))"
   ]
  },
  {
   "cell_type": "code",
   "execution_count": 21,
   "metadata": {},
   "outputs": [
    {
     "name": "stdout",
     "output_type": "stream",
     "text": [
      "first name: Suresh\n",
      "last name: Manem\n"
     ]
    }
   ],
   "source": [
    "print('first name: {}'.format(fname))\n",
    "print('last name: {}'.format(lname))"
   ]
  },
  {
   "cell_type": "markdown",
   "metadata": {},
   "source": [
    "# <font color='blue'> # 9. WRITE A CODE THAT TAKES THE USER E-MAIL AND COUNTS THE NUMBER OF USERNAME CHARACTERS\n",
    "    - please research len() that can be used to obtain the number of charachters in a string \n"
   ]
  },
  {
   "cell_type": "code",
   "execution_count": 22,
   "metadata": {},
   "outputs": [
    {
     "name": "stdout",
     "output_type": "stream",
     "text": [
      "Enter your e-mail address:suresh.manem@gmail.com\n",
      "There are 12 characters in your username\n"
     ]
    }
   ],
   "source": [
    "email = str(input('Enter your e-mail address:'))\n",
    "username = email.split('@')\n",
    "print('There are {} characters in your username'.format(len(username[0])))"
   ]
  },
  {
   "cell_type": "markdown",
   "metadata": {},
   "source": [
    "# <font color='blue'> # 10. WRITE A CODE THAT EXTRACTS THE WORD HELLO FROM \"HELLO WORLD\" IN TWO DIFFERENT WAYS\n",
    "    - please research string slicing: https://www.pythonlearn.com/html-008/cfbook007.html\n"
   ]
  },
  {
   "cell_type": "code",
   "execution_count": 25,
   "metadata": {},
   "outputs": [
    {
     "name": "stdout",
     "output_type": "stream",
     "text": [
      "Hello\n"
     ]
    }
   ],
   "source": [
    "myStr = 'Hello World'\n",
    "splt = myStr.split(' ')\n",
    "print(splt[0])"
   ]
  },
  {
   "cell_type": "code",
   "execution_count": 28,
   "metadata": {},
   "outputs": [
    {
     "name": "stdout",
     "output_type": "stream",
     "text": [
      "Hello\n"
     ]
    }
   ],
   "source": [
    "print(myStr[0:5])"
   ]
  },
  {
   "cell_type": "markdown",
   "metadata": {},
   "source": [
    "# NOW YOU KNOW HOW STRINGS WORK, KEEP IT UP!"
   ]
  }
 ],
 "metadata": {
  "kernelspec": {
   "display_name": "Python 3",
   "language": "python",
   "name": "python3"
  },
  "language_info": {
   "codemirror_mode": {
    "name": "ipython",
    "version": 3
   },
   "file_extension": ".py",
   "mimetype": "text/x-python",
   "name": "python",
   "nbconvert_exporter": "python",
   "pygments_lexer": "ipython3",
   "version": "3.7.0"
  }
 },
 "nbformat": 4,
 "nbformat_minor": 2
}
