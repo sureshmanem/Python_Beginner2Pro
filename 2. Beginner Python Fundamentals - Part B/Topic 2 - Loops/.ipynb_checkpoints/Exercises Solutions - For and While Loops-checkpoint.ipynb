{
 "cells": [
  {
   "cell_type": "markdown",
   "metadata": {},
   "source": [
    "# <font color='red'> *INTERMEDIATE LEVEL* </font> \n",
    "## <font color='red'> FOR AND WHILE LOOPS </font> "
   ]
  },
  {
   "cell_type": "markdown",
   "metadata": {},
   "source": [
    "# <font color='blue'> 1. WHAT WILL THIS CODE GENERATE?"
   ]
  },
  {
   "cell_type": "code",
   "execution_count": null,
   "metadata": {},
   "outputs": [],
   "source": [
    "my_phones = [\"iphone\", \"blackberry\", \"samsung\", \"google\"]\n",
    "\n",
    "i = 0\n",
    "while i < len(my_phones):\n",
    "    phone = my_phones[i]\n",
    "    i += 1\n",
    "\n",
    "    if phone == \"samsung\":\n",
    "        continue\n",
    "\n",
    "    print(phone)"
   ]
  },
  {
   "cell_type": "markdown",
   "metadata": {},
   "source": [
    "# <font color='blue'> 2. WRITE A CODE THAT DISPLAYS ALL NUMBERS FROM 1 TO 20 USING WHILE AND FOR LOOPS"
   ]
  },
  {
   "cell_type": "code",
   "execution_count": null,
   "metadata": {},
   "outputs": [],
   "source": [
    "i = 1\n",
    "while (i < 20):\n",
    "  print (i)\n",
    "  i = i+1"
   ]
  },
  {
   "cell_type": "code",
   "execution_count": null,
   "metadata": {},
   "outputs": [],
   "source": [
    "for i in range(1,20):\n",
    "    print(i)"
   ]
  },
  {
   "cell_type": "markdown",
   "metadata": {},
   "source": [
    "# <font color='blue'> 3. WRITE A CODE THAT GENERATES THE FOLLOWING TABLE\n",
    "- 1   1    1\n",
    "- 2   4    8\n",
    "- 3   9   27\n",
    "- 4  16   64\n",
    "- 5  25  125\n",
    "- 6  36  216\n",
    "- 7  49  343\n",
    "- 8  64  512\n",
    "- 9  81  729\n",
    "- 10 100 1000"
   ]
  },
  {
   "cell_type": "code",
   "execution_count": null,
   "metadata": {},
   "outputs": [],
   "source": [
    "for x in range(1, 11):\n",
    "    print('{} {} {}'.format(x, x*x, x*x*x))\n"
   ]
  },
  {
   "cell_type": "markdown",
   "metadata": {},
   "source": [
    "# <font color='blue'> 4. CREATE A ROLLING DICE GAME, THE GAME SHOULD ASSUME TWO DICE (#1, and #2) ARE BEING THROWN AND A RANDOM NUMBER IS GENERATED EVERYTIME. THE GAME SHOULD PROMPT THE USER TO ASK IF HE/SHE WOULD LIKE TO KEEP PLAYING OR NOT </font> \n"
   ]
  },
  {
   "cell_type": "code",
   "execution_count": null,
   "metadata": {},
   "outputs": [],
   "source": [
    "import random\n",
    "\n",
    "keep_rolling = \"y\"\n",
    "\n",
    "while keep_rolling == \"y\":\n",
    "    print(\"Rolling the dices, please wait!...\")\n",
    "    print(\"Rolling results for Dice #1:\", random.randint(1, 6))\n",
    "    print(\"Rolling results for Dice #2:\", random.randint(1, 6))\n",
    "\n",
    "    keep_rolling = input(\"Do you want to roll again?\")"
   ]
  },
  {
   "cell_type": "markdown",
   "metadata": {},
   "source": [
    "# <font color='blue'> 5. DEVELOP A CODE THAT PRINT OUT THE MULTIPLICATION TABLE. THE CODE SHOULD PROMPT THE USER TO ENTER THE MAXIMUM NUMBER TO BE PRINTED (FROM 1 TO 9) "
   ]
  },
  {
   "cell_type": "code",
   "execution_count": null,
   "metadata": {},
   "outputs": [],
   "source": [
    "number = int(input(\"Enter a number between 1 and 9: \"))\n",
    "\n",
    "for i in range(1, 11):\n",
    "    \n",
    "   print(number, 'x', i, '=', number * i)"
   ]
  },
  {
   "cell_type": "markdown",
   "metadata": {},
   "source": [
    "#  <font color='blue'> 6. WRITE A CODE THAT TAKES MAXIMUM AND MIMUMUM LIMITS FROM A USER AND PRINT OUT THE EVEN NUMBERS ONLY BETWEEN THE PROVIDED RANGE"
   ]
  },
  {
   "cell_type": "code",
   "execution_count": null,
   "metadata": {},
   "outputs": [],
   "source": [
    "min = int(input(\"Enter a number (lower bound: \"))\n",
    "max = int(input(\"Enter a number (Upper bound: \"))\n",
    "\n",
    "for i in range(min, max):\n",
    "    if i%2 == 0: \n",
    "        print(i)"
   ]
  },
  {
   "cell_type": "markdown",
   "metadata": {},
   "source": [
    "# <font color='blue'> 7. WHAT DOES THIS CODE GENERATE?"
   ]
  },
  {
   "cell_type": "code",
   "execution_count": null,
   "metadata": {},
   "outputs": [],
   "source": [
    "for letter in 'Hello world':\n",
    "  if letter == 'o':\n",
    "    continue\n",
    "  print (letter)"
   ]
  },
  {
   "cell_type": "markdown",
   "metadata": {},
   "source": [
    "#  <font color='blue'> 8. WRITE A CODE THAT TAKES A LIST OF TEMPERATURES FROM A USER AND CONVERT THEM FROM CELCIUS TO FEHRENHEIT"
   ]
  },
  {
   "cell_type": "code",
   "execution_count": null,
   "metadata": {},
   "outputs": [],
   "source": [
    "print('Enter a list of temperatures in degC separated by a space:')\n",
    "Temp_C = [int(x) for x in input().split()]\n"
   ]
  },
  {
   "cell_type": "code",
   "execution_count": null,
   "metadata": {},
   "outputs": [],
   "source": [
    "Temp_F = [ ((float(9)/5)*i + 32) for i in Temp_C]\n",
    "print('Temperatures are degC Vs. Fehrenheit:\\n', Temp_C, Temp_F)"
   ]
  },
  {
   "cell_type": "markdown",
   "metadata": {},
   "source": [
    "# <font color='blue'> 9. CREATE A PASSWORD GENERATOR THAT TAKES THE REQUIRED PASSWORD LENGTH FROM THE USER AND GENERATE A PASSWORD. THE PASSWORD SHOULD BE A MIX OF CHARACTERS, NUMBERS AND SPECIAL CHARACTERS"
   ]
  },
  {
   "cell_type": "code",
   "execution_count": null,
   "metadata": {},
   "outputs": [],
   "source": [
    "import string\n",
    "import random\n",
    "\n",
    "# string.ascii_letters\n",
    "# string.punctuation\n",
    "# string.digits\n",
    "\n",
    "characters = string.ascii_letters + string.punctuation  + string.digits\n",
    "\n",
    "length = int(input('Enter the length of the password'))\n",
    "\n",
    "password = \"\"\n",
    "\n",
    "for i in range(0, length):\n",
    "    password = password + random.choice(characters)\n",
    "\n",
    "print(password)"
   ]
  },
  {
   "cell_type": "markdown",
   "metadata": {},
   "source": [
    "# <font color='blue'> 10. WRITE A CODE THAT TAKES STRING FROM A USER AND SORT THE WORDS AND PRINT ALL WORDS"
   ]
  },
  {
   "cell_type": "code",
   "execution_count": null,
   "metadata": {},
   "outputs": [],
   "source": [
    "string = input(\"Enter a sentence explaining how do you feel today?!: \")\n",
    "\n",
    "words = string.split()\n",
    "words.sort()\n",
    "\n",
    "print(\"Words are sorted as follows:\")\n",
    "for word in words:\n",
    "   print(word)"
   ]
  },
  {
   "cell_type": "markdown",
   "metadata": {},
   "source": [
    "# <font color='blue'> 11. PRINT THE CORRESPONDING ELEMENTS IN BOTH LISTS BELOW USING TWO DIFFERENT METHODS"
   ]
  },
  {
   "cell_type": "code",
   "execution_count": null,
   "metadata": {},
   "outputs": [],
   "source": [
    "# Nested loops using comprehensions\n",
    "color_list = [ \"black\", \"white\", \"gold\"]\n",
    "phone_list = [ \"iphone\", \"Samsung\", \"BlackBerry\" ]\n",
    "\n",
    "for i in color_list: \n",
    "    for j in phone_list: \n",
    "        print(i,j)\n",
    " "
   ]
  },
  {
   "cell_type": "code",
   "execution_count": null,
   "metadata": {},
   "outputs": [],
   "source": [
    "color_list = [ \"black\", \"white\", \"gold\"]\n",
    "phone_list = [ \"iphone\", \"Samsung\", \"BlackBerry\" ]\n",
    "new_list = [ (i,j) for i in color_list for j in phone_list ]\n",
    "print(new_list)\n",
    " "
   ]
  },
  {
   "cell_type": "markdown",
   "metadata": {},
   "source": [
    "# <font color='blue'> 12. WRITE A CODE THAT TAKES A STRING AND CALCULATES THE NUMBER OF UPPER AND LOWER CASE CHARACTERS IN IT"
   ]
  },
  {
   "cell_type": "code",
   "execution_count": null,
   "metadata": {},
   "outputs": [],
   "source": [
    "input_str = input()\n",
    "upper_case = 0\n",
    "lower_case = 0\n",
    "\n",
    "for char in input_str:\n",
    "    if char.isupper():\n",
    "        upper_case = upper_case + 1\n",
    "    elif char.islower():\n",
    "        lower_case = lower_case + 1 \n",
    "    else:\n",
    "        pass\n",
    "    \n",
    "print(\"Number of Upper Case Characters =\", upper_case)\n",
    "print(\"Number of Lower Case Characters =\", lower_case)"
   ]
  },
  {
   "cell_type": "markdown",
   "metadata": {},
   "source": [
    "# <font color='blue'> 13. WRITE A CODE THAT TAKES A RANGE FROM 100 AND 900 AND ONLY PRINTS NUMBERS WHERE ALL DIGITS ARE EVEN "
   ]
  },
  {
   "cell_type": "code",
   "execution_count": null,
   "metadata": {},
   "outputs": [],
   "source": [
    "min = int(input(\"Enter a number (lower bound: \"))\n",
    "max = int(input(\"Enter a number (Upper bound: \"))\n",
    "\n",
    "numbers = []\n",
    "\n",
    "for i in range(min, max):\n",
    "    s = str(i)\n",
    "    if (int(s[0])%2==0) and (int(s[1])%2==0) and (int(s[2])%2==0) :\n",
    "        numbers.append(s)\n",
    "print(numbers)"
   ]
  },
  {
   "cell_type": "markdown",
   "metadata": {},
   "source": [
    "# <font color='blue'> 14. WRITE A CODE THAT PRINTS I LOVE YOU FOLLOWED BY YOUR SIGNIFICANT OTHER NAME EVERY 3 SECONDS (EXTERNAL RESEARCH)\n",
    "- please research: time.sleep()"
   ]
  },
  {
   "cell_type": "code",
   "execution_count": null,
   "metadata": {},
   "outputs": [],
   "source": [
    "import time\n",
    "\n",
    "name = input(\"What's your signifant other name?\")\n",
    "\n",
    "while True:\n",
    "    print(\"I love you\", name)\n",
    "    time.sleep(3)\n"
   ]
  },
  {
   "cell_type": "markdown",
   "metadata": {},
   "source": [
    "# <font color='blue'> 15. WRITE A CODE THAT ASKS A USER TO ENTER A PASSWORD AND ENSURES THAT THE PASSWORD SATISIFIES THE FOLLOWING CONDITIONS: (A) AT LEAST 10 CHARACTERS, (B) CONTAINS AT LEAST ONE UPPER CASE, (C) AT LEAST ONE NUMBER"
   ]
  },
  {
   "cell_type": "code",
   "execution_count": null,
   "metadata": {},
   "outputs": [],
   "source": [
    "while True:\n",
    "    password = input(\"It's time to change your password, Select a new password: \")\n",
    "    if len(password) >= 10 and any(char.isdigit() for char in password) and any(char.isupper() for char in password):\n",
    "        print(\"New Password Saved Successfully\")\n",
    "        break\n",
    "    else:\n",
    "        print(\"Passowrd Does Not Satisfy the Requirements\")\n"
   ]
  },
  {
   "cell_type": "markdown",
   "metadata": {},
   "source": [
    "# <font color='blue'> 16. WRITE A CODE THAT CONTINOUSLY GETS DATA FROM THE USER AND CALCULATES THE AVERAGE AND PRINT IT OUT ON THE SCREEN"
   ]
  },
  {
   "cell_type": "code",
   "execution_count": null,
   "metadata": {},
   "outputs": [
    {
     "name": "stdout",
     "output_type": "stream",
     "text": [
      "Keep entering numbers and I will display the average to you!\n",
      "Enter a number: 10\n",
      "The current average is  10.0\n",
      "Enter a number: 20\n",
      "The current average is  15.0\n",
      "Enter a number: 30\n",
      "The current average is  20.0\n"
     ]
    }
   ],
   "source": [
    "print(\"Keep entering numbers and I will display the average to you!\")\n",
    "avg = 0\n",
    "n = 0\n",
    "\n",
    "while True:\n",
    "    x = int(input(\"Enter a number: \"))\n",
    "    \n",
    "    n = n + 1\n",
    "    \n",
    "    avg =   ((avg * (n - 1) ) + x) / n\n",
    "    print (\"The current average is \", avg)"
   ]
  },
  {
   "cell_type": "markdown",
   "metadata": {},
   "source": [
    "# NOW YOU SHOULD BE FAMILIAR WITH FOR AND WHILE LOOPS, GREAT JOB!"
   ]
  }
 ],
 "metadata": {
  "kernelspec": {
   "display_name": "Python 3",
   "language": "python",
   "name": "python3"
  },
  "language_info": {
   "codemirror_mode": {
    "name": "ipython",
    "version": 3
   },
   "file_extension": ".py",
   "mimetype": "text/x-python",
   "name": "python",
   "nbconvert_exporter": "python",
   "pygments_lexer": "ipython3",
   "version": "3.6.5"
  }
 },
 "nbformat": 4,
 "nbformat_minor": 2
}
