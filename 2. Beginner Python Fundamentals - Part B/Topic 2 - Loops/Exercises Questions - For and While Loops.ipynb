{
 "cells": [
  {
   "cell_type": "markdown",
   "metadata": {},
   "source": [
    "# <font color='red'> *INTERMEDIATE LEVEL* </font> \n",
    "## <font color='red'> FOR AND WHILE LOOPS </font> "
   ]
  },
  {
   "cell_type": "markdown",
   "metadata": {},
   "source": [
    "# <font color='blue'> 1. WHAT WILL THIS CODE GENERATE?"
   ]
  },
  {
   "cell_type": "code",
   "execution_count": null,
   "metadata": {},
   "outputs": [],
   "source": [
    "my_phones = [\"iphone\", \"blackberry\", \"samsung\", \"google\"]\n",
    "\n",
    "i = 0\n",
    "while i < len(my_phones):\n",
    "    phone = my_phones[i]\n",
    "    i += 1\n",
    "\n",
    "    if phone == \"samsung\":\n",
    "        continue\n",
    "\n",
    "    print(phone)"
   ]
  },
  {
   "cell_type": "markdown",
   "metadata": {},
   "source": [
    "# <font color='blue'> 2. WRITE A CODE THAT DISPLAYS ALL NUMBERS FROM 1 TO 20 USING WHILE AND FOR LOOPS"
   ]
  },
  {
   "cell_type": "code",
   "execution_count": 1,
   "metadata": {},
   "outputs": [
    {
     "name": "stdout",
     "output_type": "stream",
     "text": [
      "1\n",
      "2\n",
      "3\n",
      "4\n",
      "5\n",
      "6\n",
      "7\n",
      "8\n",
      "9\n",
      "10\n",
      "11\n",
      "12\n",
      "13\n",
      "14\n",
      "15\n",
      "16\n",
      "17\n",
      "18\n",
      "19\n"
     ]
    }
   ],
   "source": []
  },
  {
   "cell_type": "code",
   "execution_count": 2,
   "metadata": {},
   "outputs": [
    {
     "name": "stdout",
     "output_type": "stream",
     "text": [
      "1\n",
      "2\n",
      "3\n",
      "4\n",
      "5\n",
      "6\n",
      "7\n",
      "8\n",
      "9\n",
      "10\n",
      "11\n",
      "12\n",
      "13\n",
      "14\n",
      "15\n",
      "16\n",
      "17\n",
      "18\n",
      "19\n"
     ]
    }
   ],
   "source": []
  },
  {
   "cell_type": "markdown",
   "metadata": {},
   "source": [
    "# <font color='blue'> 3. WRITE A CODE THAT GENERATES THE FOLLOWING TABLE\n",
    "- 1   1    1\n",
    "- 2   4    8\n",
    "- 3   9   27\n",
    "- 4  16   64\n",
    "- 5  25  125\n",
    "- 6  36  216\n",
    "- 7  49  343\n",
    "- 8  64  512\n",
    "- 9  81  729\n",
    "- 10 100 1000"
   ]
  },
  {
   "cell_type": "code",
   "execution_count": null,
   "metadata": {},
   "outputs": [],
   "source": []
  },
  {
   "cell_type": "markdown",
   "metadata": {},
   "source": [
    "# <font color='blue'> 4. CREATE A ROLLING DICE GAME, THE GAME SHOULD ASSUME TWO DICE (#1, and #2) ARE BEING THROWN AND A RANDOM NUMBER IS GENERATED EVERYTIME. THE GAME SHOULD PROMPT THE USER TO ASK IF HE/SHE WOULD LIKE TO KEEP PLAYING OR NOT </font> \n"
   ]
  },
  {
   "cell_type": "code",
   "execution_count": 3,
   "metadata": {},
   "outputs": [
    {
     "name": "stdout",
     "output_type": "stream",
     "text": [
      "Rolling the dices, please wait!...\n",
      "Rolling results for Dice #1: 6\n",
      "Rolling results for Dice #2: 6\n",
      "Do you want to roll again?Y\n"
     ]
    }
   ],
   "source": []
  },
  {
   "cell_type": "markdown",
   "metadata": {},
   "source": [
    "# <font color='blue'> 5. DEVELOP A CODE THAT PRINT OUT THE MULTIPLICATION TABLE. THE CODE SHOULD PROMPT THE USER TO ENTER THE MAXIMUM NUMBER TO BE PRINTED (FROM 1 TO 9) "
   ]
  },
  {
   "cell_type": "code",
   "execution_count": 4,
   "metadata": {},
   "outputs": [
    {
     "name": "stdout",
     "output_type": "stream",
     "text": [
      "Enter a number between 1 and 9: 8\n",
      "8 x 1 = 8\n",
      "8 x 2 = 16\n",
      "8 x 3 = 24\n",
      "8 x 4 = 32\n",
      "8 x 5 = 40\n",
      "8 x 6 = 48\n",
      "8 x 7 = 56\n",
      "8 x 8 = 64\n",
      "8 x 9 = 72\n",
      "8 x 10 = 80\n"
     ]
    }
   ],
   "source": []
  },
  {
   "cell_type": "markdown",
   "metadata": {},
   "source": [
    "#  <font color='blue'> 6. WRITE A CODE THAT TAKES MAXIMUM AND MIMUMUM LIMITS FROM A USER AND PRINT OUT THE EVEN NUMBERS ONLY BETWEEN THE PROVIDED RANGE"
   ]
  },
  {
   "cell_type": "code",
   "execution_count": 5,
   "metadata": {},
   "outputs": [
    {
     "name": "stdout",
     "output_type": "stream",
     "text": [
      "Enter a number (lower bound: 20\n",
      "Enter a number (Upper bound: 100\n",
      "20\n",
      "22\n",
      "24\n",
      "26\n",
      "28\n",
      "30\n",
      "32\n",
      "34\n",
      "36\n",
      "38\n",
      "40\n",
      "42\n",
      "44\n",
      "46\n",
      "48\n",
      "50\n",
      "52\n",
      "54\n",
      "56\n",
      "58\n",
      "60\n",
      "62\n",
      "64\n",
      "66\n",
      "68\n",
      "70\n",
      "72\n",
      "74\n",
      "76\n",
      "78\n",
      "80\n",
      "82\n",
      "84\n",
      "86\n",
      "88\n",
      "90\n",
      "92\n",
      "94\n",
      "96\n",
      "98\n"
     ]
    }
   ],
   "source": []
  },
  {
   "cell_type": "markdown",
   "metadata": {},
   "source": [
    "# <font color='blue'> 7. WHAT DOES THIS CODE GENERATE?"
   ]
  },
  {
   "cell_type": "code",
   "execution_count": null,
   "metadata": {},
   "outputs": [],
   "source": [
    "for letter in 'Hello world':\n",
    "  if letter == 'o':\n",
    "    continue\n",
    "  print (letter)"
   ]
  },
  {
   "cell_type": "markdown",
   "metadata": {},
   "source": [
    "#  <font color='blue'> 8. WRITE A CODE THAT TAKES A LIST OF TEMPERATURES FROM A USER AND CONVERT THEM FROM CELCIUS TO FEHRENHEIT"
   ]
  },
  {
   "cell_type": "code",
   "execution_count": 6,
   "metadata": {},
   "outputs": [
    {
     "name": "stdout",
     "output_type": "stream",
     "text": [
      "Enter a list of temperatures in degC separated by a space:\n",
      "30 40 50 60 \n"
     ]
    }
   ],
   "source": []
  },
  {
   "cell_type": "code",
   "execution_count": 7,
   "metadata": {},
   "outputs": [
    {
     "name": "stdout",
     "output_type": "stream",
     "text": [
      "Temperatures are degC Vs. Fehrenheit:\n",
      " [30, 40, 50, 60] [86.0, 104.0, 122.0, 140.0]\n"
     ]
    }
   ],
   "source": []
  },
  {
   "cell_type": "markdown",
   "metadata": {},
   "source": [
    "# <font color='blue'> 9. CREATE A PASSWORD GENERATOR THAT TAKES THE REQUIRED PASSWORD LENGTH FROM THE USER AND GENERATE A PASSWORD. THE PASSWORD SHOULD BE A MIX OF CHARACTERS, NUMBERS AND SPECIAL CHARACTERS"
   ]
  },
  {
   "cell_type": "code",
   "execution_count": 8,
   "metadata": {},
   "outputs": [
    {
     "name": "stdout",
     "output_type": "stream",
     "text": [
      "Enter the length of the password20\n",
      "6?_6$~GLH>n9c{ZNX_5~\n"
     ]
    }
   ],
   "source": []
  },
  {
   "cell_type": "markdown",
   "metadata": {},
   "source": [
    "# <font color='blue'> 10. WRITE A CODE THAT TAKES STRING FROM A USER AND SORT THE WORDS AND PRINT ALL WORDS"
   ]
  },
  {
   "cell_type": "code",
   "execution_count": 9,
   "metadata": {},
   "outputs": [
    {
     "name": "stdout",
     "output_type": "stream",
     "text": [
      "Enter a sentence explaining how do you feel today?!: I am so happy learning python today \n",
      "Words are sorted as follows:\n",
      "I\n",
      "am\n",
      "happy\n",
      "learning\n",
      "python\n",
      "so\n",
      "today\n"
     ]
    }
   ],
   "source": [
    "string = input(\"Enter a sentence explaining how do you feel today?!: \")\n",
    "\n",
    "words = string.split()\n",
    "words.sort()\n",
    "\n",
    "print(\"Words are sorted as follows:\")\n",
    "for word in words:\n",
    "   print(word)"
   ]
  },
  {
   "cell_type": "markdown",
   "metadata": {},
   "source": [
    "# <font color='blue'> 11. PRINT THE CORRESPONDING ELEMENTS IN BOTH LISTS BELOW USING TWO DIFFERENT METHODS"
   ]
  },
  {
   "cell_type": "code",
   "execution_count": 10,
   "metadata": {},
   "outputs": [
    {
     "name": "stdout",
     "output_type": "stream",
     "text": [
      "black iphone\n",
      "black Samsung\n",
      "black BlackBerry\n",
      "white iphone\n",
      "white Samsung\n",
      "white BlackBerry\n",
      "gold iphone\n",
      "gold Samsung\n",
      "gold BlackBerry\n"
     ]
    }
   ],
   "source": [
    "# Nested loops using comprehensions\n",
    "color_list = [ \"black\", \"white\", \"gold\"]\n",
    "phone_list = [ \"iphone\", \"Samsung\", \"BlackBerry\" ]\n"
   ]
  },
  {
   "cell_type": "code",
   "execution_count": 11,
   "metadata": {},
   "outputs": [
    {
     "name": "stdout",
     "output_type": "stream",
     "text": [
      "[('black', 'iphone'), ('black', 'Samsung'), ('black', 'BlackBerry'), ('white', 'iphone'), ('white', 'Samsung'), ('white', 'BlackBerry'), ('gold', 'iphone'), ('gold', 'Samsung'), ('gold', 'BlackBerry')]\n"
     ]
    }
   ],
   "source": []
  },
  {
   "cell_type": "markdown",
   "metadata": {},
   "source": [
    "# <font color='blue'> 12. WRITE A CODE THAT TAKES A STRING AND CALCULATES THE NUMBER OF UPPER AND LOWER CASE CHARACTERS IN IT"
   ]
  },
  {
   "cell_type": "code",
   "execution_count": 12,
   "metadata": {},
   "outputs": [
    {
     "name": "stdout",
     "output_type": "stream",
     "text": [
      "Hello World\n",
      "Number of Upper Case Characters = 2\n",
      "Number of Lower Case Characters = 8\n"
     ]
    }
   ],
   "source": []
  },
  {
   "cell_type": "markdown",
   "metadata": {},
   "source": [
    "# <font color='blue'> 13. WRITE A CODE THAT TAKES A RANGE FROM 100 AND 900 AND ONLY PRINTS NUMBERS WHERE ALL DIGITS ARE EVEN "
   ]
  },
  {
   "cell_type": "code",
   "execution_count": 13,
   "metadata": {},
   "outputs": [
    {
     "name": "stdout",
     "output_type": "stream",
     "text": [
      "Enter a number (lower bound: 200\n",
      "Enter a number (Upper bound: 699\n",
      "['200', '202', '204', '206', '208', '220', '222', '224', '226', '228', '240', '242', '244', '246', '248', '260', '262', '264', '266', '268', '280', '282', '284', '286', '288', '400', '402', '404', '406', '408', '420', '422', '424', '426', '428', '440', '442', '444', '446', '448', '460', '462', '464', '466', '468', '480', '482', '484', '486', '488', '600', '602', '604', '606', '608', '620', '622', '624', '626', '628', '640', '642', '644', '646', '648', '660', '662', '664', '666', '668', '680', '682', '684', '686', '688']\n"
     ]
    }
   ],
   "source": []
  },
  {
   "cell_type": "markdown",
   "metadata": {},
   "source": [
    "# <font color='blue'> 14. WRITE A CODE THAT PRINTS I LOVE YOU FOLLOWED BY YOUR SIGNIFICANT OTHER NAME EVERY 3 SECONDS (EXTERNAL RESEARCH)\n",
    "- please research: time.sleep()"
   ]
  },
  {
   "cell_type": "code",
   "execution_count": 14,
   "metadata": {},
   "outputs": [
    {
     "name": "stdout",
     "output_type": "stream",
     "text": [
      "What's your signifant other name?Mom\n",
      "I love you Mom\n",
      "I love you Mom\n",
      "I love you Mom\n",
      "I love you Mom\n"
     ]
    },
    {
     "ename": "KeyboardInterrupt",
     "evalue": "",
     "output_type": "error",
     "traceback": [
      "\u001b[1;31m---------------------------------------------------------------------------\u001b[0m",
      "\u001b[1;31mKeyboardInterrupt\u001b[0m                         Traceback (most recent call last)",
      "\u001b[1;32m<ipython-input-14-b1bc4d9e29d9>\u001b[0m in \u001b[0;36m<module>\u001b[1;34m()\u001b[0m\n\u001b[0;32m      5\u001b[0m \u001b[1;32mwhile\u001b[0m \u001b[1;32mTrue\u001b[0m\u001b[1;33m:\u001b[0m\u001b[1;33m\u001b[0m\u001b[0m\n\u001b[0;32m      6\u001b[0m     \u001b[0mprint\u001b[0m\u001b[1;33m(\u001b[0m\u001b[1;34m\"I love you\"\u001b[0m\u001b[1;33m,\u001b[0m \u001b[0mname\u001b[0m\u001b[1;33m)\u001b[0m\u001b[1;33m\u001b[0m\u001b[0m\n\u001b[1;32m----> 7\u001b[1;33m     \u001b[0mtime\u001b[0m\u001b[1;33m.\u001b[0m\u001b[0msleep\u001b[0m\u001b[1;33m(\u001b[0m\u001b[1;36m3\u001b[0m\u001b[1;33m)\u001b[0m\u001b[1;33m\u001b[0m\u001b[0m\n\u001b[0m",
      "\u001b[1;31mKeyboardInterrupt\u001b[0m: "
     ]
    }
   ],
   "source": []
  },
  {
   "cell_type": "markdown",
   "metadata": {},
   "source": [
    "# <font color='blue'> 15. WRITE A CODE THAT ASKS A USER TO ENTER A PASSWORD AND ENSURES THAT THE PASSWORD SATISIFIES THE FOLLOWING CONDITIONS: (A) AT LEAST 10 CHARACTERS, (B) CONTAINS AT LEAST ONE UPPER CASE, (C) AT LEAST ONE NUMBER"
   ]
  },
  {
   "cell_type": "code",
   "execution_count": 15,
   "metadata": {},
   "outputs": [
    {
     "name": "stdout",
     "output_type": "stream",
     "text": [
      "It's time to change your password, Select a new password: HelloWorld\n",
      "Passowrd Does Not Satisfy the Requirements\n",
      "It's time to change your password, Select a new password: Hello1World\n",
      "New Password Saved Successfully\n"
     ]
    }
   ],
   "source": []
  },
  {
   "cell_type": "markdown",
   "metadata": {},
   "source": [
    "# <font color='blue'> 16. WRITE A CODE THAT CONTINOUSLY GETS DATA FROM THE USER AND CALCULATES THE AVERAGE AND PRINT IT OUT ON THE SCREEN"
   ]
  },
  {
   "cell_type": "code",
   "execution_count": 16,
   "metadata": {},
   "outputs": [
    {
     "name": "stdout",
     "output_type": "stream",
     "text": [
      "Keep entering numbers and I will display the average to you!\n",
      "Enter a number: 10\n",
      "The current average is 10.0\n",
      "Enter a number: 20\n",
      "The current average is 15.0\n",
      "Enter a number: 20\n",
      "The current average is 16.667\n",
      "Enter a number: e\n"
     ]
    },
    {
     "ename": "ValueError",
     "evalue": "invalid literal for int() with base 10: 'e'",
     "output_type": "error",
     "traceback": [
      "\u001b[1;31m---------------------------------------------------------------------------\u001b[0m",
      "\u001b[1;31mValueError\u001b[0m                                Traceback (most recent call last)",
      "\u001b[1;32m<ipython-input-16-fa62cdf0881b>\u001b[0m in \u001b[0;36m<module>\u001b[1;34m()\u001b[0m\n\u001b[0;32m      5\u001b[0m \u001b[1;33m\u001b[0m\u001b[0m\n\u001b[0;32m      6\u001b[0m \u001b[1;32mwhile\u001b[0m \u001b[1;32mTrue\u001b[0m\u001b[1;33m:\u001b[0m\u001b[1;33m\u001b[0m\u001b[0m\n\u001b[1;32m----> 7\u001b[1;33m     \u001b[0mx\u001b[0m \u001b[1;33m=\u001b[0m \u001b[0mint\u001b[0m\u001b[1;33m(\u001b[0m\u001b[0minput\u001b[0m\u001b[1;33m(\u001b[0m\u001b[1;34m\"Enter a number: \"\u001b[0m\u001b[1;33m)\u001b[0m\u001b[1;33m)\u001b[0m\u001b[1;33m\u001b[0m\u001b[0m\n\u001b[0m\u001b[0;32m      8\u001b[0m \u001b[1;33m\u001b[0m\u001b[0m\n\u001b[0;32m      9\u001b[0m     \u001b[0mnumofnums\u001b[0m \u001b[1;33m=\u001b[0m \u001b[0mnumofnums\u001b[0m \u001b[1;33m+\u001b[0m \u001b[1;36m1\u001b[0m\u001b[1;33m\u001b[0m\u001b[0m\n",
      "\u001b[1;31mValueError\u001b[0m: invalid literal for int() with base 10: 'e'"
     ]
    }
   ],
   "source": []
  },
  {
   "cell_type": "markdown",
   "metadata": {},
   "source": [
    "# NOW YOU SHOULD BE FAMILIAR WITH FOR AND WHILE LOOPS, GREAT JOB!"
   ]
  }
 ],
 "metadata": {
  "kernelspec": {
   "display_name": "Python 3",
   "language": "python",
   "name": "python3"
  },
  "language_info": {
   "codemirror_mode": {
    "name": "ipython",
    "version": 3
   },
   "file_extension": ".py",
   "mimetype": "text/x-python",
   "name": "python",
   "nbconvert_exporter": "python",
   "pygments_lexer": "ipython3",
   "version": "3.6.5"
  }
 },
 "nbformat": 4,
 "nbformat_minor": 2
}
