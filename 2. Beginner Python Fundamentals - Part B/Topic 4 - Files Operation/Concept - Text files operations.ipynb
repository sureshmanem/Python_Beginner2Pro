{
 "cells": [
  {
   "cell_type": "markdown",
   "metadata": {},
   "source": [
    "# PYTHON PROGRAMMING FUNDAMENTALS\n"
   ]
  },
  {
   "cell_type": "markdown",
   "metadata": {},
   "source": [
    "This Notebook will cover the following topics:    \n",
    "- Files operations\n",
    "\n"
   ]
  },
  {
   "cell_type": "markdown",
   "metadata": {},
   "source": [
    "# TEXT FILES\n",
    "- fopen() is the key function to handle files \n",
    "- open() function takes two parameters; filename, and mode.\n",
    "- Modes for files opening: \n",
    "\n",
    "    - \"r\" - Read - Default value. Opens a file for reading, error if the file does not exist\n",
    "    - \"a\" - Append - Opens a file for appending, creates the file if it does not exist\n",
    "    - \"w\" - Write - Opens a file for writing, creates the file if it does not exist\n",
    "    - \"x\" - Create - Creates the specified file, returns an error if the file exists\n",
    "\n",
    "- files can be used in a binary or text mode\n",
    "\n",
    "    - \"t\" - Text - Default value. Text mode\n",
    "    - \"b\" - Binary - Binary mode (e.g. images)"
   ]
  },
  {
   "cell_type": "code",
   "execution_count": 1,
   "metadata": {},
   "outputs": [
    {
     "name": "stdout",
     "output_type": "stream",
     "text": [
      "I am becoming a pro in python!\n",
      "Python is a great programming language \n",
      "I am learning how to handle files in python!I am learning how to handle files in python!\n"
     ]
    }
   ],
   "source": [
    "f = open('my_file.txt', 'r')\n",
    "print(f.read())"
   ]
  },
  {
   "cell_type": "code",
   "execution_count": 2,
   "metadata": {},
   "outputs": [
    {
     "name": "stdout",
     "output_type": "stream",
     "text": [
      "I am becoming a pro in python!\n",
      "\n"
     ]
    }
   ],
   "source": [
    "f = open('my_file.txt', 'r')\n",
    "print(f.readline())"
   ]
  },
  {
   "cell_type": "code",
   "execution_count": 4,
   "metadata": {},
   "outputs": [
    {
     "data": {
      "text/plain": [
       "43"
      ]
     },
     "execution_count": 4,
     "metadata": {},
     "output_type": "execute_result"
    }
   ],
   "source": [
    "f = open('my_file.txt', 'a')\n",
    "f.write('I am learning python and will be a pro soon')\n"
   ]
  },
  {
   "cell_type": "code",
   "execution_count": 5,
   "metadata": {},
   "outputs": [],
   "source": [
    "f.close()"
   ]
  },
  {
   "cell_type": "code",
   "execution_count": 6,
   "metadata": {},
   "outputs": [],
   "source": [
    "f = open('my_file.txt', 'a')\n",
    "f.write('Ryan STEMplicity')\n",
    "f.close()"
   ]
  },
  {
   "cell_type": "code",
   "execution_count": null,
   "metadata": {},
   "outputs": [],
   "source": []
  },
  {
   "cell_type": "code",
   "execution_count": 8,
   "metadata": {},
   "outputs": [],
   "source": [
    "f = open('file_new_filming.txt', 'x')\n",
    "f.write('I am learning python now')\n",
    "f.close()"
   ]
  },
  {
   "cell_type": "code",
   "execution_count": 9,
   "metadata": {},
   "outputs": [
    {
     "name": "stdout",
     "output_type": "stream",
     "text": [
      "I am becoming a pro in python!\n",
      "\n",
      "Python is a great programming language \n",
      "\n",
      "I am learning how to handle files in python!I am learning how to handle files in python!I am learning python and will be a pro soonI am learning python and will be a pro soonRyan STEMplicity\n"
     ]
    }
   ],
   "source": [
    "f = open('my_file.txt', 'r')\n",
    "\n",
    "for line in f:\n",
    "    print(line)"
   ]
  },
  {
   "cell_type": "code",
   "execution_count": 10,
   "metadata": {},
   "outputs": [],
   "source": [
    "with open('my_file.txt', 'r') as f:\n",
    "    text_data = f.readlines()"
   ]
  },
  {
   "cell_type": "code",
   "execution_count": 11,
   "metadata": {},
   "outputs": [
    {
     "data": {
      "text/plain": [
       "['I am becoming a pro in python!\\n',\n",
       " 'Python is a great programming language \\n',\n",
       " 'I am learning how to handle files in python!I am learning how to handle files in python!I am learning python and will be a pro soonI am learning python and will be a pro soonRyan STEMplicity']"
      ]
     },
     "execution_count": 11,
     "metadata": {},
     "output_type": "execute_result"
    }
   ],
   "source": [
    "text_data"
   ]
  },
  {
   "cell_type": "code",
   "execution_count": 12,
   "metadata": {},
   "outputs": [
    {
     "name": "stdout",
     "output_type": "stream",
     "text": [
      "['I', 'am', 'becoming', 'a', 'pro', 'in', 'python!']\n",
      "['Python', 'is', 'a', 'great', 'programming', 'language']\n",
      "['I', 'am', 'learning', 'how', 'to', 'handle', 'files', 'in', 'python!I', 'am', 'learning', 'how', 'to', 'handle', 'files', 'in', 'python!I', 'am', 'learning', 'python', 'and', 'will', 'be', 'a', 'pro', 'soonI', 'am', 'learning', 'python', 'and', 'will', 'be', 'a', 'pro', 'soonRyan', 'STEMplicity']\n"
     ]
    }
   ],
   "source": [
    "for line in text_data:\n",
    "    words = line.split()\n",
    "    print(words)"
   ]
  },
  {
   "cell_type": "markdown",
   "metadata": {},
   "source": [
    "# KEEP IT UP! YOU SHOULD BE PROUD OF YOUR NEWLY ACQUIRED PROGRAMMING SKILLS!"
   ]
  }
 ],
 "metadata": {
  "kernelspec": {
   "display_name": "Python 3",
   "language": "python",
   "name": "python3"
  },
  "language_info": {
   "codemirror_mode": {
    "name": "ipython",
    "version": 3
   },
   "file_extension": ".py",
   "mimetype": "text/x-python",
   "name": "python",
   "nbconvert_exporter": "python",
   "pygments_lexer": "ipython3",
   "version": "3.6.5"
  }
 },
 "nbformat": 4,
 "nbformat_minor": 2
}
