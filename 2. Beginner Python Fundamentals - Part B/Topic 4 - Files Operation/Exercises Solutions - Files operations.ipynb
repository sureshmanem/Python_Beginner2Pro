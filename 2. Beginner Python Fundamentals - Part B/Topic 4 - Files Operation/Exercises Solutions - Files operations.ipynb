{
 "cells": [
  {
   "cell_type": "markdown",
   "metadata": {},
   "source": [
    "# <font color='red'> *INTERMEDIATE LEVEL* </font> \n",
    "## <font color='red'> FILES OPERATIONS  </font> "
   ]
  },
  {
   "cell_type": "markdown",
   "metadata": {},
   "source": [
    "#  <font color='blue'>1. READ THE FILE 'FRUITS_INPUT.TXT' AND PRINT ITS CONTENT </font> "
   ]
  },
  {
   "cell_type": "code",
   "execution_count": null,
   "metadata": {},
   "outputs": [],
   "source": [
    "with open(\"fruits_input.txt\", \"r\") as file:\n",
    "    fruits = file.readlines()"
   ]
  },
  {
   "cell_type": "code",
   "execution_count": null,
   "metadata": {},
   "outputs": [],
   "source": [
    "print(fruits)"
   ]
  },
  {
   "cell_type": "markdown",
   "metadata": {},
   "source": [
    "#  <font color='blue'>2. READ THE FILE 'FRUITS_INPUT.TXT' AND REMOVE ALL THE NEW LINE SPACES AND SPECIAL CHARACHTERS AND THEN SAVE THE OUTPUT FILE 'FRUITS_OUTPUT.TXT' </font> "
   ]
  },
  {
   "cell_type": "code",
   "execution_count": null,
   "metadata": {},
   "outputs": [],
   "source": [
    "with open(\"fruits_input.txt\", \"r\") as file:\n",
    "    fruits = file.readlines()"
   ]
  },
  {
   "cell_type": "code",
   "execution_count": null,
   "metadata": {},
   "outputs": [],
   "source": [
    "fruits"
   ]
  },
  {
   "cell_type": "code",
   "execution_count": null,
   "metadata": {},
   "outputs": [],
   "source": [
    "fruits = [char.strip(\"\\n\") for char in fruits if \"\\n\" in char]\n",
    "fruits"
   ]
  },
  {
   "cell_type": "code",
   "execution_count": null,
   "metadata": {},
   "outputs": [],
   "source": [
    "\n",
    "fruits = [char for char in fruits if char !=\"\"]\n",
    "fruits = [char for char in fruits if len(char) != 1]\n"
   ]
  },
  {
   "cell_type": "code",
   "execution_count": null,
   "metadata": {},
   "outputs": [],
   "source": [
    "fruits"
   ]
  },
  {
   "cell_type": "code",
   "execution_count": null,
   "metadata": {},
   "outputs": [],
   "source": [
    "with open(\"fruits_out.txt\", \"w\") as file:\n",
    "    for char in fruits:\n",
    "        file.write(char+\"\\n\")"
   ]
  },
  {
   "cell_type": "markdown",
   "metadata": {},
   "source": [
    "#  <font color='blue'>3. READ THE FILE 'FRUITS_INPUT.TXT', REMOVE ALL THE NEW LINE SPACES AND SPECIAL CHARACHTERS, THEN REMOVE ANY LINES THAT DOES NOT REPRESENT A FRUIT, THEN SAVE THE OUTPUT FILE 'FRUITS_OUTPUT.TXT' </font> "
   ]
  },
  {
   "cell_type": "code",
   "execution_count": null,
   "metadata": {},
   "outputs": [],
   "source": [
    "with open(\"fruits_input.txt\", \"r\") as file:\n",
    "    fruits = file.readlines()\n",
    "fruits = [word.strip(\"\\n\") for word in fruits if \"\\n\" in word]\n",
    "fruits = [word for word in fruits if word !=\"\"]\n",
    "fruits = [word for word in fruits if len(word) != 1]\n",
    "fruits = [word for word in fruits if word !=\"End of List\"]\n",
    "fruits = [word for word in fruits if word !=\"Start of List\"]\n",
    "fruits = [word for word in fruits if word !=\"Here is the list of fruits: \"]\n",
    "\n",
    "with open(\"fruits_out.txt\", \"w\") as file:\n",
    "    for char in fruits:\n",
    "        file.write(char+\"\\n\")\n"
   ]
  },
  {
   "cell_type": "code",
   "execution_count": null,
   "metadata": {},
   "outputs": [],
   "source": [
    "fruits"
   ]
  },
  {
   "cell_type": "markdown",
   "metadata": {},
   "source": [
    "#  <font color='blue'>4. READ THE FILE 'FRUITS_INPUT.TXT' AND COMPARE IT TO THE LIST OF FRUITS IN MY_FRUITS, RETURN ONLY MATCHING ELEMNTS </font> "
   ]
  },
  {
   "cell_type": "code",
   "execution_count": null,
   "metadata": {},
   "outputs": [],
   "source": [
    "my_fruits = [\"Apple\", \"Pepper\", \"Orange\", \"Watermelon\", \"Tomatoes\"]\n",
    "\n",
    "with open(\"fruits_input.txt\", \"r\") as file:\n",
    "    all_fruits = file.readlines()\n",
    "\n",
    "all_fruits = [char.rstrip('\\n') for char in all_fruits]\n",
    "Selected_fruits = [i for i in all_fruits if i in my_fruits]\n",
    "\n",
    "print(Selected_fruits)\n"
   ]
  },
  {
   "cell_type": "markdown",
   "metadata": {},
   "source": [
    "#  <font color='blue'> 5. WRITE A CODE THAT TAKES AN INPUT FROM A USER AND STORE THIS IN A NEW TEXT FILE SEPARATED BY NEW LINES"
   ]
  },
  {
   "cell_type": "code",
   "execution_count": null,
   "metadata": {},
   "outputs": [],
   "source": [
    "sentence = input(\"Enter 5 names of your favourite friends separated by comma: \")\n",
    "\n",
    "sentence_list = sentence.split(\",\")\n"
   ]
  },
  {
   "cell_type": "code",
   "execution_count": null,
   "metadata": {},
   "outputs": [],
   "source": [
    "sentence_list"
   ]
  },
  {
   "cell_type": "code",
   "execution_count": null,
   "metadata": {},
   "outputs": [],
   "source": [
    "\n",
    "with open(\"names_out_file.txt\", \"a\") as file:\n",
    "    for word in sentence_list:\n",
    "        file.write(word + \"\\n\")"
   ]
  },
  {
   "cell_type": "code",
   "execution_count": null,
   "metadata": {},
   "outputs": [],
   "source": []
  },
  {
   "cell_type": "markdown",
   "metadata": {},
   "source": [
    "# <font color='blue'> 6. READ THE CSV FILE \"S&P500_Stock_Data.csv\" AND PRINT OUT THE (1) HEADING, (2) FIRST 5 ROWS OF DATA "
   ]
  },
  {
   "cell_type": "code",
   "execution_count": null,
   "metadata": {},
   "outputs": [],
   "source": [
    "import csv\n",
    "with open(\"S&P500_Stock_Data.csv\", \"r\") as csvfile:\n",
    "    readCSV = csv.reader(csvfile, delimiter=',')\n",
    "    stock = list(readCSV)\n",
    "    "
   ]
  },
  {
   "cell_type": "code",
   "execution_count": null,
   "metadata": {},
   "outputs": [],
   "source": [
    "print(stock)"
   ]
  },
  {
   "cell_type": "code",
   "execution_count": null,
   "metadata": {},
   "outputs": [],
   "source": [
    "print(stock[0])"
   ]
  },
  {
   "cell_type": "code",
   "execution_count": null,
   "metadata": {},
   "outputs": [],
   "source": [
    "selected = []\n",
    "for row in stock[1:6]:\n",
    "    selected.append(row)"
   ]
  },
  {
   "cell_type": "code",
   "execution_count": null,
   "metadata": {},
   "outputs": [],
   "source": [
    "selected"
   ]
  },
  {
   "cell_type": "markdown",
   "metadata": {},
   "source": [
    "# <font color='blue'> 7. WRITE A CODE THAT TAKES SEVERAL INPUTS FROM A USER AS LONG AS THE USER DOES NOT ENTER \"STOP\". THE DATA IS THEN SAVED TO AN OUTPUT FILE"
   ]
  },
  {
   "cell_type": "code",
   "execution_count": null,
   "metadata": {},
   "outputs": [],
   "source": [
    "file = open(\"Output_User_Data.txt\", 'a')\n",
    "\n",
    "while True:\n",
    "    sentence = input(\"Enter something: \")\n",
    "    if sentence == \"STOP\":\n",
    "        file.close()\n",
    "        break\n",
    "    else:\n",
    "        file.write(sentence + \"\\n\")\n"
   ]
  },
  {
   "cell_type": "code",
   "execution_count": null,
   "metadata": {},
   "outputs": [],
   "source": []
  },
  {
   "cell_type": "code",
   "execution_count": 2,
   "metadata": {},
   "outputs": [],
   "source": []
  },
  {
   "cell_type": "code",
   "execution_count": null,
   "metadata": {},
   "outputs": [],
   "source": []
  },
  {
   "cell_type": "markdown",
   "metadata": {},
   "source": [
    "# <font color='blue'> 8. WRITE A CODE THAT SEARCHES FOR ALL TEXT FILES ON YOUR COMPUTER AND PRINT OUT ALL FILES AND THEIR PATH\n"
   ]
  },
  {
   "cell_type": "markdown",
   "metadata": {},
   "source": [
    "Os.walk generates the file names in a directory tree by walking the tree either top-down or bottom-up.\n",
    "For each directory in the tree rooted at directory top, it yields a 3-tuple (dirpath, dirnames, filenames)\n",
    "                 \n",
    "- dirpath: is a string, the path to the directory\n",
    "- dirnames: is a list of the names of the subdirectories in dirpath\n",
    "- filenames: is a list of the names of the non-directory files in dirpath\n",
    "\n",
    "\n",
    "The fnmatch module compares file names against glob-style patterns.\n",
    "\n",
    "- fnmatch() compares a single file name against a pattern and returns a boolean indicating whether or not they match. "
   ]
  },
  {
   "cell_type": "code",
   "execution_count": null,
   "metadata": {},
   "outputs": [],
   "source": [
    "import fnmatch\n",
    "import os\n",
    "    \n",
    "path = os.getcwd()\n",
    "# path = r'C:\\Users\\Dr. Ryan\\Desktop'       \n",
    "    \n",
    "for root, directories, files in os.walk(path):\n",
    "    for filename in fnmatch.filter(files, '*.txt'):\n",
    "        print( os.path.join(root, filename))"
   ]
  },
  {
   "cell_type": "markdown",
   "metadata": {},
   "source": [
    "\n",
    "# <font color='blue'> 9. WRITE A CODE THAT WILL SEARCH FOR IMAGES ON YOUR COMPUTER AND RETURNS A LIST OF ALL IMAGES (EXERNAL RESEARCH OS.WALK)\n",
    "     Search for these image extensions = ['*.jpg', '*.jpeg', '*.png']\n"
   ]
  },
  {
   "cell_type": "code",
   "execution_count": null,
   "metadata": {},
   "outputs": [],
   "source": [
    "import fnmatch\n",
    "import os\n",
    "\n",
    "found_images = []\n",
    "\n",
    "path = r'C:\\Users\\Dr. Ryan\\Desktop\\Udemy 2019\\Python English\\Course Dec2018\\2. Beginner Python Fundamentals - Part B\\Topic 4 - Files Operation\\Images'    \n",
    "\n",
    "img_extensions = ['*.jpg', '*.jpeg', '*.png']\n",
    "\n",
    "for root, directories, files in os.walk(path):\n",
    "    for i in img_extensions:\n",
    "        for filename in fnmatch.filter(files, i):\n",
    "            print(os.path.join(root, filename))\n"
   ]
  },
  {
   "cell_type": "markdown",
   "metadata": {},
   "source": [
    "# NOW YOU SHOULD BE FAMILIAR WITH FILES OPERATIONS, GREAT JOB!"
   ]
  }
 ],
 "metadata": {
  "kernelspec": {
   "display_name": "Python 3",
   "language": "python",
   "name": "python3"
  },
  "language_info": {
   "codemirror_mode": {
    "name": "ipython",
    "version": 3
   },
   "file_extension": ".py",
   "mimetype": "text/x-python",
   "name": "python",
   "nbconvert_exporter": "python",
   "pygments_lexer": "ipython3",
   "version": "3.6.5"
  }
 },
 "nbformat": 4,
 "nbformat_minor": 2
}
