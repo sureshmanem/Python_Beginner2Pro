{
 "cells": [
  {
   "cell_type": "markdown",
   "metadata": {},
   "source": [
    "# <font color='red'> *INTERMEDIATE LEVEL* </font> \n",
    "## <font color='red'> FUNCTIONS, FILTERS AND LAMBDA EXPRESSIONS  </font> "
   ]
  },
  {
   "cell_type": "markdown",
   "metadata": {},
   "source": [
    "# <font color='blue'> 1. WRITE A FUNCTION THAT TAKES A VARIABLE AND SQUARE IT, THEN TEST THE FUNCTION BY TAKING AN INPUT FROM A USER"
   ]
  },
  {
   "cell_type": "code",
   "execution_count": null,
   "metadata": {},
   "outputs": [],
   "source": [
    "def squared(x):\n",
    "    return (x*x)\n"
   ]
  },
  {
   "cell_type": "code",
   "execution_count": null,
   "metadata": {},
   "outputs": [],
   "source": [
    "a = int(input('Enter a number'))\n",
    "print('The square of {} is {}'.format(a, squared(a)))"
   ]
  },
  {
   "cell_type": "code",
   "execution_count": null,
   "metadata": {},
   "outputs": [],
   "source": []
  },
  {
   "cell_type": "markdown",
   "metadata": {},
   "source": [
    "# <font color='blue'> 2. WRITE A FUNCTION THAT TAKES 2 VARIABLE AND OBTAIN THE SUMMATION AND MULTIPLICATION, THEN TEST THE FUNCTION BY TAKING AN INPUT FROM A USER (REPEAT USING LAMBDA EXPRESSIONS)"
   ]
  },
  {
   "cell_type": "code",
   "execution_count": null,
   "metadata": {},
   "outputs": [],
   "source": [
    "def sum_multiply(x, y):\n",
    "    summation = x+y\n",
    "    multiply = x*y\n",
    "    return (summation, multiply)"
   ]
  },
  {
   "cell_type": "code",
   "execution_count": null,
   "metadata": {},
   "outputs": [],
   "source": [
    "a = int(input('Enter any integer:'))\n",
    "b = int(input('Enter another integer:'))\n"
   ]
  },
  {
   "cell_type": "code",
   "execution_count": null,
   "metadata": {},
   "outputs": [],
   "source": [
    "result_sum, result_multiply = sum_multiply(a, b)\n",
    "print('Multiplication = {}, addition = {}'.format(result_multiply, result_sum))"
   ]
  },
  {
   "cell_type": "markdown",
   "metadata": {},
   "source": [
    "# LAMBDA"
   ]
  },
  {
   "cell_type": "code",
   "execution_count": null,
   "metadata": {},
   "outputs": [],
   "source": [
    "a = int(input('Enter any integer:'))\n",
    "b = int(input('Enter another integer:'))\n"
   ]
  },
  {
   "cell_type": "code",
   "execution_count": null,
   "metadata": {},
   "outputs": [],
   "source": [
    "summation = lambda x, y: x+y\n",
    "multiply = lambda x, y: x*y"
   ]
  },
  {
   "cell_type": "code",
   "execution_count": null,
   "metadata": {},
   "outputs": [],
   "source": [
    "print('Multiplication = {}, addition = {}'.format(multiply(a, b), summation(a, b)))"
   ]
  },
  {
   "cell_type": "code",
   "execution_count": null,
   "metadata": {},
   "outputs": [],
   "source": []
  },
  {
   "cell_type": "markdown",
   "metadata": {},
   "source": [
    "#  <font color='blue'>3. WRITE A FUNCTION THAT TAKES A VARIABLE AND RETURNS ITS FACTORIAL </font> "
   ]
  },
  {
   "cell_type": "code",
   "execution_count": null,
   "metadata": {},
   "outputs": [],
   "source": [
    "def factorial(x):\n",
    "    if x ==0:\n",
    "        return 1\n",
    "    return x * factorial(x-1)"
   ]
  },
  {
   "cell_type": "code",
   "execution_count": null,
   "metadata": {},
   "outputs": [],
   "source": [
    "a = int(input('enter a number'))\n",
    "print('factorial of {} is {}'.format(a, factorial(a)))"
   ]
  },
  {
   "cell_type": "code",
   "execution_count": null,
   "metadata": {},
   "outputs": [],
   "source": []
  },
  {
   "cell_type": "markdown",
   "metadata": {},
   "source": [
    "# <font color='blue'> 4. DEVELOP A SCRIPT WHOSE ITEMS ARE SQUARES OF THE ORIGINAL LIST </font> "
   ]
  },
  {
   "cell_type": "code",
   "execution_count": null,
   "metadata": {},
   "outputs": [],
   "source": [
    "my_list = range(10, 20)\n",
    "\n",
    "print( [x**2 for x in my_list]  )"
   ]
  },
  {
   "cell_type": "markdown",
   "metadata": {},
   "source": [
    "# <font color='blue'> 5. WRITE A FUNCTION THAT SQUARES A VARIABLE AND THEN TEST THE FUNCTION USING A LIST OF INTEGER NUMBERS RANGING FROM -20 to 20"
   ]
  },
  {
   "cell_type": "code",
   "execution_count": null,
   "metadata": {},
   "outputs": [],
   "source": [
    "def squared(x):\n",
    "    return (x*x)\n",
    "\n",
    "numbers = range(-20, 20)\n",
    "\n",
    "numbers_squared = list(map(lambda x: squared(x), numbers))\n",
    "print('The square of the list\\n {}\\n is {}'.format(list(numbers), numbers_squared))\n"
   ]
  },
  {
   "cell_type": "code",
   "execution_count": null,
   "metadata": {},
   "outputs": [],
   "source": [
    "type(numbers)"
   ]
  },
  {
   "cell_type": "code",
   "execution_count": null,
   "metadata": {},
   "outputs": [],
   "source": [
    "num = list(numbers)"
   ]
  },
  {
   "cell_type": "code",
   "execution_count": null,
   "metadata": {},
   "outputs": [],
   "source": [
    "type(num)"
   ]
  },
  {
   "cell_type": "markdown",
   "metadata": {},
   "source": [
    "# <font color='blue'> 6. WRITE 3 FUNCTIONS THAT TAKE THE RADIUS OF A CIRCLE AND RETURN THE DIAMETER, AREA AND CIRCUMFERENCE, TEST THE FUNCTION USING AN INPUT FROM A USER "
   ]
  },
  {
   "cell_type": "code",
   "execution_count": null,
   "metadata": {},
   "outputs": [],
   "source": [
    "import math\n",
    "\n",
    "def circle_diameter(radius):\n",
    "    return 2 * radius\n",
    "\n",
    "def circle_area(radius):\n",
    "    return math.pi * radius ** 2\n",
    "\n",
    "def circle_circ(radius):\n",
    "    return 2 * math.pi * radius\n",
    "\n"
   ]
  },
  {
   "cell_type": "code",
   "execution_count": null,
   "metadata": {},
   "outputs": [],
   "source": [
    "r = int(input('Enter a radius:'))\n",
    "\n",
    "print('circle diameter = ', circle_diameter(r))\n",
    "print('circle area = ', circle_area(r))\n",
    "print('circle circumf. = ', circle_circ(r))\n",
    "\n"
   ]
  },
  {
   "cell_type": "markdown",
   "metadata": {},
   "source": [
    "# <font color='blue'> 7. WRITE A CODE THAT TAKES A RANGE FROM A USER (UPPER AND LOWER BOUND) AND RETURNS A LIST OF POSITIVE AND EVEN NUMBERS ONLY"
   ]
  },
  {
   "cell_type": "code",
   "execution_count": null,
   "metadata": {},
   "outputs": [],
   "source": [
    "bound_min = int(input('Enter a lower bound'))\n",
    "bound_max = int(input('Enter a Upper bound'))\n",
    "\n",
    "numbers = range(bound_min, bound_max)\n",
    "\n",
    "filtered_numbers = list(filter(lambda x: (x>0 and x%2==0), numbers))\n",
    "print(filtered_numbers)"
   ]
  },
  {
   "cell_type": "markdown",
   "metadata": {},
   "source": [
    "# <font color='blue'> 8. USING FILTER AND LAMBDA EXPRESSION, WRITE A CODE THAT TAKES A LIST OF NUMBERS BELOW AND RETURNS EVEN NUMBERS ONLY"
   ]
  },
  {
   "cell_type": "code",
   "execution_count": null,
   "metadata": {},
   "outputs": [],
   "source": [
    "numbers = [6, 17, 55, 22, 120, 59, 220, 200, 1]\n",
    "\n",
    "even = list(filter(lambda x: (x%2==0), numbers ))\n",
    "\n",
    "print('numbers that are divisible by 2 =', even)"
   ]
  },
  {
   "cell_type": "markdown",
   "metadata": {},
   "source": [
    "# <font color='blue'> 9. WRITE A FUNCTION THAT TAKES TWO NUMPY MATRICES AND RETURN THE ADDITION, SUBTRACTION, TRANSPOSE, PRODUCT, DOT PRODUCT"
   ]
  },
  {
   "cell_type": "code",
   "execution_count": null,
   "metadata": {},
   "outputs": [],
   "source": [
    "def matrix_operations(a, b):\n",
    "    \n",
    "    print('Matrices addition =\\n', np.add(a,b))\n",
    "    print('Matrices Subtract =\\n', np.subtract(a,b))\n",
    "    print('Matrices Multiply =\\n', np.multiply(a,b))\n",
    "    print('Matrix Transpose =\\n',  a.T)\n",
    "    print('Matrices Multiply =\\n', b.T)\n",
    "    print('Matrices dot Multiply =\\n', np.dot(a,b))\n",
    "    print('Sqrt of Matrix =\\n', np.sqrt(a))\n",
    "\n",
    "\n",
    "\n",
    "    "
   ]
  },
  {
   "cell_type": "code",
   "execution_count": null,
   "metadata": {},
   "outputs": [],
   "source": [
    "import numpy as np\n",
    "x = np.array([[3, 9], \n",
    "                 [8, 5]]) \n",
    "y = np.array([[2, 3], \n",
    "                 [1, 7]]) \n",
    "matrix_operations(x, y)"
   ]
  },
  {
   "cell_type": "markdown",
   "metadata": {},
   "source": [
    "# <font color='blue'> 10. WRITE A FUNCTION THAT TAKES TWO VALUES FROM A USER AND SUM THEM UP. IF NO VALUES ARE PROVIDED, ASSUME DEFAULT VALUES OF 3 AND 5"
   ]
  },
  {
   "cell_type": "code",
   "execution_count": null,
   "metadata": {},
   "outputs": [],
   "source": [
    "def summation(x=3, y=5):\n",
    "    return x+y\n",
    "\n",
    "summation(5, 7)"
   ]
  },
  {
   "cell_type": "code",
   "execution_count": null,
   "metadata": {},
   "outputs": [],
   "source": [
    "summation()"
   ]
  },
  {
   "cell_type": "markdown",
   "metadata": {},
   "source": [
    "# <font color='blue'> 11. WRITE A SCRIPT THAT WILL PROMPT A USER FOR A RANGE (MIN/MAX VALUE) AND RETURNS NUMBERS THAT ARE DIVISIBLE BY 4 BUT ARE NOT MULTIPLES OF 3 "
   ]
  },
  {
   "cell_type": "code",
   "execution_count": 1,
   "metadata": {},
   "outputs": [
    {
     "name": "stdout",
     "output_type": "stream",
     "text": [
      "Enter a min number20\n",
      "Enter a max number40\n",
      "['20', '28', '32']\n"
     ]
    }
   ],
   "source": [
    "def filter_numbers()\n",
    "    min_x = int(input('Enter a min number'))\n",
    "    max_x = int(input('Enter a max number'))\n",
    "\n",
    "    my_numbers = []\n",
    "\n",
    "    for i in range(min_x, max_x):\n",
    "        if (i%4==0) and (i%3!=0):\n",
    "            my_numbers.append(str(i))\n",
    "        \n",
    "    print(my_numbers)"
   ]
  },
  {
   "cell_type": "markdown",
   "metadata": {},
   "source": [
    "# <font color='blue'> 12. DEFINE AN ENGLISH TO FRENCH TRANSLATOR FUNCTION THAT TAKES AN INPUT FROM A USER AND RETURNS THE TRANSLATION, USE ANY 5 KNOWN WORDS"
   ]
  },
  {
   "cell_type": "code",
   "execution_count": 12,
   "metadata": {},
   "outputs": [],
   "source": [
    "eng_french = {'happy': 'heureux', \n",
    "             'success': 'Succès', \n",
    "             'studying': 'en train d\\'étudier',\n",
    "             'traveling': 'en voyageant',\n",
    "             'love': 'amour'}\n"
   ]
  },
  {
   "cell_type": "code",
   "execution_count": 15,
   "metadata": {},
   "outputs": [],
   "source": [
    "def dict_English2French(word):\n",
    "    try:\n",
    "        return eng_french[word]\n",
    "    except KeyError:\n",
    "        return 'Dictionary does not contain this word'\n"
   ]
  },
  {
   "cell_type": "code",
   "execution_count": 16,
   "metadata": {},
   "outputs": [
    {
     "name": "stdout",
     "output_type": "stream",
     "text": [
      "Enter a word in englishLOVE\n",
      "amour\n"
     ]
    }
   ],
   "source": [
    "word = input('Enter a word in english').lower()\n",
    "print(dict_English2French(word))"
   ]
  },
  {
   "cell_type": "markdown",
   "metadata": {},
   "source": [
    "# NOW YOU SHOULD BE FAMILIAR WITH FUNCTIONS, GREAT JOB!"
   ]
  }
 ],
 "metadata": {
  "kernelspec": {
   "display_name": "Python 3",
   "language": "python",
   "name": "python3"
  },
  "language_info": {
   "codemirror_mode": {
    "name": "ipython",
    "version": 3
   },
   "file_extension": ".py",
   "mimetype": "text/x-python",
   "name": "python",
   "nbconvert_exporter": "python",
   "pygments_lexer": "ipython3",
   "version": "3.6.5"
  }
 },
 "nbformat": 4,
 "nbformat_minor": 2
}
