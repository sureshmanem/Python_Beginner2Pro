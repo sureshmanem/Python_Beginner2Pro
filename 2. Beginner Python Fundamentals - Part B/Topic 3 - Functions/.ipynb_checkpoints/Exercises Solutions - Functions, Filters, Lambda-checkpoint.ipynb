{
 "cells": [
  {
   "cell_type": "markdown",
   "metadata": {},
   "source": [
    "# <font color='red'> *INTERMEDIATE LEVEL* </font> \n",
    "## <font color='red'> FUNCTIONS, FILTERS AND LAMBDA EXPRESSIONS  </font> "
   ]
  },
  {
   "cell_type": "markdown",
   "metadata": {},
   "source": [
    "# <font color='blue'> 1. WRITE A FUNCTION THAT TAKES A VARIABLE AND SQUARE IT, THEN TEST THE FUNCTION BY TAKING AN INPUT FROM A USER"
   ]
  },
  {
   "cell_type": "code",
   "execution_count": 9,
   "metadata": {},
   "outputs": [],
   "source": [
    "def squared(x):\n",
    "    return (x*x)\n"
   ]
  },
  {
   "cell_type": "code",
   "execution_count": 10,
   "metadata": {},
   "outputs": [
    {
     "name": "stdout",
     "output_type": "stream",
     "text": [
      "Enter a number5\n",
      "The square of 5 is 25\n"
     ]
    }
   ],
   "source": [
    "a = int(input(\"Enter a number\"))\n",
    "print(\"The square of {} is {}\".format(a, squared(a)))"
   ]
  },
  {
   "cell_type": "markdown",
   "metadata": {},
   "source": [
    "# <font color='blue'> 2. WRITE A FUNCTION THAT TAKES 2 VARIABLES FROM THE USER AND OBTAIN THE SUMMATION AND MULTIPLICATION, THEN TEST THE FUNCTION BY TAKING AN INPUT FROM A USER (REPEAT USING LAMBDA EXPRESSIONS)"
   ]
  },
  {
   "cell_type": "code",
   "execution_count": 57,
   "metadata": {},
   "outputs": [],
   "source": [
    "def sum_multiply(x, y):\n",
    "    summation = x + y\n",
    "    multiply  = x * y\n",
    "\n",
    "    return(summation, multiply)"
   ]
  },
  {
   "cell_type": "code",
   "execution_count": 58,
   "metadata": {},
   "outputs": [
    {
     "name": "stdout",
     "output_type": "stream",
     "text": [
      "Enter any integer number: 3\n",
      "Enter another integer number: 4\n",
      "Multiplication = 12, addition = 7\n"
     ]
    }
   ],
   "source": [
    "a = int(input(\"Enter any integer number: \"))\n",
    "b = int(input(\"Enter another integer number: \"))\n",
    "result_sum, result_multiply = sum_multiply(a, b)\n",
    "\n",
    "print('Multiplication = {}, addition = {}'.format(result_multiply, result_sum))"
   ]
  },
  {
   "cell_type": "code",
   "execution_count": null,
   "metadata": {},
   "outputs": [],
   "source": [
    "a = int(input(\"Enter any integer number: \"))\n",
    "b = int(input(\"Enter another integer number: \"))\n",
    "\n",
    "summation = lambda x, y: x + y\n",
    "multiply = lambda x, y: x * y\n",
    "\n",
    "print('Multiplication = {}, addition = {}'.format(summation(3,4) , multiply(3, 4)))\n"
   ]
  },
  {
   "cell_type": "markdown",
   "metadata": {},
   "source": [
    "#  <font color='blue'>3. WRITE A FUNCTION THAT TAKES A VARIABLE AND RETURNS ITS FACTORIAL </font> "
   ]
  },
  {
   "cell_type": "code",
   "execution_count": 11,
   "metadata": {},
   "outputs": [
    {
     "name": "stdout",
     "output_type": "stream",
     "text": [
      "Enter a number4\n",
      "The factorial of 4 is 24\n"
     ]
    }
   ],
   "source": [
    "def factorial(x):\n",
    "    if x == 0:\n",
    "        return 1\n",
    "    return x * factorial(x - 1)\n",
    "\n",
    "\n",
    "a = int(input(\"Enter a number\"))\n",
    "print(\"The factorial of {} is {}\".format(a, factorial(a)))"
   ]
  },
  {
   "cell_type": "markdown",
   "metadata": {},
   "source": [
    "# <font color='blue'> 4. DEVELOP A SCIPT WHOSE ITEMS ARE SQUARES OF THE ORIGINAL LIST </font> "
   ]
  },
  {
   "cell_type": "code",
   "execution_count": 32,
   "metadata": {},
   "outputs": [
    {
     "name": "stdout",
     "output_type": "stream",
     "text": [
      "[1, 4, 9, 16, 25, 36, 49, 64, 81, 100, 121, 144, 169, 196, 225, 256, 289, 324, 361, 400]\n"
     ]
    }
   ],
   "source": [
    "my_list = range(1, 21)\n",
    "print([ x ** 2 for x in my_list])"
   ]
  },
  {
   "cell_type": "markdown",
   "metadata": {},
   "source": [
    "# <font color='blue'> 5. WRITE A FUNCTION THAT SQUARES A VARIABLE AND THEN APPLY THE FUNCTION TO A LIST OF INTEGER NUMBERS RANING FROM -20 to 20"
   ]
  },
  {
   "cell_type": "code",
   "execution_count": 1,
   "metadata": {},
   "outputs": [
    {
     "name": "stdout",
     "output_type": "stream",
     "text": [
      "[400, 361, 324, 289, 256, 225, 196, 169, 144, 121, 100, 81, 64, 49, 36, 25, 16, 9, 4, 1, 0, 1, 4, 9, 16, 25, 36, 49, 64, 81, 100, 121, 144, 169, 196, 225, 256, 289, 324, 361, 400]\n"
     ]
    }
   ],
   "source": [
    "def squared(x):\n",
    "    return (x*x)\n",
    "\n",
    "numbers = range(-20, 21)\n",
    "numbers_squared = list(map(lambda x: squared(x), numbers))\n",
    "print(numbers_squared)"
   ]
  },
  {
   "cell_type": "markdown",
   "metadata": {},
   "source": [
    "# <font color='blue'> 6. WRITE 3 FUNCTIONS THAT TAKE THE RADIUS OF A CIRCLE AND RETURN THE DIAMETER, AREA AND CIRCUMFERENCE, TEST THE FUNCTION USING AN INPUT FROM A USER "
   ]
  },
  {
   "cell_type": "code",
   "execution_count": 36,
   "metadata": {},
   "outputs": [
    {
     "name": "stdout",
     "output_type": "stream",
     "text": [
      "circle diameter: 10\n",
      "circle area: 78.53981633974483\n",
      "circle circumference: 31.41592653589793\n"
     ]
    }
   ],
   "source": [
    "import math \n",
    "\n",
    "def circle_diameter(radius):\n",
    "    return 2 * radius       \n",
    "\n",
    "def circle_area(radius):\n",
    "    return math.pi * radius**2   \n",
    "\n",
    "def circle_circumference(radius):\n",
    "    return 2 * math.pi * radius        \n",
    "\n"
   ]
  },
  {
   "cell_type": "code",
   "execution_count": 37,
   "metadata": {},
   "outputs": [
    {
     "name": "stdout",
     "output_type": "stream",
     "text": [
      "Enter a radius of a circle4\n",
      "circle diameter: 8\n",
      "circle area: 50.26548245743669\n",
      "circle circumference: 25.132741228718345\n"
     ]
    }
   ],
   "source": [
    "r = int(input(\"Enter a radius of a circle\"))\n",
    "print('circle diameter:', circle_diameter(r))\n",
    "print('circle area:', circle_area(r))\n",
    "print('circle circumference:', circle_circumference(r))\n",
    "\n"
   ]
  },
  {
   "cell_type": "markdown",
   "metadata": {},
   "source": [
    "# <font color='blue'> 7. WRITE A CODE THAT TAKES A RANGE FROM A USER (UPPER AND LOWER BOUND) AND RETURNS A LIST OF POSITIVE AND EVEN NUMBERS ONLY"
   ]
  },
  {
   "cell_type": "code",
   "execution_count": 56,
   "metadata": {},
   "outputs": [
    {
     "name": "stdout",
     "output_type": "stream",
     "text": [
      "Enter a number (lower bound) *must be negative* : -30\n",
      "Enter a number (Upper bound: 50\n",
      "[2, 4, 6, 8, 10, 12, 14, 16, 18, 20, 22, 24, 26, 28, 30, 32, 34, 36, 38, 40, 42, 44, 46, 48]\n"
     ]
    }
   ],
   "source": [
    "min = int(input(\"Enter a number (lower bound) *must be negative* : \"))\n",
    "max = int(input(\"Enter a number (Upper bound: \"))\n",
    "\n",
    "numbers = range(min, max)\n",
    "greater_than_zero = list(filter(lambda x: (x > 0 and x%2==0), numbers))\n",
    "print(greater_than_zero)\n"
   ]
  },
  {
   "cell_type": "markdown",
   "metadata": {},
   "source": [
    "# <font color='blue'> 8. USING FILTER AND LAMBDA EXPRESSION, WRITE A CODE THAT TAKES A LIST OF NUMBERS BELOW AND RETURNS EVEN NUMBERS ONLY"
   ]
  },
  {
   "cell_type": "code",
   "execution_count": 39,
   "metadata": {},
   "outputs": [
    {
     "name": "stdout",
     "output_type": "stream",
     "text": [
      "Numbers divisible by 2 are [6, 22, 120, 220, 200]\n"
     ]
    }
   ],
   "source": [
    "numbers = [6, 17, 55, 22, 120, 59, 220, 200, 1]\n",
    "\n",
    "# filter creates a list of elements for which a function returns true\n",
    "even = list(filter(lambda x: (x % 2 == 0), numbers))\n",
    "\n",
    "print(\"Numbers divisible by 2 are\", even)"
   ]
  },
  {
   "cell_type": "markdown",
   "metadata": {},
   "source": [
    "# <font color='blue'> 9. WRITE A FUNCTION THAT TAKES TWO NUMPY MATRICES AND RETURN THE ADDITION, SUBTRACTION, TRANSPOSE, PRODUCT, DOT PRODUCT"
   ]
  },
  {
   "cell_type": "code",
   "execution_count": 40,
   "metadata": {},
   "outputs": [],
   "source": [
    "def matrix_operations(a, b):\n",
    "  \n",
    "    print (\"Matrices Addition = \\n\", np.add(a, b)) \n",
    "  \n",
    "    print (\"Matrices Subtraction = \\n\", np.subtract(a, b)) \n",
    "  \n",
    "    print (\"Matrices Multiplication = \\n\", np.divide(a, b)) \n",
    "\n",
    "    print (\"Matrix A Transpose = \\n\", a.T) \n",
    "    \n",
    "    print (\"Matrix B Transpose = \\n\", b.T) \n",
    "\n",
    "    print (\"Element by element multiplication = \\n\", np.multiply(a,b)) \n",
    "\n",
    "    print (\"Matrices Product = \\n\", np.dot(a,b)) \n",
    "\n",
    "    print (\"Element by element square root = \\n\", np.sqrt(a)) \n",
    "\n",
    "    print (\"Summation of all matrix elements A = \\n\", np.sum(a))  \n",
    "    \n",
    "    print (\"Summation of all matrix elements B = \\n\", np.sum(b)) \n",
    "\n",
    "    print (\"Column wise summation of matrix A = \\n \", np.sum(a, axis = 0)) \n",
    "  \n",
    "    print (\"Row wise summation of matrix A = \\n\", np.sum(a, axis = 1)) "
   ]
  },
  {
   "cell_type": "code",
   "execution_count": 28,
   "metadata": {},
   "outputs": [
    {
     "name": "stdout",
     "output_type": "stream",
     "text": [
      "Matrices Addition = \n",
      " [[ 5 12]\n",
      " [ 9 12]]\n",
      "Matrices Subtraction = \n",
      " [[ 1  6]\n",
      " [ 7 -2]]\n",
      "Matrices Multiplication = \n",
      " [[1.5        3.        ]\n",
      " [8.         0.71428571]]\n",
      "Matrix A Transpose = \n",
      " [[3 8]\n",
      " [9 5]]\n",
      "Matrix B Transpose = \n",
      " [[2 1]\n",
      " [3 7]]\n",
      "Element by element multiplication = \n",
      " [[ 6 27]\n",
      " [ 8 35]]\n",
      "Matrices Product = \n",
      " [[15 72]\n",
      " [21 59]]\n",
      "Element by element square root = \n",
      " [[1.73205081 3.        ]\n",
      " [2.82842712 2.23606798]]\n",
      "Summation of all matrix elements A = \n",
      " 25\n",
      "Summation of all matrix elements B = \n",
      " 13\n",
      "Column wise summation of matrix A = \n",
      "  [11 14]\n",
      "Row wise summation of matrix A = \n",
      " [12 13]\n"
     ]
    }
   ],
   "source": [
    "import numpy as np\n",
    "x = np.array([[3, 9], \n",
    "                 [8, 5]]) \n",
    "y = np.array([[2, 3], \n",
    "                 [1, 7]]) \n",
    "matrix_operations(x, y)"
   ]
  },
  {
   "cell_type": "markdown",
   "metadata": {},
   "source": [
    "# <font color='blue'> 10. WRITE A FUNCTION THAT TAKES TWO VALUES FORM A USER AND SUM THEM UP. IF NO VALUES ARE PROVIDED, ASSUME DEFAULT VALUES OF 3 AND 5"
   ]
  },
  {
   "cell_type": "code",
   "execution_count": 42,
   "metadata": {},
   "outputs": [
    {
     "data": {
      "text/plain": [
       "9"
      ]
     },
     "execution_count": 42,
     "metadata": {},
     "output_type": "execute_result"
    }
   ],
   "source": [
    "def summation(x=4, y=5):\n",
    "    return x + y\n",
    "\n",
    "summation(5, 7)\n",
    "\n",
    "summation()"
   ]
  },
  {
   "cell_type": "markdown",
   "metadata": {},
   "source": [
    "# <font color='blue'> 11. WRITE A SCRIPT THAT WILL PROMPT A USER FOR A RANGE (MIN/MAX VALUE) AND RETURNS NUMBERS THAT ARE DIVISIBLE BY 4 BUT ARE NOT MULTIPLES OF 3 "
   ]
  },
  {
   "cell_type": "code",
   "execution_count": null,
   "metadata": {},
   "outputs": [],
   "source": [
    "min = int(input(\"Enter min range (window of numbers to look for!): \"))\n",
    "max = int(input(\"Enter max range: \"))\n",
    "\n",
    "my_numbers =[]\n",
    "for i in range(min, max):\n",
    "    if (i%4==0) and (i%3!=0):\n",
    "        my_numbers.append(str(i))\n",
    "print(my_numbers)"
   ]
  },
  {
   "cell_type": "markdown",
   "metadata": {},
   "source": [
    "# <font color='blue'> 12. DEFINE AN ENGLISH TO FRENCH TRANSLATOR FUNCTION THAT TAKES AN INPUT FROM A USER AND RETURNS THE TRANSLATION, USE ANY 5 KNOWN WORDS"
   ]
  },
  {
   "cell_type": "code",
   "execution_count": 69,
   "metadata": {},
   "outputs": [],
   "source": [
    "eng_french = {'happy': 'heureux', \n",
    "             'success': 'Succès', \n",
    "             'studying': 'en train d\\'étudier',\n",
    "             'traveling': 'en voyageant',\n",
    "             'love': 'amour'}\n",
    "\n",
    "def dictionary_English2Frensh(word):\n",
    "    try:\n",
    "        return eng_french[word]\n",
    "    except KeyError:\n",
    "        return \"Dictionary does not contain this word\"\n"
   ]
  },
  {
   "cell_type": "code",
   "execution_count": 71,
   "metadata": {},
   "outputs": [
    {
     "name": "stdout",
     "output_type": "stream",
     "text": [
      "Enter a word in english: HAPPY\n",
      "heureux\n"
     ]
    }
   ],
   "source": [
    "word = input(\"Enter a word in english: \").lower()\n",
    "print(dictionary_English2Frensh(word))\n"
   ]
  },
  {
   "cell_type": "markdown",
   "metadata": {},
   "source": [
    "# NOW YOU SHOULD BE FAMILIAR WITH FUNCTIONS, GREAT JOB!"
   ]
  },
  {
   "cell_type": "code",
   "execution_count": null,
   "metadata": {},
   "outputs": [],
   "source": []
  }
 ],
 "metadata": {
  "kernelspec": {
   "display_name": "Python 3",
   "language": "python",
   "name": "python3"
  },
  "language_info": {
   "codemirror_mode": {
    "name": "ipython",
    "version": 3
   },
   "file_extension": ".py",
   "mimetype": "text/x-python",
   "name": "python",
   "nbconvert_exporter": "python",
   "pygments_lexer": "ipython3",
   "version": "3.6.5"
  }
 },
 "nbformat": 4,
 "nbformat_minor": 2
}
