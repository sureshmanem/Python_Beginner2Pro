{
 "cells": [
  {
   "cell_type": "markdown",
   "metadata": {},
   "source": [
    "# PYTHON PROGRAMMING FUNDAMENTALS\n"
   ]
  },
  {
   "cell_type": "markdown",
   "metadata": {},
   "source": [
    "# FUNCTIONS\n",
    "- A function is a block of code that can run whenever it is called (by the main function for example).\n",
    "- Data or arguments can be passed to the function and also returned from the function. \n"
   ]
  },
  {
   "cell_type": "code",
   "execution_count": 1,
   "metadata": {},
   "outputs": [],
   "source": [
    "def my_function():\n",
    "  print(\"Hello World, I just wrote my first function!\")"
   ]
  },
  {
   "cell_type": "code",
   "execution_count": 2,
   "metadata": {},
   "outputs": [
    {
     "name": "stdout",
     "output_type": "stream",
     "text": [
      "Hello World, I just wrote my first function!\n"
     ]
    }
   ],
   "source": [
    "my_function()"
   ]
  },
  {
   "cell_type": "code",
   "execution_count": 8,
   "metadata": {},
   "outputs": [],
   "source": [
    "# Function to return arguments using 'return'\n",
    "def squared(x):\n",
    "  return x**2"
   ]
  },
  {
   "cell_type": "code",
   "execution_count": 9,
   "metadata": {},
   "outputs": [
    {
     "name": "stdout",
     "output_type": "stream",
     "text": [
      "8\n"
     ]
    }
   ],
   "source": [
    "print(squared(2))"
   ]
  },
  {
   "cell_type": "code",
   "execution_count": 10,
   "metadata": {},
   "outputs": [],
   "source": [
    "# default parameter can be used if no argument is passed.\n",
    "\n",
    "def my_function(age = 25):\n",
    "  print(\"I am {} years old\".format(age))"
   ]
  },
  {
   "cell_type": "code",
   "execution_count": 11,
   "metadata": {},
   "outputs": [
    {
     "name": "stdout",
     "output_type": "stream",
     "text": [
      "I am 32 years old\n"
     ]
    }
   ],
   "source": [
    "my_function(32)"
   ]
  },
  {
   "cell_type": "code",
   "execution_count": 12,
   "metadata": {},
   "outputs": [
    {
     "name": "stdout",
     "output_type": "stream",
     "text": [
      "I am 25 years old\n"
     ]
    }
   ],
   "source": [
    "my_function()"
   ]
  },
  {
   "cell_type": "code",
   "execution_count": 13,
   "metadata": {},
   "outputs": [],
   "source": [
    "def greetings_function(name, greeting):\n",
    "    print(\"Happy New Year {}!, I wish you {}\".format(name, greeting))"
   ]
  },
  {
   "cell_type": "code",
   "execution_count": 14,
   "metadata": {},
   "outputs": [
    {
     "name": "stdout",
     "output_type": "stream",
     "text": [
      "Happy New Year Mitch Steve!, I wish you happiness!\n"
     ]
    }
   ],
   "source": [
    "greetings_function(\"Mitch Steve\", \"happiness!\")\n"
   ]
  },
  {
   "cell_type": "code",
   "execution_count": 15,
   "metadata": {},
   "outputs": [
    {
     "name": "stdout",
     "output_type": "stream",
     "text": [
      "Happy New Year Laila!, I wish you Happiness\n",
      "Happy New Year Mitch!, I wish you Success\n",
      "Happy New Year Chanel!, I wish you Love\n",
      "Happy New Year Steve!, I wish you Wealth\n",
      "Happy New Year Cynthia!, I wish you Health\n"
     ]
    }
   ],
   "source": [
    "name_list = ['Laila', 'Mitch', 'Chanel', 'Steve', 'Cynthia']\n",
    "greetings_list = ['Happiness', 'Success', 'Love', 'Wealth', 'Health']\n",
    "\n",
    "for i, j in zip(name_list, greetings_list):\n",
    "    greetings_function(i, j)"
   ]
  },
  {
   "cell_type": "code",
   "execution_count": null,
   "metadata": {},
   "outputs": [],
   "source": [
    "def summation(x=1, y=2):\n",
    "    return x + y"
   ]
  },
  {
   "cell_type": "code",
   "execution_count": null,
   "metadata": {},
   "outputs": [],
   "source": [
    "summation(5, 7)"
   ]
  },
  {
   "cell_type": "code",
   "execution_count": null,
   "metadata": {},
   "outputs": [],
   "source": [
    "summation()"
   ]
  },
  {
   "cell_type": "code",
   "execution_count": null,
   "metadata": {},
   "outputs": [],
   "source": [
    "import math \n",
    "\n",
    "def circle_diameter(radius):\n",
    "    return 2 * radius       \n",
    "\n",
    "def circle_area(radius):\n",
    "    return math.pi * radius**2   \n",
    "\n",
    "def circle_circumference(radius):\n",
    "    return 2 * math.pi * radius        \n",
    "\n",
    "r = 5\n",
    "print('circle diameter:', circle_diameter(r))\n",
    "print('circle area:', circle_area(r))\n",
    "print('circle circumference:', circle_circumference(r))\n"
   ]
  },
  {
   "cell_type": "markdown",
   "metadata": {},
   "source": [
    "# KEEP IT UP! YOU SHOULD BE PROUD OF YOUR NEWLY ACQUIRED PROGRAMMING SKILLS!"
   ]
  }
 ],
 "metadata": {
  "kernelspec": {
   "display_name": "Python 3",
   "language": "python",
   "name": "python3"
  },
  "language_info": {
   "codemirror_mode": {
    "name": "ipython",
    "version": 3
   },
   "file_extension": ".py",
   "mimetype": "text/x-python",
   "name": "python",
   "nbconvert_exporter": "python",
   "pygments_lexer": "ipython3",
   "version": "3.6.5"
  }
 },
 "nbformat": 4,
 "nbformat_minor": 2
}
