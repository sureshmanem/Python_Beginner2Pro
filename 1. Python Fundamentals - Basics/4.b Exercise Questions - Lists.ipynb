{
 "cells": [
  {
   "cell_type": "markdown",
   "metadata": {},
   "source": [
    "# <font color='red'> *ABSOLUTE BEGINNER LEVEL* </font> \n",
    "# <font color='red'> LISTS </font> "
   ]
  },
  {
   "cell_type": "markdown",
   "metadata": {},
   "source": [
    "# <font color='blue'> 1. PRINT FIRST, SECOND AND LAST ELEMENT IN THE LIST </font> \n",
    "Remember that the first element of the list has an index of 0"
   ]
  },
  {
   "cell_type": "code",
   "execution_count": 2,
   "metadata": {},
   "outputs": [
    {
     "name": "stdout",
     "output_type": "stream",
     "text": [
      "sara chanel rob\n"
     ]
    }
   ],
   "source": [
    "names = [\"sara\", \"chanel\", \"mike\", \"ryan\", \"holy\", \"alex\", \"rob\"]\n",
    "print(names[0],names[1],names[-1])"
   ]
  },
  {
   "cell_type": "markdown",
   "metadata": {},
   "source": [
    "# <font color='blue'> 2. PRINT (1) ALL ELEMENTS IN THE LIST, (2) \"chanel\" \"mitch\" \"ryan\", (3) FIRST THREE ELEMENTS, (4) LAST THREE ELEMENTS, (5) SKIP EACH OTHER ELEMENT </font> "
   ]
  },
  {
   "cell_type": "code",
   "execution_count": 3,
   "metadata": {},
   "outputs": [
    {
     "name": "stdout",
     "output_type": "stream",
     "text": [
      "['sara', 'chanel', 'mitch', 'ryan', 'holy', 'alex', 'rob']\n",
      "['chanel', 'mitch', 'ryan']\n",
      "['sara', 'chanel', 'mitch']\n",
      "['holy', 'alex', 'rob']\n",
      "['sara', 'mitch', 'holy', 'rob']\n"
     ]
    }
   ],
   "source": [
    "names = [\"sara\", \"chanel\", \"mitch\", \"ryan\", \"holy\", \"alex\", \"rob\"]\n",
    "print(names)\n",
    "print(names[1:4])\n",
    "print(names[0:3])\n",
    "print(names[-3:])\n",
    "print(names[::2])"
   ]
  },
  {
   "cell_type": "markdown",
   "metadata": {},
   "source": [
    "# <font color='blue'> 3. PRINT (1) SALLY, (2) SARA, SALLY, JOE (3) ALY (WITH TWO DIFFERENT WAYS) </font> \n"
   ]
  },
  {
   "cell_type": "code",
   "execution_count": 5,
   "metadata": {},
   "outputs": [],
   "source": [
    "my_list = [\"Mitch\", [\"sara\", \"sally\", \"joe\"], \"peter\", \"aly\"]"
   ]
  },
  {
   "cell_type": "code",
   "execution_count": 6,
   "metadata": {},
   "outputs": [
    {
     "name": "stdout",
     "output_type": "stream",
     "text": [
      "sally\n"
     ]
    }
   ],
   "source": [
    "print(my_list[1][1])"
   ]
  },
  {
   "cell_type": "code",
   "execution_count": 7,
   "metadata": {},
   "outputs": [
    {
     "name": "stdout",
     "output_type": "stream",
     "text": [
      "['sara', 'sally', 'joe']\n"
     ]
    }
   ],
   "source": [
    "print(my_list[1])"
   ]
  },
  {
   "cell_type": "code",
   "execution_count": 9,
   "metadata": {},
   "outputs": [
    {
     "name": "stdout",
     "output_type": "stream",
     "text": [
      "aly\n"
     ]
    }
   ],
   "source": [
    "print(my_list[-1])"
   ]
  },
  {
   "cell_type": "code",
   "execution_count": 11,
   "metadata": {},
   "outputs": [
    {
     "name": "stdout",
     "output_type": "stream",
     "text": [
      "['aly']\n"
     ]
    }
   ],
   "source": [
    "print(my_list[-1:])"
   ]
  },
  {
   "cell_type": "markdown",
   "metadata": {},
   "source": [
    "# <font color='blue'> 4. PRINT THE LENGTH OF THE LIST AND ADD YOUR NAME TO THE LIST (EXTERNAL RESEARCH) </font> \n",
    "    - research the method: append()"
   ]
  },
  {
   "cell_type": "code",
   "execution_count": null,
   "metadata": {},
   "outputs": [],
   "source": [
    "my_list = [\"Mitch\", [\"sara\", \"sally\", \"joe\"], \"peter\", \"aly\"]"
   ]
  },
  {
   "cell_type": "code",
   "execution_count": 12,
   "metadata": {},
   "outputs": [
    {
     "name": "stdout",
     "output_type": "stream",
     "text": [
      "4\n"
     ]
    }
   ],
   "source": [
    "print(len(my_list))"
   ]
  },
  {
   "cell_type": "code",
   "execution_count": 13,
   "metadata": {},
   "outputs": [],
   "source": [
    "my_list.append('Suresh')"
   ]
  },
  {
   "cell_type": "code",
   "execution_count": 14,
   "metadata": {},
   "outputs": [
    {
     "name": "stdout",
     "output_type": "stream",
     "text": [
      "['Mitch', ['sara', 'sally', 'joe'], 'peter', 'aly', 'Suresh']\n"
     ]
    }
   ],
   "source": [
    "print(my_list)"
   ]
  },
  {
   "cell_type": "markdown",
   "metadata": {},
   "source": [
    "# <font color='blue'> 5. REMOVE \"PETER\" FROM THE LIST USING TWO DIFFERENT METHODS (EXTERNAL RESEARCH)  </font> \n",
    "    - remove()\n",
    "    - del "
   ]
  },
  {
   "cell_type": "code",
   "execution_count": 18,
   "metadata": {},
   "outputs": [],
   "source": [
    "my_list = [\"Mitch\", [\"sara\", \"sally\", \"joe\"], \"peter\", \"aly\"]"
   ]
  },
  {
   "cell_type": "code",
   "execution_count": 15,
   "metadata": {},
   "outputs": [],
   "source": [
    "my_list.remove('peter')"
   ]
  },
  {
   "cell_type": "code",
   "execution_count": 16,
   "metadata": {},
   "outputs": [
    {
     "data": {
      "text/plain": [
       "['Mitch', ['sara', 'sally', 'joe'], 'aly', 'Suresh']"
      ]
     },
     "execution_count": 16,
     "metadata": {},
     "output_type": "execute_result"
    }
   ],
   "source": [
    "my_list"
   ]
  },
  {
   "cell_type": "code",
   "execution_count": 19,
   "metadata": {},
   "outputs": [],
   "source": [
    "del my_list[2]"
   ]
  },
  {
   "cell_type": "code",
   "execution_count": 20,
   "metadata": {},
   "outputs": [
    {
     "data": {
      "text/plain": [
       "['Mitch', ['sara', 'sally', 'joe'], 'aly']"
      ]
     },
     "execution_count": 20,
     "metadata": {},
     "output_type": "execute_result"
    }
   ],
   "source": [
    "my_list"
   ]
  },
  {
   "cell_type": "code",
   "execution_count": null,
   "metadata": {},
   "outputs": [],
   "source": []
  },
  {
   "cell_type": "markdown",
   "metadata": {},
   "source": [
    "# <font color='blue'> 6. SORT ELEMENTS IN A LIST AND REVERSE ALL ELEMENTS TO GO FROM MAXIMUM TO MINIMUM </font> \n",
    "    - sort()\n",
    "    - reverse()\n",
    "   "
   ]
  },
  {
   "cell_type": "code",
   "execution_count": 21,
   "metadata": {},
   "outputs": [
    {
     "data": {
      "text/plain": [
       "[10, 15, 20, 30, 40, 45, 50]"
      ]
     },
     "execution_count": 21,
     "metadata": {},
     "output_type": "execute_result"
    }
   ],
   "source": [
    "my_list = [50, 20, 30, 10, 40, 15, 45]\n",
    "my_list.sort()\n",
    "my_list"
   ]
  },
  {
   "cell_type": "code",
   "execution_count": 22,
   "metadata": {},
   "outputs": [
    {
     "data": {
      "text/plain": [
       "[50, 45, 40, 30, 20, 15, 10]"
      ]
     },
     "execution_count": 22,
     "metadata": {},
     "output_type": "execute_result"
    }
   ],
   "source": [
    "my_list.reverse()\n",
    "my_list"
   ]
  },
  {
   "cell_type": "markdown",
   "metadata": {},
   "source": [
    "# <font color='blue'> 7. CREATE A NEW LIST THAT CONTAINS THE LAST ELEMENTS IN THE NESTED LISTS </font> \n",
    "   "
   ]
  },
  {
   "cell_type": "code",
   "execution_count": 23,
   "metadata": {},
   "outputs": [
    {
     "data": {
      "text/plain": [
       "[['chips', 'jelly', 'chocolate'],\n",
       " ['sweet potatoes', 'potatoes'],\n",
       " ['peanuts', 'protein bar']]"
      ]
     },
     "execution_count": 23,
     "metadata": {},
     "output_type": "execute_result"
    }
   ],
   "source": [
    "grocery_list = [['chips','jelly','chocolate'],['sweet potatoes','potatoes'],['peanuts','protein bar']]\n",
    "grocery_list"
   ]
  },
  {
   "cell_type": "code",
   "execution_count": 24,
   "metadata": {},
   "outputs": [
    {
     "data": {
      "text/plain": [
       "['chocolate', 'potatoes', 'protein bar']"
      ]
     },
     "execution_count": 24,
     "metadata": {},
     "output_type": "execute_result"
    }
   ],
   "source": [
    "new_list = []\n",
    "new_list.append(grocery_list[0][-1])\n",
    "new_list.append(grocery_list[1][-1])\n",
    "new_list.append(grocery_list[2][-1])\n",
    "new_list"
   ]
  },
  {
   "cell_type": "markdown",
   "metadata": {},
   "source": [
    "# <font color='blue'> 8. CREATE A LIST WITH 5 OF YOUR CLOSEST FRIENDS AND SORT THEM ALPHABETICALLY </font> \n",
    "   "
   ]
  },
  {
   "cell_type": "code",
   "execution_count": 25,
   "metadata": {},
   "outputs": [],
   "source": [
    "family = ['Lallu', 'Janu','Mahi','Sanvi']\n",
    "family.sort()"
   ]
  },
  {
   "cell_type": "code",
   "execution_count": 26,
   "metadata": {},
   "outputs": [
    {
     "data": {
      "text/plain": [
       "['Janu', 'Lallu', 'Mahi', 'Sanvi']"
      ]
     },
     "execution_count": 26,
     "metadata": {},
     "output_type": "execute_result"
    }
   ],
   "source": [
    "family"
   ]
  },
  {
   "cell_type": "markdown",
   "metadata": {},
   "source": [
    "# NOW YOU KNOW HOW LISTS WORK, KEEP IT UP!"
   ]
  }
 ],
 "metadata": {
  "kernelspec": {
   "display_name": "Python 3",
   "language": "python",
   "name": "python3"
  },
  "language_info": {
   "codemirror_mode": {
    "name": "ipython",
    "version": 3
   },
   "file_extension": ".py",
   "mimetype": "text/x-python",
   "name": "python",
   "nbconvert_exporter": "python",
   "pygments_lexer": "ipython3",
   "version": "3.7.6"
  }
 },
 "nbformat": 4,
 "nbformat_minor": 2
}
