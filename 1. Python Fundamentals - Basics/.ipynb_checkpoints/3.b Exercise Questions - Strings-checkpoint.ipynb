{
 "cells": [
  {
   "cell_type": "markdown",
   "metadata": {},
   "source": [
    "# <font color='red'> *ABSOLUTE BEGINNER LEVEL* </font> \n",
    "# <font color='red'> STRINGS </font> "
   ]
  },
  {
   "cell_type": "markdown",
   "metadata": {},
   "source": [
    "#  <font color='blue'>1. WHAT WENT WRONG? FIX THE ISSUE AND INDICATE WHAT DOES THIS CODE DO?  </font> "
   ]
  },
  {
   "cell_type": "code",
   "execution_count": 1,
   "metadata": {},
   "outputs": [
    {
     "name": "stdout",
     "output_type": "stream",
     "text": [
      "Mitch 26 True\n"
     ]
    }
   ],
   "source": [
    "Name = \"Mitch\"\n",
    "Age = 26\n",
    "Full_time_Employee = True\n",
    "\n",
    "print(Name, Age, Full_time_Employee)\n"
   ]
  },
  {
   "cell_type": "markdown",
   "metadata": {},
   "source": [
    "# <font color='blue'> 2. WHAT WENT WRONG? FIX THE ERROR TO GET x-y </font> "
   ]
  },
  {
   "cell_type": "code",
   "execution_count": 2,
   "metadata": {},
   "outputs": [
    {
     "name": "stdout",
     "output_type": "stream",
     "text": [
      "16\n"
     ]
    }
   ],
   "source": [
    "x = 20\n",
    "y = 4\n",
    "\n",
    "print(x - y)\n"
   ]
  },
  {
   "cell_type": "markdown",
   "metadata": {},
   "source": [
    "# <font color='blue'> 3. WRITE A CODE THAT TAKES AN INPUT FROM A USER, SPLITS IT INTO WORDS AND PRINT THEM ON THE SCREEN </font> "
   ]
  },
  {
   "cell_type": "code",
   "execution_count": 3,
   "metadata": {},
   "outputs": [
    {
     "name": "stdout",
     "output_type": "stream",
     "text": [
      "Enter some statementHello How Are You Buyddy\n",
      "['Hello', 'How', 'Are', 'You', 'Buyddy']\n"
     ]
    }
   ],
   "source": [
    "x = input(\"Enter some statement\")\n",
    "y = x.split(' ')\n",
    "print(y)"
   ]
  },
  {
   "cell_type": "code",
   "execution_count": 4,
   "metadata": {},
   "outputs": [
    {
     "data": {
      "text/plain": [
       "['Hello', 'How', 'Are', 'You', 'Buyddy']"
      ]
     },
     "execution_count": 4,
     "metadata": {},
     "output_type": "execute_result"
    }
   ],
   "source": [
    "y"
   ]
  },
  {
   "cell_type": "code",
   "execution_count": null,
   "metadata": {},
   "outputs": [],
   "source": []
  },
  {
   "cell_type": "markdown",
   "metadata": {},
   "source": [
    "# <font color='blue'> 4. WRITE A CODE THAT TAKES AN INPUT FROM A USER, CONVERT IT TO UPPER CASE AND PRINT THEM ON THE SCREEN </font> "
   ]
  },
  {
   "cell_type": "code",
   "execution_count": 18,
   "metadata": {},
   "outputs": [
    {
     "name": "stdout",
     "output_type": "stream",
     "text": [
      "\n",
      "\n"
     ]
    }
   ],
   "source": [
    "x = input(\"Enter some statement\")\n",
    "y = x.uppd\n",
    "print(y)"
   ]
  },
  {
   "cell_type": "markdown",
   "metadata": {},
   "source": [
    "# <font color='blue'> 5. WRITE A CODE THAT PROMPTS A USER REQUESTING HIS/HER E-MAIL AND THEN EXTRACTS THE USERNAME (NOTE THAT THE EMAIL IS IN FIRSTNAME.LASTNAME@GMAIL.COM </font> "
   ]
  },
  {
   "cell_type": "code",
   "execution_count": 21,
   "metadata": {},
   "outputs": [
    {
     "name": "stdout",
     "output_type": "stream",
     "text": [
      "Enter your e-mail address:ryan.ahmed@gmail.com\n",
      "ryan.ahmed\n"
     ]
    }
   ],
   "source": []
  },
  {
   "cell_type": "markdown",
   "metadata": {},
   "source": [
    "# <font color='blue'> 6. EXPAND ON THE PERVIOUS CODE TO PRINT \"HELLO FIRSTNAME LASTNAME\" </font> \n",
    "\n"
   ]
  },
  {
   "cell_type": "code",
   "execution_count": 24,
   "metadata": {},
   "outputs": [
    {
     "name": "stdout",
     "output_type": "stream",
     "text": [
      "Enter your e-mail address:ryan.ahmed@gmail.com\n",
      "Hello ryan ahmed \n"
     ]
    }
   ],
   "source": []
  },
  {
   "cell_type": "code",
   "execution_count": 23,
   "metadata": {},
   "outputs": [
    {
     "data": {
      "text/plain": [
       "['ryan', 'ahmed']"
      ]
     },
     "execution_count": 23,
     "metadata": {},
     "output_type": "execute_result"
    }
   ],
   "source": []
  },
  {
   "cell_type": "markdown",
   "metadata": {},
   "source": [
    "# <font color='blue'> 7. WRITE A CODE THAT REQUESTS THE FIRST, LAST NAME, AND AGE AND PRINTS\n",
    "    - HELLO \"FIRST NAME\" \"LAST NAME\", YOU ARE NOW \"AGE\", FYI: AGE IS JUST A NUMBER, YOU ARE YOUNGER THAN EVER!  </font> \n",
    "\n"
   ]
  },
  {
   "cell_type": "code",
   "execution_count": null,
   "metadata": {},
   "outputs": [],
   "source": []
  },
  {
   "cell_type": "code",
   "execution_count": 29,
   "metadata": {},
   "outputs": [
    {
     "name": "stdout",
     "output_type": "stream",
     "text": [
      "Enter your first name:ds\n",
      "Enter your last name:sd\n",
      "Enter your ages\n",
      "Hello ds sd, you are s, FYI: Age is just a number, you are younger than ever!\n"
     ]
    }
   ],
   "source": []
  },
  {
   "cell_type": "markdown",
   "metadata": {},
   "source": [
    "# <font color='blue'> # 8. REPEAT THE PREVIOUS EXERCISE BUT PRTNT THE NAME AND AGE IN A NEW LINE. (RESEARCH HOW TO PRINT IN A NEW LINE)\n",
    "- \\n is used for printing statements in a new line\n",
    "- please read: https://docs.python.org/2/tutorial/introduction.html\n"
   ]
  },
  {
   "cell_type": "code",
   "execution_count": 36,
   "metadata": {},
   "outputs": [
    {
     "name": "stdout",
     "output_type": "stream",
     "text": [
      "Enter your first name:ryan \n",
      "Enter your last name:ahmed\n",
      "Enter your age23\n",
      "Hello ryan  ahmed\n",
      "You are 23\n",
      "FYI: Age is just a number, you are younger than ever!\n"
     ]
    }
   ],
   "source": []
  },
  {
   "cell_type": "code",
   "execution_count": 31,
   "metadata": {},
   "outputs": [
    {
     "name": "stdout",
     "output_type": "stream",
     "text": [
      "first name: {} \n",
      " last name: {}\n"
     ]
    }
   ],
   "source": []
  },
  {
   "cell_type": "markdown",
   "metadata": {},
   "source": [
    "# <font color='blue'> # 9. WRITE A CODE THAT TAKES THE USER E-MAIL AND COUNTS THE NUMBER OF USERNAME CHARACTERS\n",
    "    - please research len() that can be used to obtain the number of charachters in a string \n"
   ]
  },
  {
   "cell_type": "code",
   "execution_count": 39,
   "metadata": {},
   "outputs": [
    {
     "name": "stdout",
     "output_type": "stream",
     "text": [
      "Enter your e-mail address:ryan.ahmed@gmail.com\n",
      "There are 10 characters in your username\n"
     ]
    }
   ],
   "source": []
  },
  {
   "cell_type": "markdown",
   "metadata": {},
   "source": [
    "# <font color='blue'> # 10. WRITE A CODE THAT EXTRACTS THE WORD HELLO FROM \"HELLO WORLD\" IN TWO DIFFERENT WAYS\n",
    "    - please research string slicing: https://www.pythonlearn.com/html-008/cfbook007.html\n"
   ]
  },
  {
   "cell_type": "code",
   "execution_count": 43,
   "metadata": {},
   "outputs": [
    {
     "name": "stdout",
     "output_type": "stream",
     "text": [
      "Hello\n"
     ]
    }
   ],
   "source": []
  },
  {
   "cell_type": "code",
   "execution_count": 44,
   "metadata": {},
   "outputs": [
    {
     "name": "stdout",
     "output_type": "stream",
     "text": [
      "Hello\n"
     ]
    }
   ],
   "source": []
  },
  {
   "cell_type": "markdown",
   "metadata": {},
   "source": [
    "# NOW YOU KNOW HOW STRINGS WORK, KEEP IT UP!"
   ]
  }
 ],
 "metadata": {
  "kernelspec": {
   "display_name": "Python 3",
   "language": "python",
   "name": "python3"
  },
  "language_info": {
   "codemirror_mode": {
    "name": "ipython",
    "version": 3
   },
   "file_extension": ".py",
   "mimetype": "text/x-python",
   "name": "python",
   "nbconvert_exporter": "python",
   "pygments_lexer": "ipython3",
   "version": "3.7.6"
  }
 },
 "nbformat": 4,
 "nbformat_minor": 2
}
