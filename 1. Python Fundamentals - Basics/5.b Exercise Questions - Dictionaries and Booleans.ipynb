{
 "cells": [
  {
   "cell_type": "markdown",
   "metadata": {},
   "source": [
    "# <font color='red'> *ABSOLUTE BEGINNER LEVEL* </font> \n",
    "# <font color='red'> DICTIONARIES AND BOOLEANS </font> "
   ]
  },
  {
   "cell_type": "markdown",
   "metadata": {},
   "source": [
    "# <font color='blue'> 1. CREATE A DICTIONARY WITH 3 OF YOUR FAVOURITE FRIENDS AND THEIR RESPECTIVE AGE AND PRINT OUT THE AGE OF SECOND NAME YOU CHOOSE</font> "
   ]
  },
  {
   "cell_type": "code",
   "execution_count": 3,
   "metadata": {},
   "outputs": [
    {
     "data": {
      "text/plain": [
       "55"
      ]
     },
     "execution_count": 3,
     "metadata": {},
     "output_type": "execute_result"
    }
   ],
   "source": [
    "my_dict = {'Suresh':25,'lallu':23,'junk':55}\n",
    "my_dict['junk']"
   ]
  },
  {
   "cell_type": "markdown",
   "metadata": {},
   "source": [
    "# <font color='blue'> 2. CREATE A DICTIONARY WITH 3 OF YOUR FAVOURITE FRIENDS AND THEIR RESPECTIVE HOURLY WAGE AND OBTAIN THE AVERAGE OF ALL THEIR SALARIES </font> "
   ]
  },
  {
   "cell_type": "code",
   "execution_count": 4,
   "metadata": {},
   "outputs": [
    {
     "name": "stdout",
     "output_type": "stream",
     "text": [
      "78\n"
     ]
    }
   ],
   "source": [
    "my_dict = {'Suresh':25,'lallu':23,'junk':27}\n",
    "print((my_dict['junk']+my_dict['Suresh']+my_dict['lallu'])+3)"
   ]
  },
  {
   "cell_type": "markdown",
   "metadata": {},
   "source": [
    "# <font color='blue'> 3. UPDATE THE PREVIOUS DICTIONARY WITH TWO OF YOUR NEXT FAVOURITE FRIENDS AND THEIR RESPECTIVE SALARIES AND OBTAIN THE AVERAGE OF ALL THEIR SALARIES </font> "
   ]
  },
  {
   "cell_type": "code",
   "execution_count": 7,
   "metadata": {},
   "outputs": [
    {
     "name": "stdout",
     "output_type": "stream",
     "text": [
      "27.4\n"
     ]
    }
   ],
   "source": [
    "my_dict = {'Suresh':25,'lallu':23,'junk':27}\n",
    "my_dict['jaanu'] = 30\n",
    "my_dict['mahi']=32\n",
    "print((my_dict['junk']+my_dict['Suresh']+my_dict['lallu']+my_dict['jaanu']+my_dict['mahi'])/5)"
   ]
  },
  {
   "cell_type": "code",
   "execution_count": 6,
   "metadata": {},
   "outputs": [
    {
     "name": "stdout",
     "output_type": "stream",
     "text": [
      "27.4\n"
     ]
    }
   ],
   "source": [
    "print(sum(my_dict.values())/5)"
   ]
  },
  {
   "cell_type": "markdown",
   "metadata": {},
   "source": [
    "# <font color='blue'> 4. WRITE A CODE THAT MULTIPLIES ALL THE ELEMENTS IN THE FOLLOWING DICTIONARY"
   ]
  },
  {
   "cell_type": "code",
   "execution_count": 8,
   "metadata": {},
   "outputs": [
    {
     "name": "stdout",
     "output_type": "stream",
     "text": [
      "-1500000\n"
     ]
    }
   ],
   "source": [
    "my_dict = {'data1':500,\n",
    "           'data2':-10,\n",
    "           'data3':300}\n",
    "total = 1\n",
    "\n",
    "total = total * my_dict['data1']\n",
    "total = total * my_dict['data2']\n",
    "total = total * my_dict['data3']\n",
    "\n",
    "print(total)"
   ]
  },
  {
   "cell_type": "markdown",
   "metadata": {},
   "source": [
    "# <font color='blue'> 5. FOR EACH OF THE STUDENTS LIST BELOW, CALCULATE THE AVERAGE MARK FOR THE MIDTERM AND FINAL EXAMS FOR EACH STUDENT AND PUT THE AVERAGE IN A SEPARATE DICTIONARY ALONG WITH WITH THE STUDENT ID "
   ]
  },
  {
   "cell_type": "code",
   "execution_count": 14,
   "metadata": {},
   "outputs": [
    {
     "name": "stdout",
     "output_type": "stream",
     "text": [
      "[{'average': 102.5, 'student_id': 1},\n",
      " {'average': 119.0, 'student_id': 2},\n",
      " {'average': 132.5, 'student_id': 3}]\n"
     ]
    }
   ],
   "source": [
    "student_details = [\n",
    "  {'student_id' : 1, 'subject' : 'math', 'midterm' : 60, 'final' : 85},\n",
    "  {'student_id' : 2, 'subject' : 'math', 'midterm' : 80, 'final' : 78},\n",
    "  {'student_id' : 3, 'subject' : 'math', 'midterm' : 90, 'final' : 85}\n",
    "]\n",
    "\n",
    "average_1 = student_details[0]['midterm']+student_details[0]['final']/2\n",
    "average_2 = student_details[1]['midterm']+student_details[1]['final']/2\n",
    "average_3 = student_details[2]['midterm']+student_details[2]['final']/2\n",
    "\n",
    "my_average = [{'student_id':1,'average':average_1},\n",
    "             {'student_id':2,'average':average_2},\n",
    "             {'student_id':3,'average':average_3}]\n",
    "\n",
    "\n",
    "from pprint import pprint\n",
    "\n",
    "pprint(my_average)"
   ]
  },
  {
   "cell_type": "markdown",
   "metadata": {},
   "source": [
    "# <font color='blue'> 6. REPEAT THE PREVIOUS EXERCISE BUT ADD THE AVERAGE IN A NEW DICTINARY LINE WITH \"AVERAGE\" AS A KEY"
   ]
  },
  {
   "cell_type": "code",
   "execution_count": null,
   "metadata": {},
   "outputs": [],
   "source": []
  },
  {
   "cell_type": "markdown",
   "metadata": {},
   "source": [
    "# <font color='blue'> 7. SQUARE EACH ELEMENT IN THE FOLLOWING DICTIONARY"
   ]
  },
  {
   "cell_type": "code",
   "execution_count": null,
   "metadata": {},
   "outputs": [],
   "source": [
    "dictionary = {'C1' : [10,20,30],\n",
    "              'C2' : [20,30,40]}\n",
    "\n"
   ]
  },
  {
   "cell_type": "code",
   "execution_count": null,
   "metadata": {},
   "outputs": [],
   "source": []
  },
  {
   "cell_type": "markdown",
   "metadata": {},
   "source": [
    "# <font color='blue'>  8. CREATE A LIST OF ALL KEYS AND A LIST OF ALL VALUES AND THE TOTAL SUM OF ALL VALUES "
   ]
  },
  {
   "cell_type": "code",
   "execution_count": null,
   "metadata": {},
   "outputs": [],
   "source": [
    "my_salary = {\"alex\": 25, \"sally\": 28, \"dina\": 30}\n"
   ]
  },
  {
   "cell_type": "code",
   "execution_count": null,
   "metadata": {},
   "outputs": [],
   "source": []
  },
  {
   "cell_type": "code",
   "execution_count": null,
   "metadata": {},
   "outputs": [],
   "source": []
  },
  {
   "cell_type": "code",
   "execution_count": null,
   "metadata": {},
   "outputs": [],
   "source": []
  },
  {
   "cell_type": "code",
   "execution_count": null,
   "metadata": {},
   "outputs": [],
   "source": []
  },
  {
   "cell_type": "code",
   "execution_count": null,
   "metadata": {},
   "outputs": [],
   "source": []
  },
  {
   "cell_type": "markdown",
   "metadata": {},
   "source": [
    "# <font color='blue'>  9. OBTAIN THE LENGTH OF THE FOLLOWING DICTIONARY AND SORT ITS ELEMENTS"
   ]
  },
  {
   "cell_type": "code",
   "execution_count": null,
   "metadata": {},
   "outputs": [],
   "source": [
    "my_dict = {\"sally\": 23, \"dina\": 22, \"holy\": 50, \"Joe\": 10, \"Peter\": 44}\n"
   ]
  },
  {
   "cell_type": "markdown",
   "metadata": {},
   "source": [
    "# <font color='blue'> 10. FILTER OUT VALUES THAT ARE GREATER THAN OR EQUAL TO 30 (ADVANCED)(TO BE COVERED) </font> "
   ]
  },
  {
   "cell_type": "code",
   "execution_count": null,
   "metadata": {},
   "outputs": [],
   "source": [
    "my_dictionary = {\"Key 1\": 20, \"Key 2\": 30, \"Key 3\": 50}\n"
   ]
  },
  {
   "cell_type": "markdown",
   "metadata": {},
   "source": [
    "# <font color='blue'> 11. WHAT WILL THIS CODE GENERATE? </font> "
   ]
  },
  {
   "cell_type": "code",
   "execution_count": null,
   "metadata": {},
   "outputs": [],
   "source": [
    "x = 10\n",
    "y = 20\n",
    "print(x>y)\n",
    "print(x<y)\n",
    "print(x==y)\n",
    "print(x!=y)\n"
   ]
  },
  {
   "cell_type": "markdown",
   "metadata": {},
   "source": [
    "# NOW YOU SHOULD BE FAMILIAR WITH DICTIONARIES, GREAT JOB!"
   ]
  }
 ],
 "metadata": {
  "kernelspec": {
   "display_name": "Python 3",
   "language": "python",
   "name": "python3"
  },
  "language_info": {
   "codemirror_mode": {
    "name": "ipython",
    "version": 3
   },
   "file_extension": ".py",
   "mimetype": "text/x-python",
   "name": "python",
   "nbconvert_exporter": "python",
   "pygments_lexer": "ipython3",
   "version": "3.7.6"
  }
 },
 "nbformat": 4,
 "nbformat_minor": 2
}
