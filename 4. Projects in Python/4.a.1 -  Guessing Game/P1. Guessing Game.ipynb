{
 "cells": [
  {
   "cell_type": "markdown",
   "metadata": {},
   "source": [
    "## The Guessing Game"
   ]
  },
  {
   "cell_type": "code",
   "execution_count": 12,
   "metadata": {},
   "outputs": [],
   "source": [
    "import random\n",
    "true_number = random.randint(1, 99)\n",
    "#true_number"
   ]
  },
  {
   "cell_type": "code",
   "execution_count": 13,
   "metadata": {},
   "outputs": [
    {
     "name": "stdout",
     "output_type": "stream",
     "text": [
      "Enter your guess between 1 and 49: 25\n"
     ]
    }
   ],
   "source": [
    "guess_number = int(input(\"Enter your guess between 1 and 49: \"))\n",
    "#guess_number"
   ]
  },
  {
   "cell_type": "code",
   "execution_count": 14,
   "metadata": {},
   "outputs": [
    {
     "name": "stdout",
     "output_type": "stream",
     "text": [
      "YOUR GUESS IS LOW, TRY AGAIN\n",
      "Enter your guess between 1 and 99: 50\n",
      "YOUR GUESS IS LOW, TRY AGAIN\n",
      "Enter your guess between 1 and 99: 75\n",
      "YOUR GUESS IS HIGH, TRY AGAIN\n",
      "Enter an integer from 1 and 99: 60\n",
      "YOUR GUESS IS HIGH, TRY AGAIN\n",
      "Enter an integer from 1 and 99: 55\n",
      "YOUR GUESS IS LOW, TRY AGAIN\n",
      "Enter your guess between 1 and 99: 56\n",
      "YOUR GUESS IS LOW, TRY AGAIN\n",
      "Enter your guess between 1 and 99: 57\n",
      "YOUR GUESS IS LOW, TRY AGAIN\n",
      "Enter your guess between 1 and 99: 58\n",
      "YOUR GUESS IS LOW, TRY AGAIN\n",
      "Enter your guess between 1 and 99: 59\n",
      "GOOD JOB! Your guess is right after 9 tries\n"
     ]
    }
   ],
   "source": [
    "total_tries = 1\n",
    "while True:\n",
    "    if guess_number == true_number:\n",
    "        print('GOOD JOB! Your guess is right after {} tries'.format(total_tries))\n",
    "        break\n",
    "    \n",
    "    elif guess_number < true_number:\n",
    "        print('YOUR GUESS IS LOW, TRY AGAIN')\n",
    "        guess_number = int(input(\"Enter your guess between 1 and 99: \"))\n",
    "        total_tries += 1\n",
    "              \n",
    "    elif guess_number > true_number:\n",
    "        print('YOUR GUESS IS HIGH, TRY AGAIN')\n",
    "        guess_number = int(input(\"Enter an integer from 1 and 99: \"))\n",
    "        total_tries += 1"
   ]
  },
  {
   "cell_type": "code",
   "execution_count": null,
   "metadata": {},
   "outputs": [],
   "source": []
  }
 ],
 "metadata": {
  "kernelspec": {
   "display_name": "Python 3",
   "language": "python",
   "name": "python3"
  },
  "language_info": {
   "codemirror_mode": {
    "name": "ipython",
    "version": 3
   },
   "file_extension": ".py",
   "mimetype": "text/x-python",
   "name": "python",
   "nbconvert_exporter": "python",
   "pygments_lexer": "ipython3",
   "version": "3.7.6"
  }
 },
 "nbformat": 4,
 "nbformat_minor": 2
}
