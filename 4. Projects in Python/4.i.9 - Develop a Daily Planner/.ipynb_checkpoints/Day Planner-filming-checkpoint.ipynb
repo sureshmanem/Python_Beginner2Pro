{
 "cells": [
  {
   "cell_type": "markdown",
   "metadata": {},
   "source": [
    "#  ASSUME THAT YOU ARE A UNIVERSITY STUDENT AND YOU WOULD LIKE TO DEVELOP A DAY PLANNER, WRITE A CODE THAT:\n",
    "<font color='blue'>A. TAKES A USERNAME AND PASSWORD FROM A USER, GRANT OR DENY ACCESS </font> \n",
    "<font color='blue'>B. ONCE ACCESS IS GRANTED, THE SYSTEM REQUESTS TO GET THE TIME OF THE DAY FROM A USER </font> \n",
    "<font color='blue'>C. THE SYSTEM THEN PROVIDES THE USER WITH DETAILS ON THE LECTURE TITLE AND LOCATION </font> \n",
    "<font color='blue'>D. THE PROGRAM THEN PROVIDES THE STUDENT WITH PREVIOUS LECTURE NOTES, THE NOTES ARE CONTAINED IN THE PROVIDED FILE NAMED \"LECTURE NOTES.TXT\""
   ]
  },
  {
   "cell_type": "code",
   "execution_count": 15,
   "metadata": {},
   "outputs": [],
   "source": [
    "def day_planner(time_h_now):\n",
    "    daily_task = {10: 'Programming Lecture, Room A', \n",
    "                  12: 'Computer Vision Lecture, Room C', \n",
    "                  13: 'Lunch Time, Cafeteria! (Fun time)', \n",
    "                  15: 'Group Project Meeting, Room E'}\n",
    "    \n",
    "    for task_time in daily_task.keys():\n",
    "        if time_h_now <=task_time:\n",
    "            print('You should attend:', daily_task[task_time])\n",
    "            break"
   ]
  },
  {
   "cell_type": "code",
   "execution_count": 16,
   "metadata": {},
   "outputs": [
    {
     "name": "stdout",
     "output_type": "stream",
     "text": [
      "Enter UsernameRyan\n",
      "Enter your password········\n",
      "Access granted, Welcome to the system!\n",
      "What's the time now? please use 24h format [8:00 AM and 3:00 PM] [8:00 - 15:00]14\n",
      "You should attend: Group Project Meeting, Room E\n",
      "\n",
      "Lecture Notes\n",
      "Date: 2016/10/25\n",
      "Professor: Mitch Robert\n",
      "Lecture 1: Programming Basics\n",
      "\n",
      "Coding Exercise #1\n",
      "kmh = int(input(\"Enter speed in km/h: \"))\n",
      "mph =  0.6214 * kmh\n",
      "print(\"Speed in Km per hour =\", kmh, \"KM/H\")\n",
      "print(\"Speed in Miles per hour =\", mph, \"MPH\")\n"
     ]
    }
   ],
   "source": [
    "import getpass\n",
    "\n",
    "username = \"Ryan\"\n",
    "password = \"ysk%123\"\n",
    "\n",
    "\n",
    "input_username = input(\"Enter Username\")\n",
    "# input_password = input('Enter your password')\n",
    "input_password = getpass.getpass('Enter your password')\n",
    "\n",
    "\n",
    "if username == input_username and input_password == password:\n",
    "    print('Access granted, Welcome to the system!')\n",
    "    \n",
    "    time_h_now = float(input(\"What's the time now? please use 24h format [8:00 AM and 3:00 PM] [8:00 - 15:00]\"))\n",
    "    day_planner(time_h_now)\n",
    "    \n",
    "    \n",
    "    myfile = open('Lecture_Notes.txt')\n",
    "    print(myfile.read())\n",
    "    \n",
    "else:\n",
    "    print('Username or password is not correct, access denied')\n"
   ]
  },
  {
   "cell_type": "code",
   "execution_count": 6,
   "metadata": {},
   "outputs": [
    {
     "data": {
      "text/plain": [
       "10.0"
      ]
     },
     "execution_count": 6,
     "metadata": {},
     "output_type": "execute_result"
    }
   ],
   "source": [
    "time_h_now"
   ]
  },
  {
   "cell_type": "code",
   "execution_count": null,
   "metadata": {},
   "outputs": [],
   "source": []
  }
 ],
 "metadata": {
  "kernelspec": {
   "display_name": "Python 3",
   "language": "python",
   "name": "python3"
  },
  "language_info": {
   "codemirror_mode": {
    "name": "ipython",
    "version": 3
   },
   "file_extension": ".py",
   "mimetype": "text/x-python",
   "name": "python",
   "nbconvert_exporter": "python",
   "pygments_lexer": "ipython3",
   "version": "3.6.5"
  }
 },
 "nbformat": 4,
 "nbformat_minor": 2
}
